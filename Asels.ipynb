{
 "cells": [
  {
   "cell_type": "code",
   "execution_count": 1,
   "id": "2ecfcac1-e605-41f7-a7c4-cf7a80cd3f62",
   "metadata": {},
   "outputs": [
    {
     "data": {
      "text/html": [
       "<div>\n",
       "<style scoped>\n",
       "    .dataframe tbody tr th:only-of-type {\n",
       "        vertical-align: middle;\n",
       "    }\n",
       "\n",
       "    .dataframe tbody tr th {\n",
       "        vertical-align: top;\n",
       "    }\n",
       "\n",
       "    .dataframe thead th {\n",
       "        text-align: right;\n",
       "    }\n",
       "</style>\n",
       "<table border=\"1\" class=\"dataframe\">\n",
       "  <thead>\n",
       "    <tr style=\"text-align: right;\">\n",
       "      <th></th>\n",
       "      <th>Country</th>\n",
       "      <th>Ladder Score</th>\n",
       "      <th>Freedom</th>\n",
       "      <th>GDP</th>\n",
       "      <th>Life Expectancy</th>\n",
       "      <th>Generosity</th>\n",
       "      <th>Year</th>\n",
       "      <th>Regional indicator</th>\n",
       "    </tr>\n",
       "  </thead>\n",
       "  <tbody>\n",
       "    <tr>\n",
       "      <th>0</th>\n",
       "      <td>Finland</td>\n",
       "      <td>7.842</td>\n",
       "      <td>0.949</td>\n",
       "      <td>10.775</td>\n",
       "      <td>72.000</td>\n",
       "      <td>-0.098</td>\n",
       "      <td>2021</td>\n",
       "      <td>Western Europe</td>\n",
       "    </tr>\n",
       "    <tr>\n",
       "      <th>1</th>\n",
       "      <td>Denmark</td>\n",
       "      <td>7.620</td>\n",
       "      <td>0.946</td>\n",
       "      <td>10.933</td>\n",
       "      <td>72.700</td>\n",
       "      <td>0.030</td>\n",
       "      <td>2021</td>\n",
       "      <td>Western Europe</td>\n",
       "    </tr>\n",
       "    <tr>\n",
       "      <th>2</th>\n",
       "      <td>Switzerland</td>\n",
       "      <td>7.571</td>\n",
       "      <td>0.919</td>\n",
       "      <td>11.117</td>\n",
       "      <td>74.400</td>\n",
       "      <td>0.025</td>\n",
       "      <td>2021</td>\n",
       "      <td>Western Europe</td>\n",
       "    </tr>\n",
       "    <tr>\n",
       "      <th>3</th>\n",
       "      <td>Iceland</td>\n",
       "      <td>7.554</td>\n",
       "      <td>0.955</td>\n",
       "      <td>10.878</td>\n",
       "      <td>73.000</td>\n",
       "      <td>0.160</td>\n",
       "      <td>2021</td>\n",
       "      <td>Western Europe</td>\n",
       "    </tr>\n",
       "    <tr>\n",
       "      <th>4</th>\n",
       "      <td>Netherlands</td>\n",
       "      <td>7.464</td>\n",
       "      <td>0.913</td>\n",
       "      <td>10.932</td>\n",
       "      <td>72.400</td>\n",
       "      <td>0.175</td>\n",
       "      <td>2021</td>\n",
       "      <td>Western Europe</td>\n",
       "    </tr>\n",
       "    <tr>\n",
       "      <th>...</th>\n",
       "      <td>...</td>\n",
       "      <td>...</td>\n",
       "      <td>...</td>\n",
       "      <td>...</td>\n",
       "      <td>...</td>\n",
       "      <td>...</td>\n",
       "      <td>...</td>\n",
       "      <td>...</td>\n",
       "    </tr>\n",
       "    <tr>\n",
       "      <th>144</th>\n",
       "      <td>Lesotho</td>\n",
       "      <td>3.512</td>\n",
       "      <td>0.715</td>\n",
       "      <td>7.926</td>\n",
       "      <td>48.700</td>\n",
       "      <td>-0.131</td>\n",
       "      <td>2021</td>\n",
       "      <td>Sub-Saharan Africa</td>\n",
       "    </tr>\n",
       "    <tr>\n",
       "      <th>145</th>\n",
       "      <td>Botswana</td>\n",
       "      <td>3.467</td>\n",
       "      <td>0.824</td>\n",
       "      <td>9.782</td>\n",
       "      <td>59.269</td>\n",
       "      <td>-0.246</td>\n",
       "      <td>2021</td>\n",
       "      <td>Sub-Saharan Africa</td>\n",
       "    </tr>\n",
       "    <tr>\n",
       "      <th>146</th>\n",
       "      <td>Rwanda</td>\n",
       "      <td>3.415</td>\n",
       "      <td>0.897</td>\n",
       "      <td>7.676</td>\n",
       "      <td>61.400</td>\n",
       "      <td>0.061</td>\n",
       "      <td>2021</td>\n",
       "      <td>Sub-Saharan Africa</td>\n",
       "    </tr>\n",
       "    <tr>\n",
       "      <th>147</th>\n",
       "      <td>Zimbabwe</td>\n",
       "      <td>3.145</td>\n",
       "      <td>0.677</td>\n",
       "      <td>7.943</td>\n",
       "      <td>56.201</td>\n",
       "      <td>-0.047</td>\n",
       "      <td>2021</td>\n",
       "      <td>Sub-Saharan Africa</td>\n",
       "    </tr>\n",
       "    <tr>\n",
       "      <th>148</th>\n",
       "      <td>Afghanistan</td>\n",
       "      <td>2.523</td>\n",
       "      <td>0.382</td>\n",
       "      <td>7.695</td>\n",
       "      <td>52.493</td>\n",
       "      <td>-0.102</td>\n",
       "      <td>2021</td>\n",
       "      <td>South Asia</td>\n",
       "    </tr>\n",
       "  </tbody>\n",
       "</table>\n",
       "<p>149 rows × 8 columns</p>\n",
       "</div>"
      ],
      "text/plain": [
       "         Country  Ladder Score  Freedom     GDP  Life Expectancy  Generosity  \\\n",
       "0        Finland         7.842    0.949  10.775           72.000      -0.098   \n",
       "1        Denmark         7.620    0.946  10.933           72.700       0.030   \n",
       "2    Switzerland         7.571    0.919  11.117           74.400       0.025   \n",
       "3        Iceland         7.554    0.955  10.878           73.000       0.160   \n",
       "4    Netherlands         7.464    0.913  10.932           72.400       0.175   \n",
       "..           ...           ...      ...     ...              ...         ...   \n",
       "144      Lesotho         3.512    0.715   7.926           48.700      -0.131   \n",
       "145     Botswana         3.467    0.824   9.782           59.269      -0.246   \n",
       "146       Rwanda         3.415    0.897   7.676           61.400       0.061   \n",
       "147     Zimbabwe         3.145    0.677   7.943           56.201      -0.047   \n",
       "148  Afghanistan         2.523    0.382   7.695           52.493      -0.102   \n",
       "\n",
       "     Year  Regional indicator  \n",
       "0    2021      Western Europe  \n",
       "1    2021      Western Europe  \n",
       "2    2021      Western Europe  \n",
       "3    2021      Western Europe  \n",
       "4    2021      Western Europe  \n",
       "..    ...                 ...  \n",
       "144  2021  Sub-Saharan Africa  \n",
       "145  2021  Sub-Saharan Africa  \n",
       "146  2021  Sub-Saharan Africa  \n",
       "147  2021  Sub-Saharan Africa  \n",
       "148  2021          South Asia  \n",
       "\n",
       "[149 rows x 8 columns]"
      ]
     },
     "execution_count": 1,
     "metadata": {},
     "output_type": "execute_result"
    }
   ],
   "source": [
    "#Import dependencies\n",
    "import pandas as pd\n",
    "import numpy as np\n",
    "import matplotlib.pyplot as plt\n",
    "from scipy import stats\n",
    "import plotly.express as px\n",
    "from scipy.stats import linregress\n",
    "import scipy.stats as st\n",
    "import plotly.graph_objects as go\n",
    "\n",
    "#only projecting columns we need\n",
    "proj_columns = ['Country', 'Ladder Score','Freedom', 'GDP', 'Life Expectancy', 'Generosity', 'Year']\n",
    "\n",
    "#reading 2021 by itself because it has \"regional indictor\" column which other csvs are muissing\n",
    "df_2021 = pd.read_csv(f\"Resources/years/2021.csv\")[proj_columns + ['Regional indicator']]\n",
    "df_2021"
   ]
  },
  {
   "cell_type": "code",
   "execution_count": 2,
   "id": "b6ba66e2-5caf-4245-8c32-0bfde2ac1188",
   "metadata": {},
   "outputs": [],
   "source": [
    "happiness_combined_df = df_2021\n",
    "#projecting only two columns \n",
    "country_df = df_2021[['Country', 'Regional indicator']]\n",
    "#creating dictionary to match regional indicators to countries\n",
    "country_dict = country_df.set_index('Country').to_dict()['Regional indicator'] "
   ]
  },
  {
   "cell_type": "code",
   "execution_count": 3,
   "id": "20051d2d-0392-4852-bdd6-58a11caa54fe",
   "metadata": {},
   "outputs": [
    {
     "data": {
      "text/html": [
       "<div>\n",
       "<style scoped>\n",
       "    .dataframe tbody tr th:only-of-type {\n",
       "        vertical-align: middle;\n",
       "    }\n",
       "\n",
       "    .dataframe tbody tr th {\n",
       "        vertical-align: top;\n",
       "    }\n",
       "\n",
       "    .dataframe thead th {\n",
       "        text-align: right;\n",
       "    }\n",
       "</style>\n",
       "<table border=\"1\" class=\"dataframe\">\n",
       "  <thead>\n",
       "    <tr style=\"text-align: right;\">\n",
       "      <th></th>\n",
       "      <th>index</th>\n",
       "      <th>Country</th>\n",
       "      <th>Ladder Score</th>\n",
       "      <th>Freedom</th>\n",
       "      <th>GDP</th>\n",
       "      <th>Life Expectancy</th>\n",
       "      <th>Generosity</th>\n",
       "      <th>Year</th>\n",
       "      <th>Regional indicator</th>\n",
       "    </tr>\n",
       "  </thead>\n",
       "  <tbody>\n",
       "    <tr>\n",
       "      <th>0</th>\n",
       "      <td>0</td>\n",
       "      <td>Finland</td>\n",
       "      <td>7.842</td>\n",
       "      <td>0.949</td>\n",
       "      <td>10.775</td>\n",
       "      <td>72.0</td>\n",
       "      <td>-0.098</td>\n",
       "      <td>2021</td>\n",
       "      <td>Western Europe</td>\n",
       "    </tr>\n",
       "    <tr>\n",
       "      <th>1</th>\n",
       "      <td>1</td>\n",
       "      <td>Denmark</td>\n",
       "      <td>7.620</td>\n",
       "      <td>0.946</td>\n",
       "      <td>10.933</td>\n",
       "      <td>72.7</td>\n",
       "      <td>0.030</td>\n",
       "      <td>2021</td>\n",
       "      <td>Western Europe</td>\n",
       "    </tr>\n",
       "    <tr>\n",
       "      <th>2</th>\n",
       "      <td>2</td>\n",
       "      <td>Switzerland</td>\n",
       "      <td>7.571</td>\n",
       "      <td>0.919</td>\n",
       "      <td>11.117</td>\n",
       "      <td>74.4</td>\n",
       "      <td>0.025</td>\n",
       "      <td>2021</td>\n",
       "      <td>Western Europe</td>\n",
       "    </tr>\n",
       "    <tr>\n",
       "      <th>3</th>\n",
       "      <td>3</td>\n",
       "      <td>Iceland</td>\n",
       "      <td>7.554</td>\n",
       "      <td>0.955</td>\n",
       "      <td>10.878</td>\n",
       "      <td>73.0</td>\n",
       "      <td>0.160</td>\n",
       "      <td>2021</td>\n",
       "      <td>Western Europe</td>\n",
       "    </tr>\n",
       "    <tr>\n",
       "      <th>4</th>\n",
       "      <td>4</td>\n",
       "      <td>Netherlands</td>\n",
       "      <td>7.464</td>\n",
       "      <td>0.913</td>\n",
       "      <td>10.932</td>\n",
       "      <td>72.4</td>\n",
       "      <td>0.175</td>\n",
       "      <td>2021</td>\n",
       "      <td>Western Europe</td>\n",
       "    </tr>\n",
       "  </tbody>\n",
       "</table>\n",
       "</div>"
      ],
      "text/plain": [
       "   index      Country  Ladder Score  Freedom     GDP  Life Expectancy  \\\n",
       "0      0      Finland         7.842    0.949  10.775             72.0   \n",
       "1      1      Denmark         7.620    0.946  10.933             72.7   \n",
       "2      2  Switzerland         7.571    0.919  11.117             74.4   \n",
       "3      3      Iceland         7.554    0.955  10.878             73.0   \n",
       "4      4  Netherlands         7.464    0.913  10.932             72.4   \n",
       "\n",
       "   Generosity  Year Regional indicator  \n",
       "0      -0.098  2021     Western Europe  \n",
       "1       0.030  2021     Western Europe  \n",
       "2       0.025  2021     Western Europe  \n",
       "3       0.160  2021     Western Europe  \n",
       "4       0.175  2021     Western Europe  "
      ]
     },
     "execution_count": 3,
     "metadata": {},
     "output_type": "execute_result"
    }
   ],
   "source": [
    "#looping through the years except 2021 which we've already done and adding to a new comb. df \n",
    "for yr in range(2017, 2021):\n",
    "    df_yr = pd.read_csv(f\"Resources/years/{yr}.csv\")[proj_columns]\n",
    "    #adding regional indicator value to all years from country dict above\n",
    "    df_yr['Regional indicator'] = df_yr['Country'].apply(lambda x: country_dict.get(x, ''))\n",
    "    #combining\n",
    "    happiness_combined_df = pd.concat([happiness_combined_df,\n",
    "        df_yr]) \n",
    "#happiness_combined_df.to_csv('Resources/combined_happiness.csv')\n",
    "happiness_combined_df = happiness_combined_df.reset_index()\n",
    "happiness_combined_df.head()"
   ]
  },
  {
   "cell_type": "code",
   "execution_count": 4,
   "id": "c9825a6d-9ea6-4ccc-8268-d14308fc3055",
   "metadata": {},
   "outputs": [],
   "source": [
    "# #DATA CLEANING\n",
    "# #identify the columns with no regional indicator\n",
    "# #happiness_combined_df['Regional indicator'] == ''][['Country','Year']]\n",
    "# #pd.pivot_table(happiness_combined_df, values='Country', columns='Year', aggfunc='count')\n",
    "# before_clean_df = happiness_combined_df\n",
    "# before_clean_df.pivot(index='Country', columns='Year', values='Country').to_csv('Resources/pivoted-for-missing-val.csv')\n"
   ]
  },
  {
   "cell_type": "code",
   "execution_count": 5,
   "id": "7ab0a8c3-f37e-41d5-9c3b-16542977b1e2",
   "metadata": {},
   "outputs": [],
   "source": [
    "#looking at the pivoted data set, it was revealed the countries were named diffrently in\n",
    "#diffrent years,to solve that, these countries were renamed to one consistent value across \n",
    "#years. Also, some countries did not have any data for some years. For instance, Belize, \n",
    "#Angola, Congo, Qatar are missing for most recent years. From our google research, it may be\n",
    "#due to political situation and or high crime rate these countries."
   ]
  },
  {
   "cell_type": "code",
   "execution_count": 6,
   "id": "c5804728-5411-4007-b507-91ff441e233f",
   "metadata": {},
   "outputs": [
    {
     "data": {
      "text/html": [
       "<div>\n",
       "<style scoped>\n",
       "    .dataframe tbody tr th:only-of-type {\n",
       "        vertical-align: middle;\n",
       "    }\n",
       "\n",
       "    .dataframe tbody tr th {\n",
       "        vertical-align: top;\n",
       "    }\n",
       "\n",
       "    .dataframe thead th {\n",
       "        text-align: right;\n",
       "    }\n",
       "</style>\n",
       "<table border=\"1\" class=\"dataframe\">\n",
       "  <thead>\n",
       "    <tr style=\"text-align: right;\">\n",
       "      <th></th>\n",
       "      <th>index</th>\n",
       "      <th>Country</th>\n",
       "      <th>Ladder Score</th>\n",
       "      <th>Freedom</th>\n",
       "      <th>GDP</th>\n",
       "      <th>Life Expectancy</th>\n",
       "      <th>Generosity</th>\n",
       "      <th>Year</th>\n",
       "      <th>Regional indicator</th>\n",
       "    </tr>\n",
       "  </thead>\n",
       "  <tbody>\n",
       "    <tr>\n",
       "      <th>0</th>\n",
       "      <td>0</td>\n",
       "      <td>Finland</td>\n",
       "      <td>7.842</td>\n",
       "      <td>0.949</td>\n",
       "      <td>10.775</td>\n",
       "      <td>72.0</td>\n",
       "      <td>-0.098</td>\n",
       "      <td>2021</td>\n",
       "      <td>Western Europe</td>\n",
       "    </tr>\n",
       "    <tr>\n",
       "      <th>1</th>\n",
       "      <td>1</td>\n",
       "      <td>Denmark</td>\n",
       "      <td>7.620</td>\n",
       "      <td>0.946</td>\n",
       "      <td>10.933</td>\n",
       "      <td>72.7</td>\n",
       "      <td>0.030</td>\n",
       "      <td>2021</td>\n",
       "      <td>Western Europe</td>\n",
       "    </tr>\n",
       "    <tr>\n",
       "      <th>2</th>\n",
       "      <td>2</td>\n",
       "      <td>Switzerland</td>\n",
       "      <td>7.571</td>\n",
       "      <td>0.919</td>\n",
       "      <td>11.117</td>\n",
       "      <td>74.4</td>\n",
       "      <td>0.025</td>\n",
       "      <td>2021</td>\n",
       "      <td>Western Europe</td>\n",
       "    </tr>\n",
       "    <tr>\n",
       "      <th>3</th>\n",
       "      <td>3</td>\n",
       "      <td>Iceland</td>\n",
       "      <td>7.554</td>\n",
       "      <td>0.955</td>\n",
       "      <td>10.878</td>\n",
       "      <td>73.0</td>\n",
       "      <td>0.160</td>\n",
       "      <td>2021</td>\n",
       "      <td>Western Europe</td>\n",
       "    </tr>\n",
       "    <tr>\n",
       "      <th>4</th>\n",
       "      <td>4</td>\n",
       "      <td>Netherlands</td>\n",
       "      <td>7.464</td>\n",
       "      <td>0.913</td>\n",
       "      <td>10.932</td>\n",
       "      <td>72.4</td>\n",
       "      <td>0.175</td>\n",
       "      <td>2021</td>\n",
       "      <td>Western Europe</td>\n",
       "    </tr>\n",
       "  </tbody>\n",
       "</table>\n",
       "</div>"
      ],
      "text/plain": [
       "   index      Country  Ladder Score  Freedom     GDP  Life Expectancy  \\\n",
       "0      0      Finland         7.842    0.949  10.775             72.0   \n",
       "1      1      Denmark         7.620    0.946  10.933             72.7   \n",
       "2      2  Switzerland         7.571    0.919  11.117             74.4   \n",
       "3      3      Iceland         7.554    0.955  10.878             73.0   \n",
       "4      4  Netherlands         7.464    0.913  10.932             72.4   \n",
       "\n",
       "   Generosity  Year Regional indicator  \n",
       "0      -0.098  2021     Western Europe  \n",
       "1       0.030  2021     Western Europe  \n",
       "2       0.025  2021     Western Europe  \n",
       "3       0.160  2021     Western Europe  \n",
       "4       0.175  2021     Western Europe  "
      ]
     },
     "execution_count": 6,
     "metadata": {},
     "output_type": "execute_result"
    }
   ],
   "source": [
    "#Renaming the countries\n",
    "rename_cntry_dict = {\n",
    "    'Hong Kong S.A.R. of China': 'Hong Kong',\n",
    "    'Hong Kong S.A.R., China': 'Hong Kong',\n",
    "    'Trinidad & Tobago': 'Trinidad and Tobago',\n",
    "    'North Macedonia': 'Macedonia',\n",
    "    'Northern Cyprus': 'North Cyprus',\n",
    "    'Taiwan Province of China': 'Taiwan',\n",
    "}\n",
    "rename_ri_dict = {\n",
    "    'Hong Kong': 'East Asia',\n",
    "    'Trinidad and Tobago': 'Latin America and Caribbean',\n",
    "    'Macedonia': 'Central and Eastern Europe',\n",
    "    'North Cyprus': 'Western Europe',\n",
    "    'Taiwan': 'East Asia',\n",
    "    'Central African Republic': 'Sub-Saharan Africa',\n",
    "    'South Sudan': 'Sub-Saharan Africa',\n",
    "    'Congo (Kinshasa)': 'Sub-Saharan Africa'\n",
    "}\n",
    "\n",
    "# in order to loop through data frame, call iterrows function which provides us an \n",
    "#index of the row and all data in the row\n",
    "for i, row in happiness_combined_df.iterrows():\n",
    "    # grab either the rename value of the country, or if it is not\n",
    "    # in the dictionary, just use the value already in the row as default\n",
    "    #of the .get() function. We have to store this in a variable to use it \n",
    "    # for regional indicator below\n",
    "    country = rename_cntry_dict.get(row['Country'], row['Country'])\n",
    "    # using dataframe .at[], index from iterrows, and column name to set value\n",
    "    happiness_combined_df.at[i, 'Country'] = country\n",
    "    happiness_combined_df.at[i, 'Regional indicator'] = rename_ri_dict.get(country, row['Regional indicator'])\n",
    "\n",
    "happiness_combined_df.head()"
   ]
  },
  {
   "cell_type": "code",
   "execution_count": 7,
   "id": "80c67d04-a31d-479f-934f-64b2b57a57dd",
   "metadata": {},
   "outputs": [],
   "source": [
    "# save csv after cleaning\n",
    "happiness_combined_df.to_csv('Resources/combined_happiness_after_clean.csv')"
   ]
  },
  {
   "cell_type": "code",
   "execution_count": 8,
   "id": "f6712bb0-65eb-4fe0-9ac1-70ddaa79c7a7",
   "metadata": {},
   "outputs": [
    {
     "data": {
      "text/plain": [
       "array(['Qatar', 'Belize', 'Somalia', 'Bhutan', 'Sudan', 'Angola', 'Syria'],\n",
       "      dtype=object)"
      ]
     },
     "execution_count": 8,
     "metadata": {},
     "output_type": "execute_result"
    }
   ],
   "source": [
    "#Data_check: identify the columns with no regional indicator\n",
    "happiness_combined_df[happiness_combined_df['Regional indicator'] == '']['Country'].unique()"
   ]
  },
  {
   "cell_type": "code",
   "execution_count": 9,
   "id": "d7b20b2b-a933-4df6-a26d-0df8d95e164e",
   "metadata": {
    "tags": []
   },
   "outputs": [
    {
     "data": {
      "text/html": [
       "<div>\n",
       "<style scoped>\n",
       "    .dataframe tbody tr th:only-of-type {\n",
       "        vertical-align: middle;\n",
       "    }\n",
       "\n",
       "    .dataframe tbody tr th {\n",
       "        vertical-align: top;\n",
       "    }\n",
       "\n",
       "    .dataframe thead th {\n",
       "        text-align: right;\n",
       "    }\n",
       "</style>\n",
       "<table border=\"1\" class=\"dataframe\">\n",
       "  <thead>\n",
       "    <tr style=\"text-align: right;\">\n",
       "      <th></th>\n",
       "      <th></th>\n",
       "      <th>index</th>\n",
       "      <th>Country</th>\n",
       "      <th>Ladder Score</th>\n",
       "      <th>Freedom</th>\n",
       "      <th>GDP</th>\n",
       "      <th>Life Expectancy</th>\n",
       "      <th>Generosity</th>\n",
       "      <th>Regional indicator</th>\n",
       "    </tr>\n",
       "    <tr>\n",
       "      <th>Year</th>\n",
       "      <th>rank</th>\n",
       "      <th></th>\n",
       "      <th></th>\n",
       "      <th></th>\n",
       "      <th></th>\n",
       "      <th></th>\n",
       "      <th></th>\n",
       "      <th></th>\n",
       "      <th></th>\n",
       "    </tr>\n",
       "  </thead>\n",
       "  <tbody>\n",
       "    <tr>\n",
       "      <th rowspan=\"5\" valign=\"top\">2017</th>\n",
       "      <th>1.0</th>\n",
       "      <td>154</td>\n",
       "      <td>Central African Republic</td>\n",
       "      <td>2.693</td>\n",
       "      <td>0.270842</td>\n",
       "      <td>0.000000</td>\n",
       "      <td>0.018773</td>\n",
       "      <td>0.280876</td>\n",
       "      <td>Sub-Saharan Africa</td>\n",
       "    </tr>\n",
       "    <tr>\n",
       "      <th>2.0</th>\n",
       "      <td>153</td>\n",
       "      <td>Burundi</td>\n",
       "      <td>2.905</td>\n",
       "      <td>0.059901</td>\n",
       "      <td>0.091623</td>\n",
       "      <td>0.151611</td>\n",
       "      <td>0.204435</td>\n",
       "      <td>Sub-Saharan Africa</td>\n",
       "    </tr>\n",
       "    <tr>\n",
       "      <th>3.0</th>\n",
       "      <td>152</td>\n",
       "      <td>Tanzania</td>\n",
       "      <td>3.349</td>\n",
       "      <td>0.390018</td>\n",
       "      <td>0.511136</td>\n",
       "      <td>0.364509</td>\n",
       "      <td>0.354256</td>\n",
       "      <td>Sub-Saharan Africa</td>\n",
       "    </tr>\n",
       "    <tr>\n",
       "      <th>4.0</th>\n",
       "      <td>151</td>\n",
       "      <td>Syria</td>\n",
       "      <td>3.462</td>\n",
       "      <td>0.081539</td>\n",
       "      <td>0.777153</td>\n",
       "      <td>0.500533</td>\n",
       "      <td>0.493664</td>\n",
       "      <td></td>\n",
       "    </tr>\n",
       "    <tr>\n",
       "      <th>5.0</th>\n",
       "      <td>150</td>\n",
       "      <td>Rwanda</td>\n",
       "      <td>3.471</td>\n",
       "      <td>0.581844</td>\n",
       "      <td>0.368746</td>\n",
       "      <td>0.326425</td>\n",
       "      <td>0.252756</td>\n",
       "      <td>Sub-Saharan Africa</td>\n",
       "    </tr>\n",
       "    <tr>\n",
       "      <th>...</th>\n",
       "      <th>...</th>\n",
       "      <td>...</td>\n",
       "      <td>...</td>\n",
       "      <td>...</td>\n",
       "      <td>...</td>\n",
       "      <td>...</td>\n",
       "      <td>...</td>\n",
       "      <td>...</td>\n",
       "      <td>...</td>\n",
       "    </tr>\n",
       "    <tr>\n",
       "      <th rowspan=\"5\" valign=\"top\">2021</th>\n",
       "      <th>145.0</th>\n",
       "      <td>4</td>\n",
       "      <td>Netherlands</td>\n",
       "      <td>7.464</td>\n",
       "      <td>0.913000</td>\n",
       "      <td>10.932000</td>\n",
       "      <td>72.400000</td>\n",
       "      <td>0.175000</td>\n",
       "      <td>Western Europe</td>\n",
       "    </tr>\n",
       "    <tr>\n",
       "      <th>146.0</th>\n",
       "      <td>3</td>\n",
       "      <td>Iceland</td>\n",
       "      <td>7.554</td>\n",
       "      <td>0.955000</td>\n",
       "      <td>10.878000</td>\n",
       "      <td>73.000000</td>\n",
       "      <td>0.160000</td>\n",
       "      <td>Western Europe</td>\n",
       "    </tr>\n",
       "    <tr>\n",
       "      <th>147.0</th>\n",
       "      <td>2</td>\n",
       "      <td>Switzerland</td>\n",
       "      <td>7.571</td>\n",
       "      <td>0.919000</td>\n",
       "      <td>11.117000</td>\n",
       "      <td>74.400000</td>\n",
       "      <td>0.025000</td>\n",
       "      <td>Western Europe</td>\n",
       "    </tr>\n",
       "    <tr>\n",
       "      <th>148.0</th>\n",
       "      <td>1</td>\n",
       "      <td>Denmark</td>\n",
       "      <td>7.620</td>\n",
       "      <td>0.946000</td>\n",
       "      <td>10.933000</td>\n",
       "      <td>72.700000</td>\n",
       "      <td>0.030000</td>\n",
       "      <td>Western Europe</td>\n",
       "    </tr>\n",
       "    <tr>\n",
       "      <th>149.0</th>\n",
       "      <td>0</td>\n",
       "      <td>Finland</td>\n",
       "      <td>7.842</td>\n",
       "      <td>0.949000</td>\n",
       "      <td>10.775000</td>\n",
       "      <td>72.000000</td>\n",
       "      <td>-0.098000</td>\n",
       "      <td>Western Europe</td>\n",
       "    </tr>\n",
       "  </tbody>\n",
       "</table>\n",
       "<p>769 rows × 8 columns</p>\n",
       "</div>"
      ],
      "text/plain": [
       "            index                   Country  Ladder Score   Freedom  \\\n",
       "Year rank                                                             \n",
       "2017 1.0      154  Central African Republic         2.693  0.270842   \n",
       "     2.0      153                   Burundi         2.905  0.059901   \n",
       "     3.0      152                  Tanzania         3.349  0.390018   \n",
       "     4.0      151                     Syria         3.462  0.081539   \n",
       "     5.0      150                    Rwanda         3.471  0.581844   \n",
       "...           ...                       ...           ...       ...   \n",
       "2021 145.0      4               Netherlands         7.464  0.913000   \n",
       "     146.0      3                   Iceland         7.554  0.955000   \n",
       "     147.0      2               Switzerland         7.571  0.919000   \n",
       "     148.0      1                   Denmark         7.620  0.946000   \n",
       "     149.0      0                   Finland         7.842  0.949000   \n",
       "\n",
       "                  GDP  Life Expectancy  Generosity  Regional indicator  \n",
       "Year rank                                                               \n",
       "2017 1.0     0.000000         0.018773    0.280876  Sub-Saharan Africa  \n",
       "     2.0     0.091623         0.151611    0.204435  Sub-Saharan Africa  \n",
       "     3.0     0.511136         0.364509    0.354256  Sub-Saharan Africa  \n",
       "     4.0     0.777153         0.500533    0.493664                      \n",
       "     5.0     0.368746         0.326425    0.252756  Sub-Saharan Africa  \n",
       "...               ...              ...         ...                 ...  \n",
       "2021 145.0  10.932000        72.400000    0.175000      Western Europe  \n",
       "     146.0  10.878000        73.000000    0.160000      Western Europe  \n",
       "     147.0  11.117000        74.400000    0.025000      Western Europe  \n",
       "     148.0  10.933000        72.700000    0.030000      Western Europe  \n",
       "     149.0  10.775000        72.000000   -0.098000      Western Europe  \n",
       "\n",
       "[769 rows x 8 columns]"
      ]
     },
     "execution_count": 9,
     "metadata": {},
     "output_type": "execute_result"
    }
   ],
   "source": [
    "#identify top 5 happy and bottom 5 countries by ladder score in each year.\n",
    "happiness_combined_df['rank'] = happiness_combined_df.groupby(['Year'])['Ladder Score'].rank(method='first', ascending=True)#.sort_values(['Year', 'rank'])\n",
    "happiness_combined_df = happiness_combined_df.set_index(['Year', 'rank']).sort_index()\n",
    "happiness_combined_df.to_csv('Resources/combined_happiness_indexed.csv')\n",
    "happiness_combined_df"
   ]
  },
  {
   "cell_type": "code",
   "execution_count": 10,
   "id": "6612de03-d637-4869-81da-4e87d2a77d37",
   "metadata": {},
   "outputs": [
    {
     "data": {
      "text/html": [
       "<div>\n",
       "<style scoped>\n",
       "    .dataframe tbody tr th:only-of-type {\n",
       "        vertical-align: middle;\n",
       "    }\n",
       "\n",
       "    .dataframe tbody tr th {\n",
       "        vertical-align: top;\n",
       "    }\n",
       "\n",
       "    .dataframe thead tr th {\n",
       "        text-align: left;\n",
       "    }\n",
       "\n",
       "    .dataframe thead tr:last-of-type th {\n",
       "        text-align: right;\n",
       "    }\n",
       "</style>\n",
       "<table border=\"1\" class=\"dataframe\">\n",
       "  <thead>\n",
       "    <tr>\n",
       "      <th></th>\n",
       "      <th colspan=\"5\" halign=\"left\">Country</th>\n",
       "      <th colspan=\"5\" halign=\"left\">Ladder Score</th>\n",
       "    </tr>\n",
       "    <tr>\n",
       "      <th>Year</th>\n",
       "      <th>2017</th>\n",
       "      <th>2018</th>\n",
       "      <th>2019</th>\n",
       "      <th>2020</th>\n",
       "      <th>2021</th>\n",
       "      <th>2017</th>\n",
       "      <th>2018</th>\n",
       "      <th>2019</th>\n",
       "      <th>2020</th>\n",
       "      <th>2021</th>\n",
       "    </tr>\n",
       "    <tr>\n",
       "      <th>rank</th>\n",
       "      <th></th>\n",
       "      <th></th>\n",
       "      <th></th>\n",
       "      <th></th>\n",
       "      <th></th>\n",
       "      <th></th>\n",
       "      <th></th>\n",
       "      <th></th>\n",
       "      <th></th>\n",
       "      <th></th>\n",
       "    </tr>\n",
       "  </thead>\n",
       "  <tbody>\n",
       "    <tr>\n",
       "      <th>1.0</th>\n",
       "      <td>Central African Republic</td>\n",
       "      <td>Burundi</td>\n",
       "      <td>South Sudan</td>\n",
       "      <td>Afghanistan</td>\n",
       "      <td>Afghanistan</td>\n",
       "      <td>2.693</td>\n",
       "      <td>2.905</td>\n",
       "      <td>2.853</td>\n",
       "      <td>2.5669</td>\n",
       "      <td>2.523</td>\n",
       "    </tr>\n",
       "    <tr>\n",
       "      <th>2.0</th>\n",
       "      <td>Burundi</td>\n",
       "      <td>Central African Republic</td>\n",
       "      <td>Central African Republic</td>\n",
       "      <td>South Sudan</td>\n",
       "      <td>Zimbabwe</td>\n",
       "      <td>2.905</td>\n",
       "      <td>3.083</td>\n",
       "      <td>3.083</td>\n",
       "      <td>2.8166</td>\n",
       "      <td>3.145</td>\n",
       "    </tr>\n",
       "    <tr>\n",
       "      <th>3.0</th>\n",
       "      <td>Tanzania</td>\n",
       "      <td>South Sudan</td>\n",
       "      <td>Afghanistan</td>\n",
       "      <td>Zimbabwe</td>\n",
       "      <td>Rwanda</td>\n",
       "      <td>3.349</td>\n",
       "      <td>3.254</td>\n",
       "      <td>3.203</td>\n",
       "      <td>3.2992</td>\n",
       "      <td>3.415</td>\n",
       "    </tr>\n",
       "    <tr>\n",
       "      <th>4.0</th>\n",
       "      <td>Syria</td>\n",
       "      <td>Tanzania</td>\n",
       "      <td>Tanzania</td>\n",
       "      <td>Rwanda</td>\n",
       "      <td>Botswana</td>\n",
       "      <td>3.462</td>\n",
       "      <td>3.303</td>\n",
       "      <td>3.231</td>\n",
       "      <td>3.3123</td>\n",
       "      <td>3.467</td>\n",
       "    </tr>\n",
       "    <tr>\n",
       "      <th>5.0</th>\n",
       "      <td>Rwanda</td>\n",
       "      <td>Yemen</td>\n",
       "      <td>Rwanda</td>\n",
       "      <td>Central African Republic</td>\n",
       "      <td>Lesotho</td>\n",
       "      <td>3.471</td>\n",
       "      <td>3.355</td>\n",
       "      <td>3.334</td>\n",
       "      <td>3.4759</td>\n",
       "      <td>3.512</td>\n",
       "    </tr>\n",
       "  </tbody>\n",
       "</table>\n",
       "</div>"
      ],
      "text/plain": [
       "                       Country                            \\\n",
       "Year                      2017                      2018   \n",
       "rank                                                       \n",
       "1.0   Central African Republic                   Burundi   \n",
       "2.0                    Burundi  Central African Republic   \n",
       "3.0                   Tanzania               South Sudan   \n",
       "4.0                      Syria                  Tanzania   \n",
       "5.0                     Rwanda                     Yemen   \n",
       "\n",
       "                                                                       \\\n",
       "Year                      2019                      2020         2021   \n",
       "rank                                                                    \n",
       "1.0                South Sudan               Afghanistan  Afghanistan   \n",
       "2.0   Central African Republic               South Sudan     Zimbabwe   \n",
       "3.0                Afghanistan                  Zimbabwe       Rwanda   \n",
       "4.0                   Tanzania                    Rwanda     Botswana   \n",
       "5.0                     Rwanda  Central African Republic      Lesotho   \n",
       "\n",
       "     Ladder Score                               \n",
       "Year         2017   2018   2019    2020   2021  \n",
       "rank                                            \n",
       "1.0         2.693  2.905  2.853  2.5669  2.523  \n",
       "2.0         2.905  3.083  3.083  2.8166  3.145  \n",
       "3.0         3.349  3.254  3.203  3.2992  3.415  \n",
       "4.0         3.462  3.303  3.231  3.3123  3.467  \n",
       "5.0         3.471  3.355  3.334  3.4759  3.512  "
      ]
     },
     "execution_count": 10,
     "metadata": {},
     "output_type": "execute_result"
    }
   ],
   "source": [
    "happiness_combined_df.reset_index().pivot(columns='Year', index=['rank'], values=['Country','Ladder Score']).head(5)\n"
   ]
  },
  {
   "cell_type": "code",
   "execution_count": 11,
   "id": "db801d36-84dc-4941-b46d-773637399515",
   "metadata": {},
   "outputs": [
    {
     "data": {
      "text/html": [
       "<div>\n",
       "<style scoped>\n",
       "    .dataframe tbody tr th:only-of-type {\n",
       "        vertical-align: middle;\n",
       "    }\n",
       "\n",
       "    .dataframe tbody tr th {\n",
       "        vertical-align: top;\n",
       "    }\n",
       "\n",
       "    .dataframe thead th {\n",
       "        text-align: right;\n",
       "    }\n",
       "</style>\n",
       "<table border=\"1\" class=\"dataframe\">\n",
       "  <thead>\n",
       "    <tr style=\"text-align: right;\">\n",
       "      <th></th>\n",
       "      <th></th>\n",
       "      <th>index</th>\n",
       "      <th>Country</th>\n",
       "      <th>Ladder Score</th>\n",
       "      <th>Freedom</th>\n",
       "      <th>GDP</th>\n",
       "      <th>Life Expectancy</th>\n",
       "      <th>Generosity</th>\n",
       "      <th>Regional indicator</th>\n",
       "    </tr>\n",
       "    <tr>\n",
       "      <th>Year</th>\n",
       "      <th>rank</th>\n",
       "      <th></th>\n",
       "      <th></th>\n",
       "      <th></th>\n",
       "      <th></th>\n",
       "      <th></th>\n",
       "      <th></th>\n",
       "      <th></th>\n",
       "      <th></th>\n",
       "    </tr>\n",
       "  </thead>\n",
       "  <tbody>\n",
       "    <tr>\n",
       "      <th rowspan=\"3\" valign=\"top\">2017</th>\n",
       "      <th>1.0</th>\n",
       "      <td>154</td>\n",
       "      <td>Central African Republic</td>\n",
       "      <td>2.693</td>\n",
       "      <td>0.270842</td>\n",
       "      <td>0.000000</td>\n",
       "      <td>0.018773</td>\n",
       "      <td>0.280876</td>\n",
       "      <td>Sub-Saharan Africa</td>\n",
       "    </tr>\n",
       "    <tr>\n",
       "      <th>2.0</th>\n",
       "      <td>153</td>\n",
       "      <td>Burundi</td>\n",
       "      <td>2.905</td>\n",
       "      <td>0.059901</td>\n",
       "      <td>0.091623</td>\n",
       "      <td>0.151611</td>\n",
       "      <td>0.204435</td>\n",
       "      <td>Sub-Saharan Africa</td>\n",
       "    </tr>\n",
       "    <tr>\n",
       "      <th>3.0</th>\n",
       "      <td>152</td>\n",
       "      <td>Tanzania</td>\n",
       "      <td>3.349</td>\n",
       "      <td>0.390018</td>\n",
       "      <td>0.511136</td>\n",
       "      <td>0.364509</td>\n",
       "      <td>0.354256</td>\n",
       "      <td>Sub-Saharan Africa</td>\n",
       "    </tr>\n",
       "  </tbody>\n",
       "</table>\n",
       "</div>"
      ],
      "text/plain": [
       "           index                   Country  Ladder Score   Freedom       GDP  \\\n",
       "Year rank                                                                      \n",
       "2017 1.0     154  Central African Republic         2.693  0.270842  0.000000   \n",
       "     2.0     153                   Burundi         2.905  0.059901  0.091623   \n",
       "     3.0     152                  Tanzania         3.349  0.390018  0.511136   \n",
       "\n",
       "           Life Expectancy  Generosity  Regional indicator  \n",
       "Year rank                                                   \n",
       "2017 1.0          0.018773    0.280876  Sub-Saharan Africa  \n",
       "     2.0          0.151611    0.204435  Sub-Saharan Africa  \n",
       "     3.0          0.364509    0.354256  Sub-Saharan Africa  "
      ]
     },
     "execution_count": 11,
     "metadata": {},
     "output_type": "execute_result"
    }
   ],
   "source": [
    "happiness_combined_df.head(3)"
   ]
  },
  {
   "cell_type": "code",
   "execution_count": 12,
   "id": "cc4aab9e-9b1f-4044-a340-56370fe1d8b8",
   "metadata": {},
   "outputs": [
    {
     "data": {
      "text/html": [
       "<div>\n",
       "<style scoped>\n",
       "    .dataframe tbody tr th:only-of-type {\n",
       "        vertical-align: middle;\n",
       "    }\n",
       "\n",
       "    .dataframe tbody tr th {\n",
       "        vertical-align: top;\n",
       "    }\n",
       "\n",
       "    .dataframe thead th {\n",
       "        text-align: right;\n",
       "    }\n",
       "</style>\n",
       "<table border=\"1\" class=\"dataframe\">\n",
       "  <thead>\n",
       "    <tr style=\"text-align: right;\">\n",
       "      <th></th>\n",
       "      <th></th>\n",
       "      <th>index</th>\n",
       "      <th>Country</th>\n",
       "      <th>Ladder Score</th>\n",
       "      <th>Freedom</th>\n",
       "      <th>GDP</th>\n",
       "      <th>Life Expectancy</th>\n",
       "      <th>Generosity</th>\n",
       "      <th>Regional indicator</th>\n",
       "    </tr>\n",
       "    <tr>\n",
       "      <th>Year</th>\n",
       "      <th>rank</th>\n",
       "      <th></th>\n",
       "      <th></th>\n",
       "      <th></th>\n",
       "      <th></th>\n",
       "      <th></th>\n",
       "      <th></th>\n",
       "      <th></th>\n",
       "      <th></th>\n",
       "    </tr>\n",
       "  </thead>\n",
       "  <tbody>\n",
       "    <tr>\n",
       "      <th rowspan=\"3\" valign=\"top\">2017</th>\n",
       "      <th>1.0</th>\n",
       "      <td>154</td>\n",
       "      <td>Central African Republic</td>\n",
       "      <td>2.693</td>\n",
       "      <td>0.270842</td>\n",
       "      <td>0.000000</td>\n",
       "      <td>0.018773</td>\n",
       "      <td>0.280876</td>\n",
       "      <td>Sub-Saharan Africa</td>\n",
       "    </tr>\n",
       "    <tr>\n",
       "      <th>2.0</th>\n",
       "      <td>153</td>\n",
       "      <td>Burundi</td>\n",
       "      <td>2.905</td>\n",
       "      <td>0.059901</td>\n",
       "      <td>0.091623</td>\n",
       "      <td>0.151611</td>\n",
       "      <td>0.204435</td>\n",
       "      <td>Sub-Saharan Africa</td>\n",
       "    </tr>\n",
       "    <tr>\n",
       "      <th>3.0</th>\n",
       "      <td>152</td>\n",
       "      <td>Tanzania</td>\n",
       "      <td>3.349</td>\n",
       "      <td>0.390018</td>\n",
       "      <td>0.511136</td>\n",
       "      <td>0.364509</td>\n",
       "      <td>0.354256</td>\n",
       "      <td>Sub-Saharan Africa</td>\n",
       "    </tr>\n",
       "  </tbody>\n",
       "</table>\n",
       "</div>"
      ],
      "text/plain": [
       "           index                   Country  Ladder Score   Freedom       GDP  \\\n",
       "Year rank                                                                      \n",
       "2017 1.0     154  Central African Republic         2.693  0.270842  0.000000   \n",
       "     2.0     153                   Burundi         2.905  0.059901  0.091623   \n",
       "     3.0     152                  Tanzania         3.349  0.390018  0.511136   \n",
       "\n",
       "           Life Expectancy  Generosity  Regional indicator  \n",
       "Year rank                                                   \n",
       "2017 1.0          0.018773    0.280876  Sub-Saharan Africa  \n",
       "     2.0          0.151611    0.204435  Sub-Saharan Africa  \n",
       "     3.0          0.364509    0.354256  Sub-Saharan Africa  "
      ]
     },
     "execution_count": 12,
     "metadata": {},
     "output_type": "execute_result"
    }
   ],
   "source": [
    "chart_countries_df=happiness_combined_df\n",
    "# chart_countries_df=chart_countries_df.set_index('Regional indicator').sort_index()\n",
    "chart_countries_df.head(3)"
   ]
  },
  {
   "cell_type": "code",
   "execution_count": 25,
   "id": "cfc5e145-f45f-44c8-80e8-3c4af90ce8ee",
   "metadata": {},
   "outputs": [
    {
     "data": {
      "application/vnd.plotly.v1+json": {
       "config": {
        "plotlyServerURL": "https://plot.ly"
       },
       "data": [
        {
         "customdata": [
          [
           "Afghanistan"
          ],
          [
           "India"
          ],
          [
           "Sri Lanka"
          ],
          [
           "Pakistan"
          ],
          [
           "Bangladesh"
          ],
          [
           "Maldives"
          ],
          [
           "Nepal"
          ]
         ],
         "hovertemplate": "Regional indicator=South Asia<br>Generosity=%{x}<br>Ladder Score=%{y}<br>Country=%{customdata[0]}<extra></extra>",
         "legendgroup": "South Asia",
         "marker": {
          "color": "#636efa",
          "symbol": "circle"
         },
         "mode": "markers",
         "name": "South Asia",
         "orientation": "v",
         "showlegend": true,
         "type": "scatter",
         "x": [
          -0.102,
          0.089,
          0.079,
          0.098,
          -0.041,
          0.024,
          0.152
         ],
         "xaxis": "x",
         "y": [
          2.523,
          3.819,
          4.325,
          4.934,
          5.025,
          5.198,
          5.269
         ],
         "yaxis": "y"
        },
        {
         "customdata": [
          [
           "Zimbabwe"
          ],
          [
           "Rwanda"
          ],
          [
           "Botswana"
          ],
          [
           "Lesotho"
          ],
          [
           "Malawi"
          ],
          [
           "Tanzania"
          ],
          [
           "Burundi"
          ],
          [
           "Sierra Leone"
          ],
          [
           "Zambia"
          ],
          [
           "Togo"
          ],
          [
           "Madagascar"
          ],
          [
           "Mauritania"
          ],
          [
           "Ethiopia"
          ],
          [
           "Comoros"
          ],
          [
           "Swaziland"
          ],
          [
           "Chad"
          ],
          [
           "Namibia"
          ],
          [
           "Kenya"
          ],
          [
           "Liberia"
          ],
          [
           "Uganda"
          ],
          [
           "Mali"
          ],
          [
           "Nigeria"
          ],
          [
           "Mozambique"
          ],
          [
           "Burkina Faso"
          ],
          [
           "Gabon"
          ],
          [
           "South Africa"
          ],
          [
           "Guinea"
          ],
          [
           "Benin"
          ],
          [
           "Gambia"
          ],
          [
           "Niger"
          ],
          [
           "Ghana"
          ],
          [
           "Senegal"
          ],
          [
           "Cameroon"
          ],
          [
           "Ivory Coast"
          ],
          [
           "Congo (Brazzaville)"
          ],
          [
           "Mauritius"
          ]
         ],
         "hovertemplate": "Regional indicator=Sub-Saharan Africa<br>Generosity=%{x}<br>Ladder Score=%{y}<br>Country=%{customdata[0]}<extra></extra>",
         "legendgroup": "Sub-Saharan Africa",
         "marker": {
          "color": "#EF553B",
          "symbol": "circle"
         },
         "mode": "markers",
         "name": "Sub-Saharan Africa",
         "orientation": "v",
         "showlegend": true,
         "type": "scatter",
         "x": [
          -0.047,
          0.061,
          -0.246,
          -0.131,
          0.038,
          0.183,
          -0.024,
          0.084,
          0.061,
          0.032,
          -0.005,
          -0.106,
          0.082,
          0.082,
          -0.185,
          0.041,
          -0.149,
          0.287,
          0.05,
          0.122,
          -0.036,
          0.037,
          0.061,
          -0.009,
          -0.2,
          -0.067,
          0.095,
          -0.034,
          0.424,
          0.018,
          0.123,
          -0.046,
          0.026,
          -0.016,
          -0.068,
          -0.054
         ],
         "xaxis": "x",
         "y": [
          3.145,
          3.415,
          3.467,
          3.512,
          3.6,
          3.623,
          3.775,
          3.849,
          4.073,
          4.107,
          4.208,
          4.227,
          4.275,
          4.289,
          4.308,
          4.355,
          4.574,
          4.607,
          4.625,
          4.636,
          4.723,
          4.759,
          4.794,
          4.834,
          4.852,
          4.956,
          4.984,
          5.045,
          5.051,
          5.074,
          5.088,
          5.132,
          5.142,
          5.306,
          5.342,
          6.049
         ],
         "yaxis": "y"
        },
        {
         "customdata": [
          [
           "Haiti"
          ],
          [
           "Venezuela"
          ],
          [
           "Dominican Republic"
          ],
          [
           "Paraguay"
          ],
          [
           "Bolivia"
          ],
          [
           "Ecuador"
          ],
          [
           "Peru"
          ],
          [
           "Honduras"
          ],
          [
           "Argentina"
          ],
          [
           "Nicaragua"
          ],
          [
           "Colombia"
          ],
          [
           "El Salvador"
          ],
          [
           "Chile"
          ],
          [
           "Panama"
          ],
          [
           "Jamaica"
          ],
          [
           "Mexico"
          ],
          [
           "Brazil"
          ],
          [
           "Uruguay"
          ],
          [
           "Guatemala"
          ],
          [
           "Costa Rica"
          ]
         ],
         "hovertemplate": "Regional indicator=Latin America and Caribbean<br>Generosity=%{x}<br>Ladder Score=%{y}<br>Country=%{customdata[0]}<extra></extra>",
         "legendgroup": "Latin America and Caribbean",
         "marker": {
          "color": "#00cc96",
          "symbol": "circle"
         },
         "mode": "markers",
         "name": "Latin America and Caribbean",
         "orientation": "v",
         "showlegend": true,
         "type": "scatter",
         "x": [
          0.422,
          -0.169,
          -0.133,
          0.028,
          -0.077,
          -0.124,
          -0.154,
          0.081,
          -0.182,
          0.02,
          -0.135,
          -0.11,
          -0.044,
          -0.166,
          -0.137,
          -0.147,
          -0.071,
          -0.092,
          -0.038,
          -0.126
         ],
         "xaxis": "x",
         "y": [
          3.615,
          4.892,
          5.545,
          5.653,
          5.716,
          5.764,
          5.84,
          5.919,
          5.929,
          5.972,
          6.012,
          6.061,
          6.172,
          6.18,
          6.309,
          6.317,
          6.33,
          6.431,
          6.435,
          7.069
         ],
         "yaxis": "y"
        },
        {
         "customdata": [
          [
           "Yemen"
          ],
          [
           "Egypt"
          ],
          [
           "Jordan"
          ],
          [
           "Palestinian Territories"
          ],
          [
           "Lebanon"
          ],
          [
           "Tunisia"
          ],
          [
           "Iran"
          ],
          [
           "Iraq"
          ],
          [
           "Algeria"
          ],
          [
           "Morocco"
          ],
          [
           "Turkey"
          ],
          [
           "Libya"
          ],
          [
           "Kuwait"
          ],
          [
           "Saudi Arabia"
          ],
          [
           "United Arab Emirates"
          ],
          [
           "Bahrain"
          ],
          [
           "Israel"
          ]
         ],
         "hovertemplate": "Regional indicator=Middle East and North Africa<br>Generosity=%{x}<br>Ladder Score=%{y}<br>Country=%{customdata[0]}<extra></extra>",
         "legendgroup": "Middle East and North Africa",
         "marker": {
          "color": "#ab63fa",
          "symbol": "circle"
         },
         "mode": "markers",
         "name": "Middle East and North Africa",
         "orientation": "v",
         "showlegend": true,
         "type": "scatter",
         "x": [
          -0.147,
          -0.182,
          -0.167,
          -0.163,
          -0.073,
          -0.201,
          0.218,
          -0.053,
          -0.067,
          -0.236,
          -0.139,
          -0.087,
          -0.104,
          -0.149,
          0.074,
          0.089,
          0.031
         ],
         "xaxis": "x",
         "y": [
          3.658,
          4.283,
          4.395,
          4.517,
          4.584,
          4.596,
          4.721,
          4.854,
          4.887,
          4.918,
          4.948,
          5.41,
          6.106,
          6.494,
          6.561,
          6.647,
          7.157
         ],
         "yaxis": "y"
        },
        {
         "customdata": [
          [
           "Myanmar"
          ],
          [
           "Cambodia"
          ],
          [
           "Laos"
          ],
          [
           "Indonesia"
          ],
          [
           "Malaysia"
          ],
          [
           "Vietnam"
          ],
          [
           "Philippines"
          ],
          [
           "Thailand"
          ],
          [
           "Singapore"
          ]
         ],
         "hovertemplate": "Regional indicator=Southeast Asia<br>Generosity=%{x}<br>Ladder Score=%{y}<br>Country=%{customdata[0]}<extra></extra>",
         "legendgroup": "Southeast Asia",
         "marker": {
          "color": "#FFA15A",
          "symbol": "circle"
         },
         "mode": "markers",
         "name": "Southeast Asia",
         "orientation": "v",
         "showlegend": true,
         "type": "scatter",
         "x": [
          0.509,
          0.034,
          0.123,
          0.542,
          0.125,
          -0.098,
          -0.097,
          0.287,
          -0.018
         ],
         "xaxis": "x",
         "y": [
          4.426,
          4.83,
          5.03,
          5.345,
          5.384,
          5.411,
          5.88,
          5.985,
          6.377
         ],
         "yaxis": "y"
        },
        {
         "customdata": [
          [
           "Ukraine"
          ],
          [
           "Georgia"
          ],
          [
           "Turkmenistan"
          ],
          [
           "Azerbaijan"
          ],
          [
           "Armenia"
          ],
          [
           "Tajikistan"
          ],
          [
           "Russia"
          ],
          [
           "Belarus"
          ],
          [
           "Kyrgyzstan"
          ],
          [
           "Moldova"
          ],
          [
           "Kazakhstan"
          ],
          [
           "Uzbekistan"
          ]
         ],
         "hovertemplate": "Regional indicator=Commonwealth of Independent States<br>Generosity=%{x}<br>Ladder Score=%{y}<br>Country=%{customdata[0]}<extra></extra>",
         "legendgroup": "Commonwealth of Independent States",
         "marker": {
          "color": "#19d3f3",
          "symbol": "circle"
         },
         "mode": "markers",
         "name": "Commonwealth of Independent States",
         "orientation": "v",
         "showlegend": true,
         "type": "scatter",
         "x": [
          -0.011,
          -0.238,
          0.273,
          -0.223,
          -0.168,
          -0.056,
          -0.111,
          -0.18,
          0.119,
          -0.079,
          -0.069,
          0.311
         ],
         "xaxis": "x",
         "y": [
          4.875,
          4.891,
          5.066,
          5.171,
          5.283,
          5.466,
          5.477,
          5.534,
          5.744,
          5.766,
          6.152,
          6.179
         ],
         "yaxis": "y"
        },
        {
         "customdata": [
          [
           "Macedonia"
          ],
          [
           "Albania"
          ],
          [
           "Bulgaria"
          ],
          [
           "Montenegro"
          ],
          [
           "Bosnia and Herzegovina"
          ],
          [
           "Croatia"
          ],
          [
           "Hungary"
          ],
          [
           "Latvia"
          ],
          [
           "Serbia"
          ],
          [
           "Romania"
          ],
          [
           "Poland"
          ],
          [
           "Estonia"
          ],
          [
           "Lithuania"
          ],
          [
           "Slovakia"
          ],
          [
           "Kosovo"
          ],
          [
           "Slovenia"
          ],
          [
           "Czech Republic"
          ]
         ],
         "hovertemplate": "Regional indicator=Central and Eastern Europe<br>Generosity=%{x}<br>Ladder Score=%{y}<br>Country=%{customdata[0]}<extra></extra>",
         "legendgroup": "Central and Eastern Europe",
         "marker": {
          "color": "#FF6692",
          "symbol": "circle"
         },
         "mode": "markers",
         "name": "Central and Eastern Europe",
         "orientation": "v",
         "showlegend": true,
         "type": "scatter",
         "x": [
          0.038,
          -0.03,
          -0.096,
          -0.034,
          0.113,
          -0.118,
          -0.186,
          -0.162,
          0.002,
          -0.219,
          -0.165,
          -0.106,
          -0.203,
          -0.124,
          0.257,
          -0.101,
          -0.208
         ],
         "xaxis": "x",
         "y": [
          5.101,
          5.117,
          5.266,
          5.581,
          5.813,
          5.882,
          5.992,
          6.032,
          6.078,
          6.14,
          6.166,
          6.189,
          6.255,
          6.331,
          6.372,
          6.461,
          6.965
         ],
         "yaxis": "y"
        },
        {
         "customdata": [
          [
           "China"
          ],
          [
           "Hong Kong"
          ],
          [
           "Mongolia"
          ],
          [
           "South Korea"
          ],
          [
           "Japan"
          ],
          [
           "Taiwan"
          ]
         ],
         "hovertemplate": "Regional indicator=East Asia<br>Generosity=%{x}<br>Ladder Score=%{y}<br>Country=%{customdata[0]}<extra></extra>",
         "legendgroup": "East Asia",
         "marker": {
          "color": "#B6E880",
          "symbol": "circle"
         },
         "mode": "markers",
         "name": "East Asia",
         "orientation": "v",
         "showlegend": true,
         "type": "scatter",
         "x": [
          -0.146,
          0.067,
          0.116,
          -0.083,
          -0.258,
          -0.07
         ],
         "xaxis": "x",
         "y": [
          5.339,
          5.477,
          5.677,
          5.845,
          5.94,
          6.584
         ],
         "yaxis": "y"
        },
        {
         "customdata": [
          [
           "North Cyprus"
          ],
          [
           "Greece"
          ],
          [
           "Portugal"
          ],
          [
           "Cyprus"
          ],
          [
           "Italy"
          ],
          [
           "Spain"
          ],
          [
           "Malta"
          ],
          [
           "France"
          ],
          [
           "Belgium"
          ],
          [
           "United Kingdom"
          ],
          [
           "Ireland"
          ],
          [
           "Germany"
          ],
          [
           "Austria"
          ],
          [
           "Luxembourg"
          ],
          [
           "Sweden"
          ],
          [
           "Norway"
          ],
          [
           "Netherlands"
          ],
          [
           "Iceland"
          ],
          [
           "Switzerland"
          ],
          [
           "Denmark"
          ],
          [
           "Finland"
          ]
         ],
         "hovertemplate": "Regional indicator=Western Europe<br>Generosity=%{x}<br>Ladder Score=%{y}<br>Country=%{customdata[0]}<extra></extra>",
         "legendgroup": "Western Europe",
         "marker": {
          "color": "#FF97FF",
          "symbol": "circle"
         },
         "mode": "markers",
         "name": "Western Europe",
         "orientation": "v",
         "showlegend": true,
         "type": "scatter",
         "x": [
          0.012,
          -0.288,
          -0.244,
          -0.015,
          -0.084,
          -0.081,
          0.133,
          -0.147,
          -0.153,
          0.233,
          0.077,
          0.011,
          0.042,
          -0.034,
          0.086,
          0.093,
          0.175,
          0.16,
          0.025,
          0.03,
          -0.098
         ],
         "xaxis": "x",
         "y": [
          5.536,
          5.723,
          5.929,
          6.223,
          6.483,
          6.491,
          6.602,
          6.69,
          6.834,
          7.064,
          7.085,
          7.155,
          7.268,
          7.324,
          7.363,
          7.392,
          7.464,
          7.554,
          7.571,
          7.62,
          7.842
         ],
         "yaxis": "y"
        },
        {
         "customdata": [
          [
           "United States"
          ],
          [
           "Canada"
          ],
          [
           "Australia"
          ],
          [
           "New Zealand"
          ]
         ],
         "hovertemplate": "Regional indicator=North America and ANZ<br>Generosity=%{x}<br>Ladder Score=%{y}<br>Country=%{customdata[0]}<extra></extra>",
         "legendgroup": "North America and ANZ",
         "marker": {
          "color": "#FECB52",
          "symbol": "circle"
         },
         "mode": "markers",
         "name": "North America and ANZ",
         "orientation": "v",
         "showlegend": true,
         "type": "scatter",
         "x": [
          0.098,
          0.089,
          0.159,
          0.134
         ],
         "xaxis": "x",
         "y": [
          6.951,
          7.103,
          7.183,
          7.277
         ],
         "yaxis": "y"
        }
       ],
       "layout": {
        "autosize": true,
        "legend": {
         "title": {
          "text": "Regional indicator"
         },
         "tracegroupgap": 0
        },
        "template": {
         "data": {
          "bar": [
           {
            "error_x": {
             "color": "#2a3f5f"
            },
            "error_y": {
             "color": "#2a3f5f"
            },
            "marker": {
             "line": {
              "color": "#E5ECF6",
              "width": 0.5
             },
             "pattern": {
              "fillmode": "overlay",
              "size": 10,
              "solidity": 0.2
             }
            },
            "type": "bar"
           }
          ],
          "barpolar": [
           {
            "marker": {
             "line": {
              "color": "#E5ECF6",
              "width": 0.5
             },
             "pattern": {
              "fillmode": "overlay",
              "size": 10,
              "solidity": 0.2
             }
            },
            "type": "barpolar"
           }
          ],
          "carpet": [
           {
            "aaxis": {
             "endlinecolor": "#2a3f5f",
             "gridcolor": "white",
             "linecolor": "white",
             "minorgridcolor": "white",
             "startlinecolor": "#2a3f5f"
            },
            "baxis": {
             "endlinecolor": "#2a3f5f",
             "gridcolor": "white",
             "linecolor": "white",
             "minorgridcolor": "white",
             "startlinecolor": "#2a3f5f"
            },
            "type": "carpet"
           }
          ],
          "choropleth": [
           {
            "colorbar": {
             "outlinewidth": 0,
             "ticks": ""
            },
            "type": "choropleth"
           }
          ],
          "contour": [
           {
            "colorbar": {
             "outlinewidth": 0,
             "ticks": ""
            },
            "colorscale": [
             [
              0,
              "#0d0887"
             ],
             [
              0.1111111111111111,
              "#46039f"
             ],
             [
              0.2222222222222222,
              "#7201a8"
             ],
             [
              0.3333333333333333,
              "#9c179e"
             ],
             [
              0.4444444444444444,
              "#bd3786"
             ],
             [
              0.5555555555555556,
              "#d8576b"
             ],
             [
              0.6666666666666666,
              "#ed7953"
             ],
             [
              0.7777777777777778,
              "#fb9f3a"
             ],
             [
              0.8888888888888888,
              "#fdca26"
             ],
             [
              1,
              "#f0f921"
             ]
            ],
            "type": "contour"
           }
          ],
          "contourcarpet": [
           {
            "colorbar": {
             "outlinewidth": 0,
             "ticks": ""
            },
            "type": "contourcarpet"
           }
          ],
          "heatmap": [
           {
            "colorbar": {
             "outlinewidth": 0,
             "ticks": ""
            },
            "colorscale": [
             [
              0,
              "#0d0887"
             ],
             [
              0.1111111111111111,
              "#46039f"
             ],
             [
              0.2222222222222222,
              "#7201a8"
             ],
             [
              0.3333333333333333,
              "#9c179e"
             ],
             [
              0.4444444444444444,
              "#bd3786"
             ],
             [
              0.5555555555555556,
              "#d8576b"
             ],
             [
              0.6666666666666666,
              "#ed7953"
             ],
             [
              0.7777777777777778,
              "#fb9f3a"
             ],
             [
              0.8888888888888888,
              "#fdca26"
             ],
             [
              1,
              "#f0f921"
             ]
            ],
            "type": "heatmap"
           }
          ],
          "heatmapgl": [
           {
            "colorbar": {
             "outlinewidth": 0,
             "ticks": ""
            },
            "colorscale": [
             [
              0,
              "#0d0887"
             ],
             [
              0.1111111111111111,
              "#46039f"
             ],
             [
              0.2222222222222222,
              "#7201a8"
             ],
             [
              0.3333333333333333,
              "#9c179e"
             ],
             [
              0.4444444444444444,
              "#bd3786"
             ],
             [
              0.5555555555555556,
              "#d8576b"
             ],
             [
              0.6666666666666666,
              "#ed7953"
             ],
             [
              0.7777777777777778,
              "#fb9f3a"
             ],
             [
              0.8888888888888888,
              "#fdca26"
             ],
             [
              1,
              "#f0f921"
             ]
            ],
            "type": "heatmapgl"
           }
          ],
          "histogram": [
           {
            "marker": {
             "pattern": {
              "fillmode": "overlay",
              "size": 10,
              "solidity": 0.2
             }
            },
            "type": "histogram"
           }
          ],
          "histogram2d": [
           {
            "colorbar": {
             "outlinewidth": 0,
             "ticks": ""
            },
            "colorscale": [
             [
              0,
              "#0d0887"
             ],
             [
              0.1111111111111111,
              "#46039f"
             ],
             [
              0.2222222222222222,
              "#7201a8"
             ],
             [
              0.3333333333333333,
              "#9c179e"
             ],
             [
              0.4444444444444444,
              "#bd3786"
             ],
             [
              0.5555555555555556,
              "#d8576b"
             ],
             [
              0.6666666666666666,
              "#ed7953"
             ],
             [
              0.7777777777777778,
              "#fb9f3a"
             ],
             [
              0.8888888888888888,
              "#fdca26"
             ],
             [
              1,
              "#f0f921"
             ]
            ],
            "type": "histogram2d"
           }
          ],
          "histogram2dcontour": [
           {
            "colorbar": {
             "outlinewidth": 0,
             "ticks": ""
            },
            "colorscale": [
             [
              0,
              "#0d0887"
             ],
             [
              0.1111111111111111,
              "#46039f"
             ],
             [
              0.2222222222222222,
              "#7201a8"
             ],
             [
              0.3333333333333333,
              "#9c179e"
             ],
             [
              0.4444444444444444,
              "#bd3786"
             ],
             [
              0.5555555555555556,
              "#d8576b"
             ],
             [
              0.6666666666666666,
              "#ed7953"
             ],
             [
              0.7777777777777778,
              "#fb9f3a"
             ],
             [
              0.8888888888888888,
              "#fdca26"
             ],
             [
              1,
              "#f0f921"
             ]
            ],
            "type": "histogram2dcontour"
           }
          ],
          "mesh3d": [
           {
            "colorbar": {
             "outlinewidth": 0,
             "ticks": ""
            },
            "type": "mesh3d"
           }
          ],
          "parcoords": [
           {
            "line": {
             "colorbar": {
              "outlinewidth": 0,
              "ticks": ""
             }
            },
            "type": "parcoords"
           }
          ],
          "pie": [
           {
            "automargin": true,
            "type": "pie"
           }
          ],
          "scatter": [
           {
            "marker": {
             "colorbar": {
              "outlinewidth": 0,
              "ticks": ""
             }
            },
            "type": "scatter"
           }
          ],
          "scatter3d": [
           {
            "line": {
             "colorbar": {
              "outlinewidth": 0,
              "ticks": ""
             }
            },
            "marker": {
             "colorbar": {
              "outlinewidth": 0,
              "ticks": ""
             }
            },
            "type": "scatter3d"
           }
          ],
          "scattercarpet": [
           {
            "marker": {
             "colorbar": {
              "outlinewidth": 0,
              "ticks": ""
             }
            },
            "type": "scattercarpet"
           }
          ],
          "scattergeo": [
           {
            "marker": {
             "colorbar": {
              "outlinewidth": 0,
              "ticks": ""
             }
            },
            "type": "scattergeo"
           }
          ],
          "scattergl": [
           {
            "marker": {
             "colorbar": {
              "outlinewidth": 0,
              "ticks": ""
             }
            },
            "type": "scattergl"
           }
          ],
          "scattermapbox": [
           {
            "marker": {
             "colorbar": {
              "outlinewidth": 0,
              "ticks": ""
             }
            },
            "type": "scattermapbox"
           }
          ],
          "scatterpolar": [
           {
            "marker": {
             "colorbar": {
              "outlinewidth": 0,
              "ticks": ""
             }
            },
            "type": "scatterpolar"
           }
          ],
          "scatterpolargl": [
           {
            "marker": {
             "colorbar": {
              "outlinewidth": 0,
              "ticks": ""
             }
            },
            "type": "scatterpolargl"
           }
          ],
          "scatterternary": [
           {
            "marker": {
             "colorbar": {
              "outlinewidth": 0,
              "ticks": ""
             }
            },
            "type": "scatterternary"
           }
          ],
          "surface": [
           {
            "colorbar": {
             "outlinewidth": 0,
             "ticks": ""
            },
            "colorscale": [
             [
              0,
              "#0d0887"
             ],
             [
              0.1111111111111111,
              "#46039f"
             ],
             [
              0.2222222222222222,
              "#7201a8"
             ],
             [
              0.3333333333333333,
              "#9c179e"
             ],
             [
              0.4444444444444444,
              "#bd3786"
             ],
             [
              0.5555555555555556,
              "#d8576b"
             ],
             [
              0.6666666666666666,
              "#ed7953"
             ],
             [
              0.7777777777777778,
              "#fb9f3a"
             ],
             [
              0.8888888888888888,
              "#fdca26"
             ],
             [
              1,
              "#f0f921"
             ]
            ],
            "type": "surface"
           }
          ],
          "table": [
           {
            "cells": {
             "fill": {
              "color": "#EBF0F8"
             },
             "line": {
              "color": "white"
             }
            },
            "header": {
             "fill": {
              "color": "#C8D4E3"
             },
             "line": {
              "color": "white"
             }
            },
            "type": "table"
           }
          ]
         },
         "layout": {
          "annotationdefaults": {
           "arrowcolor": "#2a3f5f",
           "arrowhead": 0,
           "arrowwidth": 1
          },
          "autotypenumbers": "strict",
          "coloraxis": {
           "colorbar": {
            "outlinewidth": 0,
            "ticks": ""
           }
          },
          "colorscale": {
           "diverging": [
            [
             0,
             "#8e0152"
            ],
            [
             0.1,
             "#c51b7d"
            ],
            [
             0.2,
             "#de77ae"
            ],
            [
             0.3,
             "#f1b6da"
            ],
            [
             0.4,
             "#fde0ef"
            ],
            [
             0.5,
             "#f7f7f7"
            ],
            [
             0.6,
             "#e6f5d0"
            ],
            [
             0.7,
             "#b8e186"
            ],
            [
             0.8,
             "#7fbc41"
            ],
            [
             0.9,
             "#4d9221"
            ],
            [
             1,
             "#276419"
            ]
           ],
           "sequential": [
            [
             0,
             "#0d0887"
            ],
            [
             0.1111111111111111,
             "#46039f"
            ],
            [
             0.2222222222222222,
             "#7201a8"
            ],
            [
             0.3333333333333333,
             "#9c179e"
            ],
            [
             0.4444444444444444,
             "#bd3786"
            ],
            [
             0.5555555555555556,
             "#d8576b"
            ],
            [
             0.6666666666666666,
             "#ed7953"
            ],
            [
             0.7777777777777778,
             "#fb9f3a"
            ],
            [
             0.8888888888888888,
             "#fdca26"
            ],
            [
             1,
             "#f0f921"
            ]
           ],
           "sequentialminus": [
            [
             0,
             "#0d0887"
            ],
            [
             0.1111111111111111,
             "#46039f"
            ],
            [
             0.2222222222222222,
             "#7201a8"
            ],
            [
             0.3333333333333333,
             "#9c179e"
            ],
            [
             0.4444444444444444,
             "#bd3786"
            ],
            [
             0.5555555555555556,
             "#d8576b"
            ],
            [
             0.6666666666666666,
             "#ed7953"
            ],
            [
             0.7777777777777778,
             "#fb9f3a"
            ],
            [
             0.8888888888888888,
             "#fdca26"
            ],
            [
             1,
             "#f0f921"
            ]
           ]
          },
          "colorway": [
           "#636efa",
           "#EF553B",
           "#00cc96",
           "#ab63fa",
           "#FFA15A",
           "#19d3f3",
           "#FF6692",
           "#B6E880",
           "#FF97FF",
           "#FECB52"
          ],
          "font": {
           "color": "#2a3f5f"
          },
          "geo": {
           "bgcolor": "white",
           "lakecolor": "white",
           "landcolor": "#E5ECF6",
           "showlakes": true,
           "showland": true,
           "subunitcolor": "white"
          },
          "hoverlabel": {
           "align": "left"
          },
          "hovermode": "closest",
          "mapbox": {
           "style": "light"
          },
          "paper_bgcolor": "white",
          "plot_bgcolor": "#E5ECF6",
          "polar": {
           "angularaxis": {
            "gridcolor": "white",
            "linecolor": "white",
            "ticks": ""
           },
           "bgcolor": "#E5ECF6",
           "radialaxis": {
            "gridcolor": "white",
            "linecolor": "white",
            "ticks": ""
           }
          },
          "scene": {
           "xaxis": {
            "backgroundcolor": "#E5ECF6",
            "gridcolor": "white",
            "gridwidth": 2,
            "linecolor": "white",
            "showbackground": true,
            "ticks": "",
            "zerolinecolor": "white"
           },
           "yaxis": {
            "backgroundcolor": "#E5ECF6",
            "gridcolor": "white",
            "gridwidth": 2,
            "linecolor": "white",
            "showbackground": true,
            "ticks": "",
            "zerolinecolor": "white"
           },
           "zaxis": {
            "backgroundcolor": "#E5ECF6",
            "gridcolor": "white",
            "gridwidth": 2,
            "linecolor": "white",
            "showbackground": true,
            "ticks": "",
            "zerolinecolor": "white"
           }
          },
          "shapedefaults": {
           "line": {
            "color": "#2a3f5f"
           }
          },
          "ternary": {
           "aaxis": {
            "gridcolor": "white",
            "linecolor": "white",
            "ticks": ""
           },
           "baxis": {
            "gridcolor": "white",
            "linecolor": "white",
            "ticks": ""
           },
           "bgcolor": "#E5ECF6",
           "caxis": {
            "gridcolor": "white",
            "linecolor": "white",
            "ticks": ""
           }
          },
          "title": {
           "x": 0.05
          },
          "xaxis": {
           "automargin": true,
           "gridcolor": "white",
           "linecolor": "white",
           "ticks": "",
           "title": {
            "standoff": 15
           },
           "zerolinecolor": "white",
           "zerolinewidth": 2
          },
          "yaxis": {
           "automargin": true,
           "gridcolor": "white",
           "linecolor": "white",
           "ticks": "",
           "title": {
            "standoff": 15
           },
           "zerolinecolor": "white",
           "zerolinewidth": 2
          }
         }
        },
        "title": {
         "text": "Generosity per regions in 2021"
        },
        "xaxis": {
         "anchor": "y",
         "autorange": true,
         "domain": [
          0,
          1
         ],
         "range": [
          -0.3407172874880611,
          0.5947172874880612
         ],
         "title": {
          "text": "Generosity"
         },
         "type": "linear"
        },
        "yaxis": {
         "anchor": "x",
         "autorange": true,
         "domain": [
          0,
          1
         ],
         "range": [
          2.0840533980582525,
          8.280946601941746
         ],
         "title": {
          "text": "Ladder Score"
         },
         "type": "linear"
        }
       }
      },
      "image/png": "[encoded data removed]",
      "text/html": [
       "<div>                            <div id=\"78e48d34-4543-41ee-a778-c0b0fa10cd6e\" class=\"plotly-graph-div\" style=\"height:525px; width:100%;\"></div>            <script type=\"text/javascript\">                require([\"plotly\"], function(Plotly) {                    window.PLOTLYENV=window.PLOTLYENV || {};                                    if (document.getElementById(\"78e48d34-4543-41ee-a778-c0b0fa10cd6e\")) {                    Plotly.newPlot(                        \"78e48d34-4543-41ee-a778-c0b0fa10cd6e\",                        [{\"customdata\":[[\"Afghanistan\"],[\"India\"],[\"Sri Lanka\"],[\"Pakistan\"],[\"Bangladesh\"],[\"Maldives\"],[\"Nepal\"]],\"hovertemplate\":\"Regional indicator=South Asia<br>Generosity=%{x}<br>Ladder Score=%{y}<br>Country=%{customdata[0]}<extra></extra>\",\"legendgroup\":\"South Asia\",\"marker\":{\"color\":\"#636efa\",\"symbol\":\"circle\"},\"mode\":\"markers\",\"name\":\"South Asia\",\"orientation\":\"v\",\"showlegend\":true,\"type\":\"scatter\",\"x\":[-0.102,0.089,0.079,0.098,-0.041,0.024,0.152],\"xaxis\":\"x\",\"y\":[2.523,3.819,4.325,4.934,5.025,5.198,5.269],\"yaxis\":\"y\"},{\"customdata\":[[\"Zimbabwe\"],[\"Rwanda\"],[\"Botswana\"],[\"Lesotho\"],[\"Malawi\"],[\"Tanzania\"],[\"Burundi\"],[\"Sierra Leone\"],[\"Zambia\"],[\"Togo\"],[\"Madagascar\"],[\"Mauritania\"],[\"Ethiopia\"],[\"Comoros\"],[\"Swaziland\"],[\"Chad\"],[\"Namibia\"],[\"Kenya\"],[\"Liberia\"],[\"Uganda\"],[\"Mali\"],[\"Nigeria\"],[\"Mozambique\"],[\"Burkina Faso\"],[\"Gabon\"],[\"South Africa\"],[\"Guinea\"],[\"Benin\"],[\"Gambia\"],[\"Niger\"],[\"Ghana\"],[\"Senegal\"],[\"Cameroon\"],[\"Ivory Coast\"],[\"Congo (Brazzaville)\"],[\"Mauritius\"]],\"hovertemplate\":\"Regional indicator=Sub-Saharan Africa<br>Generosity=%{x}<br>Ladder Score=%{y}<br>Country=%{customdata[0]}<extra></extra>\",\"legendgroup\":\"Sub-Saharan Africa\",\"marker\":{\"color\":\"#EF553B\",\"symbol\":\"circle\"},\"mode\":\"markers\",\"name\":\"Sub-Saharan Africa\",\"orientation\":\"v\",\"showlegend\":true,\"type\":\"scatter\",\"x\":[-0.047,0.061,-0.246,-0.131,0.038,0.183,-0.024,0.084,0.061,0.032,-0.005,-0.106,0.082,0.082,-0.185,0.041,-0.149,0.287,0.05,0.122,-0.036,0.037,0.061,-0.009,-0.2,-0.067,0.095,-0.034,0.424,0.018,0.123,-0.046,0.026,-0.016,-0.068,-0.054],\"xaxis\":\"x\",\"y\":[3.145,3.415,3.467,3.512,3.6,3.623,3.775,3.849,4.073,4.107,4.208,4.227,4.275,4.289,4.308,4.355,4.574,4.607,4.625,4.636,4.723,4.759,4.794,4.834,4.852,4.956,4.984,5.045,5.051,5.074,5.088,5.132,5.142,5.306,5.342,6.049],\"yaxis\":\"y\"},{\"customdata\":[[\"Haiti\"],[\"Venezuela\"],[\"Dominican Republic\"],[\"Paraguay\"],[\"Bolivia\"],[\"Ecuador\"],[\"Peru\"],[\"Honduras\"],[\"Argentina\"],[\"Nicaragua\"],[\"Colombia\"],[\"El Salvador\"],[\"Chile\"],[\"Panama\"],[\"Jamaica\"],[\"Mexico\"],[\"Brazil\"],[\"Uruguay\"],[\"Guatemala\"],[\"Costa Rica\"]],\"hovertemplate\":\"Regional indicator=Latin America and Caribbean<br>Generosity=%{x}<br>Ladder Score=%{y}<br>Country=%{customdata[0]}<extra></extra>\",\"legendgroup\":\"Latin America and Caribbean\",\"marker\":{\"color\":\"#00cc96\",\"symbol\":\"circle\"},\"mode\":\"markers\",\"name\":\"Latin America and Caribbean\",\"orientation\":\"v\",\"showlegend\":true,\"type\":\"scatter\",\"x\":[0.422,-0.169,-0.133,0.028,-0.077,-0.124,-0.154,0.081,-0.182,0.02,-0.135,-0.11,-0.044,-0.166,-0.137,-0.147,-0.071,-0.092,-0.038,-0.126],\"xaxis\":\"x\",\"y\":[3.615,4.892,5.545,5.653,5.716,5.764,5.84,5.919,5.929,5.972,6.012,6.061,6.172,6.18,6.309,6.317,6.33,6.431,6.435,7.069],\"yaxis\":\"y\"},{\"customdata\":[[\"Yemen\"],[\"Egypt\"],[\"Jordan\"],[\"Palestinian Territories\"],[\"Lebanon\"],[\"Tunisia\"],[\"Iran\"],[\"Iraq\"],[\"Algeria\"],[\"Morocco\"],[\"Turkey\"],[\"Libya\"],[\"Kuwait\"],[\"Saudi Arabia\"],[\"United Arab Emirates\"],[\"Bahrain\"],[\"Israel\"]],\"hovertemplate\":\"Regional indicator=Middle East and North Africa<br>Generosity=%{x}<br>Ladder Score=%{y}<br>Country=%{customdata[0]}<extra></extra>\",\"legendgroup\":\"Middle East and North Africa\",\"marker\":{\"color\":\"#ab63fa\",\"symbol\":\"circle\"},\"mode\":\"markers\",\"name\":\"Middle East and North Africa\",\"orientation\":\"v\",\"showlegend\":true,\"type\":\"scatter\",\"x\":[-0.147,-0.182,-0.167,-0.163,-0.073,-0.201,0.218,-0.053,-0.067,-0.236,-0.139,-0.087,-0.104,-0.149,0.074,0.089,0.031],\"xaxis\":\"x\",\"y\":[3.658,4.283,4.395,4.517,4.584,4.596,4.721,4.854,4.887,4.918,4.948,5.41,6.106,6.494,6.561,6.647,7.157],\"yaxis\":\"y\"},{\"customdata\":[[\"Myanmar\"],[\"Cambodia\"],[\"Laos\"],[\"Indonesia\"],[\"Malaysia\"],[\"Vietnam\"],[\"Philippines\"],[\"Thailand\"],[\"Singapore\"]],\"hovertemplate\":\"Regional indicator=Southeast Asia<br>Generosity=%{x}<br>Ladder Score=%{y}<br>Country=%{customdata[0]}<extra></extra>\",\"legendgroup\":\"Southeast Asia\",\"marker\":{\"color\":\"#FFA15A\",\"symbol\":\"circle\"},\"mode\":\"markers\",\"name\":\"Southeast Asia\",\"orientation\":\"v\",\"showlegend\":true,\"type\":\"scatter\",\"x\":[0.509,0.034,0.123,0.542,0.125,-0.098,-0.097,0.287,-0.018],\"xaxis\":\"x\",\"y\":[4.426,4.83,5.03,5.345,5.384,5.411,5.88,5.985,6.377],\"yaxis\":\"y\"},{\"customdata\":[[\"Ukraine\"],[\"Georgia\"],[\"Turkmenistan\"],[\"Azerbaijan\"],[\"Armenia\"],[\"Tajikistan\"],[\"Russia\"],[\"Belarus\"],[\"Kyrgyzstan\"],[\"Moldova\"],[\"Kazakhstan\"],[\"Uzbekistan\"]],\"hovertemplate\":\"Regional indicator=Commonwealth of Independent States<br>Generosity=%{x}<br>Ladder Score=%{y}<br>Country=%{customdata[0]}<extra></extra>\",\"legendgroup\":\"Commonwealth of Independent States\",\"marker\":{\"color\":\"#19d3f3\",\"symbol\":\"circle\"},\"mode\":\"markers\",\"name\":\"Commonwealth of Independent States\",\"orientation\":\"v\",\"showlegend\":true,\"type\":\"scatter\",\"x\":[-0.011,-0.238,0.273,-0.223,-0.168,-0.056,-0.111,-0.18,0.119,-0.079,-0.069,0.311],\"xaxis\":\"x\",\"y\":[4.875,4.891,5.066,5.171,5.283,5.466,5.477,5.534,5.744,5.766,6.152,6.179],\"yaxis\":\"y\"},{\"customdata\":[[\"Macedonia\"],[\"Albania\"],[\"Bulgaria\"],[\"Montenegro\"],[\"Bosnia and Herzegovina\"],[\"Croatia\"],[\"Hungary\"],[\"Latvia\"],[\"Serbia\"],[\"Romania\"],[\"Poland\"],[\"Estonia\"],[\"Lithuania\"],[\"Slovakia\"],[\"Kosovo\"],[\"Slovenia\"],[\"Czech Republic\"]],\"hovertemplate\":\"Regional indicator=Central and Eastern Europe<br>Generosity=%{x}<br>Ladder Score=%{y}<br>Country=%{customdata[0]}<extra></extra>\",\"legendgroup\":\"Central and Eastern Europe\",\"marker\":{\"color\":\"#FF6692\",\"symbol\":\"circle\"},\"mode\":\"markers\",\"name\":\"Central and Eastern Europe\",\"orientation\":\"v\",\"showlegend\":true,\"type\":\"scatter\",\"x\":[0.038,-0.03,-0.096,-0.034,0.113,-0.118,-0.186,-0.162,0.002,-0.219,-0.165,-0.106,-0.203,-0.124,0.257,-0.101,-0.208],\"xaxis\":\"x\",\"y\":[5.101,5.117,5.266,5.581,5.813,5.882,5.992,6.032,6.078,6.14,6.166,6.189,6.255,6.331,6.372,6.461,6.965],\"yaxis\":\"y\"},{\"customdata\":[[\"China\"],[\"Hong Kong\"],[\"Mongolia\"],[\"South Korea\"],[\"Japan\"],[\"Taiwan\"]],\"hovertemplate\":\"Regional indicator=East Asia<br>Generosity=%{x}<br>Ladder Score=%{y}<br>Country=%{customdata[0]}<extra></extra>\",\"legendgroup\":\"East Asia\",\"marker\":{\"color\":\"#B6E880\",\"symbol\":\"circle\"},\"mode\":\"markers\",\"name\":\"East Asia\",\"orientation\":\"v\",\"showlegend\":true,\"type\":\"scatter\",\"x\":[-0.146,0.067,0.116,-0.083,-0.258,-0.07],\"xaxis\":\"x\",\"y\":[5.339,5.477,5.677,5.845,5.94,6.584],\"yaxis\":\"y\"},{\"customdata\":[[\"North Cyprus\"],[\"Greece\"],[\"Portugal\"],[\"Cyprus\"],[\"Italy\"],[\"Spain\"],[\"Malta\"],[\"France\"],[\"Belgium\"],[\"United Kingdom\"],[\"Ireland\"],[\"Germany\"],[\"Austria\"],[\"Luxembourg\"],[\"Sweden\"],[\"Norway\"],[\"Netherlands\"],[\"Iceland\"],[\"Switzerland\"],[\"Denmark\"],[\"Finland\"]],\"hovertemplate\":\"Regional indicator=Western Europe<br>Generosity=%{x}<br>Ladder Score=%{y}<br>Country=%{customdata[0]}<extra></extra>\",\"legendgroup\":\"Western Europe\",\"marker\":{\"color\":\"#FF97FF\",\"symbol\":\"circle\"},\"mode\":\"markers\",\"name\":\"Western Europe\",\"orientation\":\"v\",\"showlegend\":true,\"type\":\"scatter\",\"x\":[0.012,-0.288,-0.244,-0.015,-0.084,-0.081,0.133,-0.147,-0.153,0.233,0.077,0.011,0.042,-0.034,0.086,0.093,0.175,0.16,0.025,0.03,-0.098],\"xaxis\":\"x\",\"y\":[5.536,5.723,5.929,6.223,6.483,6.491,6.602,6.69,6.834,7.064,7.085,7.155,7.268,7.324,7.363,7.392,7.464,7.554,7.571,7.62,7.842],\"yaxis\":\"y\"},{\"customdata\":[[\"United States\"],[\"Canada\"],[\"Australia\"],[\"New Zealand\"]],\"hovertemplate\":\"Regional indicator=North America and ANZ<br>Generosity=%{x}<br>Ladder Score=%{y}<br>Country=%{customdata[0]}<extra></extra>\",\"legendgroup\":\"North America and ANZ\",\"marker\":{\"color\":\"#FECB52\",\"symbol\":\"circle\"},\"mode\":\"markers\",\"name\":\"North America and ANZ\",\"orientation\":\"v\",\"showlegend\":true,\"type\":\"scatter\",\"x\":[0.098,0.089,0.159,0.134],\"xaxis\":\"x\",\"y\":[6.951,7.103,7.183,7.277],\"yaxis\":\"y\"}],                        {\"legend\":{\"title\":{\"text\":\"Regional indicator\"},\"tracegroupgap\":0},\"template\":{\"data\":{\"bar\":[{\"error_x\":{\"color\":\"#2a3f5f\"},\"error_y\":{\"color\":\"#2a3f5f\"},\"marker\":{\"line\":{\"color\":\"#E5ECF6\",\"width\":0.5},\"pattern\":{\"fillmode\":\"overlay\",\"size\":10,\"solidity\":0.2}},\"type\":\"bar\"}],\"barpolar\":[{\"marker\":{\"line\":{\"color\":\"#E5ECF6\",\"width\":0.5},\"pattern\":{\"fillmode\":\"overlay\",\"size\":10,\"solidity\":0.2}},\"type\":\"barpolar\"}],\"carpet\":[{\"aaxis\":{\"endlinecolor\":\"#2a3f5f\",\"gridcolor\":\"white\",\"linecolor\":\"white\",\"minorgridcolor\":\"white\",\"startlinecolor\":\"#2a3f5f\"},\"baxis\":{\"endlinecolor\":\"#2a3f5f\",\"gridcolor\":\"white\",\"linecolor\":\"white\",\"minorgridcolor\":\"white\",\"startlinecolor\":\"#2a3f5f\"},\"type\":\"carpet\"}],\"choropleth\":[{\"colorbar\":{\"outlinewidth\":0,\"ticks\":\"\"},\"type\":\"choropleth\"}],\"contour\":[{\"colorbar\":{\"outlinewidth\":0,\"ticks\":\"\"},\"colorscale\":[[0.0,\"#0d0887\"],[0.1111111111111111,\"#46039f\"],[0.2222222222222222,\"#7201a8\"],[0.3333333333333333,\"#9c179e\"],[0.4444444444444444,\"#bd3786\"],[0.5555555555555556,\"#d8576b\"],[0.6666666666666666,\"#ed7953\"],[0.7777777777777778,\"#fb9f3a\"],[0.8888888888888888,\"#fdca26\"],[1.0,\"#f0f921\"]],\"type\":\"contour\"}],\"contourcarpet\":[{\"colorbar\":{\"outlinewidth\":0,\"ticks\":\"\"},\"type\":\"contourcarpet\"}],\"heatmap\":[{\"colorbar\":{\"outlinewidth\":0,\"ticks\":\"\"},\"colorscale\":[[0.0,\"#0d0887\"],[0.1111111111111111,\"#46039f\"],[0.2222222222222222,\"#7201a8\"],[0.3333333333333333,\"#9c179e\"],[0.4444444444444444,\"#bd3786\"],[0.5555555555555556,\"#d8576b\"],[0.6666666666666666,\"#ed7953\"],[0.7777777777777778,\"#fb9f3a\"],[0.8888888888888888,\"#fdca26\"],[1.0,\"#f0f921\"]],\"type\":\"heatmap\"}],\"heatmapgl\":[{\"colorbar\":{\"outlinewidth\":0,\"ticks\":\"\"},\"colorscale\":[[0.0,\"#0d0887\"],[0.1111111111111111,\"#46039f\"],[0.2222222222222222,\"#7201a8\"],[0.3333333333333333,\"#9c179e\"],[0.4444444444444444,\"#bd3786\"],[0.5555555555555556,\"#d8576b\"],[0.6666666666666666,\"#ed7953\"],[0.7777777777777778,\"#fb9f3a\"],[0.8888888888888888,\"#fdca26\"],[1.0,\"#f0f921\"]],\"type\":\"heatmapgl\"}],\"histogram\":[{\"marker\":{\"pattern\":{\"fillmode\":\"overlay\",\"size\":10,\"solidity\":0.2}},\"type\":\"histogram\"}],\"histogram2d\":[{\"colorbar\":{\"outlinewidth\":0,\"ticks\":\"\"},\"colorscale\":[[0.0,\"#0d0887\"],[0.1111111111111111,\"#46039f\"],[0.2222222222222222,\"#7201a8\"],[0.3333333333333333,\"#9c179e\"],[0.4444444444444444,\"#bd3786\"],[0.5555555555555556,\"#d8576b\"],[0.6666666666666666,\"#ed7953\"],[0.7777777777777778,\"#fb9f3a\"],[0.8888888888888888,\"#fdca26\"],[1.0,\"#f0f921\"]],\"type\":\"histogram2d\"}],\"histogram2dcontour\":[{\"colorbar\":{\"outlinewidth\":0,\"ticks\":\"\"},\"colorscale\":[[0.0,\"#0d0887\"],[0.1111111111111111,\"#46039f\"],[0.2222222222222222,\"#7201a8\"],[0.3333333333333333,\"#9c179e\"],[0.4444444444444444,\"#bd3786\"],[0.5555555555555556,\"#d8576b\"],[0.6666666666666666,\"#ed7953\"],[0.7777777777777778,\"#fb9f3a\"],[0.8888888888888888,\"#fdca26\"],[1.0,\"#f0f921\"]],\"type\":\"histogram2dcontour\"}],\"mesh3d\":[{\"colorbar\":{\"outlinewidth\":0,\"ticks\":\"\"},\"type\":\"mesh3d\"}],\"parcoords\":[{\"line\":{\"colorbar\":{\"outlinewidth\":0,\"ticks\":\"\"}},\"type\":\"parcoords\"}],\"pie\":[{\"automargin\":true,\"type\":\"pie\"}],\"scatter\":[{\"marker\":{\"colorbar\":{\"outlinewidth\":0,\"ticks\":\"\"}},\"type\":\"scatter\"}],\"scatter3d\":[{\"line\":{\"colorbar\":{\"outlinewidth\":0,\"ticks\":\"\"}},\"marker\":{\"colorbar\":{\"outlinewidth\":0,\"ticks\":\"\"}},\"type\":\"scatter3d\"}],\"scattercarpet\":[{\"marker\":{\"colorbar\":{\"outlinewidth\":0,\"ticks\":\"\"}},\"type\":\"scattercarpet\"}],\"scattergeo\":[{\"marker\":{\"colorbar\":{\"outlinewidth\":0,\"ticks\":\"\"}},\"type\":\"scattergeo\"}],\"scattergl\":[{\"marker\":{\"colorbar\":{\"outlinewidth\":0,\"ticks\":\"\"}},\"type\":\"scattergl\"}],\"scattermapbox\":[{\"marker\":{\"colorbar\":{\"outlinewidth\":0,\"ticks\":\"\"}},\"type\":\"scattermapbox\"}],\"scatterpolar\":[{\"marker\":{\"colorbar\":{\"outlinewidth\":0,\"ticks\":\"\"}},\"type\":\"scatterpolar\"}],\"scatterpolargl\":[{\"marker\":{\"colorbar\":{\"outlinewidth\":0,\"ticks\":\"\"}},\"type\":\"scatterpolargl\"}],\"scatterternary\":[{\"marker\":{\"colorbar\":{\"outlinewidth\":0,\"ticks\":\"\"}},\"type\":\"scatterternary\"}],\"surface\":[{\"colorbar\":{\"outlinewidth\":0,\"ticks\":\"\"},\"colorscale\":[[0.0,\"#0d0887\"],[0.1111111111111111,\"#46039f\"],[0.2222222222222222,\"#7201a8\"],[0.3333333333333333,\"#9c179e\"],[0.4444444444444444,\"#bd3786\"],[0.5555555555555556,\"#d8576b\"],[0.6666666666666666,\"#ed7953\"],[0.7777777777777778,\"#fb9f3a\"],[0.8888888888888888,\"#fdca26\"],[1.0,\"#f0f921\"]],\"type\":\"surface\"}],\"table\":[{\"cells\":{\"fill\":{\"color\":\"#EBF0F8\"},\"line\":{\"color\":\"white\"}},\"header\":{\"fill\":{\"color\":\"#C8D4E3\"},\"line\":{\"color\":\"white\"}},\"type\":\"table\"}]},\"layout\":{\"annotationdefaults\":{\"arrowcolor\":\"#2a3f5f\",\"arrowhead\":0,\"arrowwidth\":1},\"autotypenumbers\":\"strict\",\"coloraxis\":{\"colorbar\":{\"outlinewidth\":0,\"ticks\":\"\"}},\"colorscale\":{\"diverging\":[[0,\"#8e0152\"],[0.1,\"#c51b7d\"],[0.2,\"#de77ae\"],[0.3,\"#f1b6da\"],[0.4,\"#fde0ef\"],[0.5,\"#f7f7f7\"],[0.6,\"#e6f5d0\"],[0.7,\"#b8e186\"],[0.8,\"#7fbc41\"],[0.9,\"#4d9221\"],[1,\"#276419\"]],\"sequential\":[[0.0,\"#0d0887\"],[0.1111111111111111,\"#46039f\"],[0.2222222222222222,\"#7201a8\"],[0.3333333333333333,\"#9c179e\"],[0.4444444444444444,\"#bd3786\"],[0.5555555555555556,\"#d8576b\"],[0.6666666666666666,\"#ed7953\"],[0.7777777777777778,\"#fb9f3a\"],[0.8888888888888888,\"#fdca26\"],[1.0,\"#f0f921\"]],\"sequentialminus\":[[0.0,\"#0d0887\"],[0.1111111111111111,\"#46039f\"],[0.2222222222222222,\"#7201a8\"],[0.3333333333333333,\"#9c179e\"],[0.4444444444444444,\"#bd3786\"],[0.5555555555555556,\"#d8576b\"],[0.6666666666666666,\"#ed7953\"],[0.7777777777777778,\"#fb9f3a\"],[0.8888888888888888,\"#fdca26\"],[1.0,\"#f0f921\"]]},\"colorway\":[\"#636efa\",\"#EF553B\",\"#00cc96\",\"#ab63fa\",\"#FFA15A\",\"#19d3f3\",\"#FF6692\",\"#B6E880\",\"#FF97FF\",\"#FECB52\"],\"font\":{\"color\":\"#2a3f5f\"},\"geo\":{\"bgcolor\":\"white\",\"lakecolor\":\"white\",\"landcolor\":\"#E5ECF6\",\"showlakes\":true,\"showland\":true,\"subunitcolor\":\"white\"},\"hoverlabel\":{\"align\":\"left\"},\"hovermode\":\"closest\",\"mapbox\":{\"style\":\"light\"},\"paper_bgcolor\":\"white\",\"plot_bgcolor\":\"#E5ECF6\",\"polar\":{\"angularaxis\":{\"gridcolor\":\"white\",\"linecolor\":\"white\",\"ticks\":\"\"},\"bgcolor\":\"#E5ECF6\",\"radialaxis\":{\"gridcolor\":\"white\",\"linecolor\":\"white\",\"ticks\":\"\"}},\"scene\":{\"xaxis\":{\"backgroundcolor\":\"#E5ECF6\",\"gridcolor\":\"white\",\"gridwidth\":2,\"linecolor\":\"white\",\"showbackground\":true,\"ticks\":\"\",\"zerolinecolor\":\"white\"},\"yaxis\":{\"backgroundcolor\":\"#E5ECF6\",\"gridcolor\":\"white\",\"gridwidth\":2,\"linecolor\":\"white\",\"showbackground\":true,\"ticks\":\"\",\"zerolinecolor\":\"white\"},\"zaxis\":{\"backgroundcolor\":\"#E5ECF6\",\"gridcolor\":\"white\",\"gridwidth\":2,\"linecolor\":\"white\",\"showbackground\":true,\"ticks\":\"\",\"zerolinecolor\":\"white\"}},\"shapedefaults\":{\"line\":{\"color\":\"#2a3f5f\"}},\"ternary\":{\"aaxis\":{\"gridcolor\":\"white\",\"linecolor\":\"white\",\"ticks\":\"\"},\"baxis\":{\"gridcolor\":\"white\",\"linecolor\":\"white\",\"ticks\":\"\"},\"bgcolor\":\"#E5ECF6\",\"caxis\":{\"gridcolor\":\"white\",\"linecolor\":\"white\",\"ticks\":\"\"}},\"title\":{\"x\":0.05},\"xaxis\":{\"automargin\":true,\"gridcolor\":\"white\",\"linecolor\":\"white\",\"ticks\":\"\",\"title\":{\"standoff\":15},\"zerolinecolor\":\"white\",\"zerolinewidth\":2},\"yaxis\":{\"automargin\":true,\"gridcolor\":\"white\",\"linecolor\":\"white\",\"ticks\":\"\",\"title\":{\"standoff\":15},\"zerolinecolor\":\"white\",\"zerolinewidth\":2}}},\"title\":{\"text\":\"Generosity per regions in 2021\"},\"xaxis\":{\"anchor\":\"y\",\"domain\":[0.0,1.0],\"title\":{\"text\":\"Generosity\"}},\"yaxis\":{\"anchor\":\"x\",\"domain\":[0.0,1.0],\"title\":{\"text\":\"Ladder Score\"}}},                        {\"responsive\": true}                    ).then(function(){\n",
       "                            \n",
       "var gd = document.getElementById('78e48d34-4543-41ee-a778-c0b0fa10cd6e');\n",
       "var x = new MutationObserver(function (mutations, observer) {{\n",
       "        var display = window.getComputedStyle(gd).display;\n",
       "        if (!display || display === 'none') {{\n",
       "            console.log([gd, 'removed!']);\n",
       "            Plotly.purge(gd);\n",
       "            observer.disconnect();\n",
       "        }}\n",
       "}});\n",
       "\n",
       "// Listen for the removal of the full notebook cells\n",
       "var notebookContainer = gd.closest('#notebook-container');\n",
       "if (notebookContainer) {{\n",
       "    x.observe(notebookContainer, {childList: true});\n",
       "}}\n",
       "\n",
       "// Listen for the clearing of the current output cell\n",
       "var outputEl = gd.closest('.output');\n",
       "if (outputEl) {{\n",
       "    x.observe(outputEl, {childList: true});\n",
       "}}\n",
       "\n",
       "                        })                };                });            </script>        </div>"
      ]
     },
     "metadata": {},
     "output_type": "display_data"
    }
   ],
   "source": [
    "#Bubble plot: A bubble plot is a scatterplot where the circle size is mapped to the value of a third numeric variable. This section shows many bubble plots made with Python, using both the Matplotlib and Seaborn libraries.\n",
    "years = chart_countries_df.reset_index()['Year']\n",
    "min_yr = years.min()\n",
    "fig = px.scatter(chart_countries_df.loc[2021],x='Generosity', y='Ladder Score', color='Regional indicator', hover_data=['Country'], title= 'Generosity per regions in 2021')\n",
    "fig.write_image(\"Generos.png\")\n",
    "fig.show()"
   ]
  },
  {
   "cell_type": "code",
   "execution_count": 23,
   "id": "1228ea65-7d9e-4022-870d-4ef9e630a08e",
   "metadata": {},
   "outputs": [
    {
     "data": {
      "application/vnd.plotly.v1+json": {
       "config": {
        "plotlyServerURL": "https://plot.ly"
       },
       "data": [
        {
         "customdata": [
          [
           "Afghanistan"
          ],
          [
           "India"
          ],
          [
           "Sri Lanka"
          ],
          [
           "Pakistan"
          ],
          [
           "Bangladesh"
          ],
          [
           "Maldives"
          ],
          [
           "Nepal"
          ]
         ],
         "hovertemplate": "Regional indicator=South Asia<br>GDP=%{x}<br>Ladder Score=%{y}<br>Country=%{customdata[0]}<extra></extra>",
         "legendgroup": "South Asia",
         "marker": {
          "color": "#636efa",
          "symbol": "circle"
         },
         "mode": "markers",
         "name": "South Asia",
         "orientation": "v",
         "showlegend": true,
         "type": "scatter",
         "x": [
          7.695,
          8.755,
          9.47,
          8.458,
          8.454,
          9.826,
          8.12
         ],
         "xaxis": "x",
         "y": [
          2.523,
          3.819,
          4.325,
          4.934,
          5.025,
          5.198,
          5.269
         ],
         "yaxis": "y"
        },
        {
         "customdata": [
          [
           "Zimbabwe"
          ],
          [
           "Rwanda"
          ],
          [
           "Botswana"
          ],
          [
           "Lesotho"
          ],
          [
           "Malawi"
          ],
          [
           "Tanzania"
          ],
          [
           "Burundi"
          ],
          [
           "Sierra Leone"
          ],
          [
           "Zambia"
          ],
          [
           "Togo"
          ],
          [
           "Madagascar"
          ],
          [
           "Mauritania"
          ],
          [
           "Ethiopia"
          ],
          [
           "Comoros"
          ],
          [
           "Swaziland"
          ],
          [
           "Chad"
          ],
          [
           "Namibia"
          ],
          [
           "Kenya"
          ],
          [
           "Liberia"
          ],
          [
           "Uganda"
          ],
          [
           "Mali"
          ],
          [
           "Nigeria"
          ],
          [
           "Mozambique"
          ],
          [
           "Burkina Faso"
          ],
          [
           "Gabon"
          ],
          [
           "South Africa"
          ],
          [
           "Guinea"
          ],
          [
           "Benin"
          ],
          [
           "Gambia"
          ],
          [
           "Niger"
          ],
          [
           "Ghana"
          ],
          [
           "Senegal"
          ],
          [
           "Cameroon"
          ],
          [
           "Ivory Coast"
          ],
          [
           "Congo (Brazzaville)"
          ],
          [
           "Mauritius"
          ]
         ],
         "hovertemplate": "Regional indicator=Sub-Saharan Africa<br>GDP=%{x}<br>Ladder Score=%{y}<br>Country=%{customdata[0]}<extra></extra>",
         "legendgroup": "Sub-Saharan Africa",
         "marker": {
          "color": "#EF553B",
          "symbol": "circle"
         },
         "mode": "markers",
         "name": "Sub-Saharan Africa",
         "orientation": "v",
         "showlegend": true,
         "type": "scatter",
         "x": [
          7.943,
          7.676,
          9.782,
          7.926,
          6.958,
          7.876,
          6.635,
          7.434,
          8.145,
          7.362,
          7.396,
          8.542,
          7.694,
          8.031,
          9.065,
          7.364,
          9.161,
          8.361,
          7.288,
          7.677,
          7.744,
          8.533,
          7.158,
          7.678,
          9.603,
          9.403,
          7.838,
          8.087,
          7.686,
          7.098,
          8.58,
          8.118,
          8.189,
          8.551,
          8.117,
          10.008
         ],
         "xaxis": "x",
         "y": [
          3.145,
          3.415,
          3.467,
          3.512,
          3.6,
          3.623,
          3.775,
          3.849,
          4.073,
          4.107,
          4.208,
          4.227,
          4.275,
          4.289,
          4.308,
          4.355,
          4.574,
          4.607,
          4.625,
          4.636,
          4.723,
          4.759,
          4.794,
          4.834,
          4.852,
          4.956,
          4.984,
          5.045,
          5.051,
          5.074,
          5.088,
          5.132,
          5.142,
          5.306,
          5.342,
          6.049
         ],
         "yaxis": "y"
        },
        {
         "customdata": [
          [
           "Haiti"
          ],
          [
           "Venezuela"
          ],
          [
           "Dominican Republic"
          ],
          [
           "Paraguay"
          ],
          [
           "Bolivia"
          ],
          [
           "Ecuador"
          ],
          [
           "Peru"
          ],
          [
           "Honduras"
          ],
          [
           "Argentina"
          ],
          [
           "Nicaragua"
          ],
          [
           "Colombia"
          ],
          [
           "El Salvador"
          ],
          [
           "Chile"
          ],
          [
           "Panama"
          ],
          [
           "Jamaica"
          ],
          [
           "Mexico"
          ],
          [
           "Brazil"
          ],
          [
           "Uruguay"
          ],
          [
           "Guatemala"
          ],
          [
           "Costa Rica"
          ]
         ],
         "hovertemplate": "Regional indicator=Latin America and Caribbean<br>GDP=%{x}<br>Ladder Score=%{y}<br>Country=%{customdata[0]}<extra></extra>",
         "legendgroup": "Latin America and Caribbean",
         "marker": {
          "color": "#00cc96",
          "symbol": "circle"
         },
         "mode": "markers",
         "name": "Latin America and Caribbean",
         "orientation": "v",
         "showlegend": true,
         "type": "scatter",
         "x": [
          7.477,
          9.073,
          9.802,
          9.448,
          9.046,
          9.313,
          9.458,
          8.648,
          9.962,
          8.62,
          9.557,
          9.054,
          10.071,
          10.35,
          9.186,
          9.859,
          9.577,
          9.966,
          9.053,
          9.88
         ],
         "xaxis": "x",
         "y": [
          3.615,
          4.892,
          5.545,
          5.653,
          5.716,
          5.764,
          5.84,
          5.919,
          5.929,
          5.972,
          6.012,
          6.061,
          6.172,
          6.18,
          6.309,
          6.317,
          6.33,
          6.431,
          6.435,
          7.069
         ],
         "yaxis": "y"
        },
        {
         "customdata": [
          [
           "Yemen"
          ],
          [
           "Egypt"
          ],
          [
           "Jordan"
          ],
          [
           "Palestinian Territories"
          ],
          [
           "Lebanon"
          ],
          [
           "Tunisia"
          ],
          [
           "Iran"
          ],
          [
           "Iraq"
          ],
          [
           "Algeria"
          ],
          [
           "Morocco"
          ],
          [
           "Turkey"
          ],
          [
           "Libya"
          ],
          [
           "Kuwait"
          ],
          [
           "Saudi Arabia"
          ],
          [
           "United Arab Emirates"
          ],
          [
           "Bahrain"
          ],
          [
           "Israel"
          ]
         ],
         "hovertemplate": "Regional indicator=Middle East and North Africa<br>GDP=%{x}<br>Ladder Score=%{y}<br>Country=%{customdata[0]}<extra></extra>",
         "legendgroup": "Middle East and North Africa",
         "marker": {
          "color": "#ab63fa",
          "symbol": "circle"
         },
         "mode": "markers",
         "name": "Middle East and North Africa",
         "orientation": "v",
         "showlegend": true,
         "type": "scatter",
         "x": [
          7.578,
          9.367,
          9.182,
          8.485,
          9.626,
          9.266,
          9.584,
          9.24,
          9.342,
          8.903,
          10.24,
          9.622,
          10.817,
          10.743,
          11.085,
          10.669,
          10.575
         ],
         "xaxis": "x",
         "y": [
          3.658,
          4.283,
          4.395,
          4.517,
          4.584,
          4.596,
          4.721,
          4.854,
          4.887,
          4.918,
          4.948,
          5.41,
          6.106,
          6.494,
          6.561,
          6.647,
          7.157
         ],
         "yaxis": "y"
        },
        {
         "customdata": [
          [
           "Myanmar"
          ],
          [
           "Cambodia"
          ],
          [
           "Laos"
          ],
          [
           "Indonesia"
          ],
          [
           "Malaysia"
          ],
          [
           "Vietnam"
          ],
          [
           "Philippines"
          ],
          [
           "Thailand"
          ],
          [
           "Singapore"
          ]
         ],
         "hovertemplate": "Regional indicator=Southeast Asia<br>GDP=%{x}<br>Ladder Score=%{y}<br>Country=%{customdata[0]}<extra></extra>",
         "legendgroup": "Southeast Asia",
         "marker": {
          "color": "#FFA15A",
          "symbol": "circle"
         },
         "mode": "markers",
         "name": "Southeast Asia",
         "orientation": "v",
         "showlegend": true,
         "type": "scatter",
         "x": [
          8.541,
          8.36,
          8.947,
          9.365,
          10.238,
          8.973,
          9.076,
          9.805,
          11.488
         ],
         "xaxis": "x",
         "y": [
          4.426,
          4.83,
          5.03,
          5.345,
          5.384,
          5.411,
          5.88,
          5.985,
          6.377
         ],
         "yaxis": "y"
        },
        {
         "customdata": [
          [
           "Ukraine"
          ],
          [
           "Georgia"
          ],
          [
           "Turkmenistan"
          ],
          [
           "Azerbaijan"
          ],
          [
           "Armenia"
          ],
          [
           "Tajikistan"
          ],
          [
           "Russia"
          ],
          [
           "Belarus"
          ],
          [
           "Kyrgyzstan"
          ],
          [
           "Moldova"
          ],
          [
           "Kazakhstan"
          ],
          [
           "Uzbekistan"
          ]
         ],
         "hovertemplate": "Regional indicator=Commonwealth of Independent States<br>GDP=%{x}<br>Ladder Score=%{y}<br>Country=%{customdata[0]}<extra></extra>",
         "legendgroup": "Commonwealth of Independent States",
         "marker": {
          "color": "#19d3f3",
          "symbol": "circle"
         },
         "mode": "markers",
         "name": "Commonwealth of Independent States",
         "orientation": "v",
         "showlegend": true,
         "type": "scatter",
         "x": [
          9.436,
          9.585,
          9.629,
          9.569,
          9.487,
          8.091,
          10.189,
          9.853,
          8.538,
          9.454,
          10.155,
          8.836
         ],
         "xaxis": "x",
         "y": [
          4.875,
          4.891,
          5.066,
          5.171,
          5.283,
          5.466,
          5.477,
          5.534,
          5.744,
          5.766,
          6.152,
          6.179
         ],
         "yaxis": "y"
        },
        {
         "customdata": [
          [
           "Macedonia"
          ],
          [
           "Albania"
          ],
          [
           "Bulgaria"
          ],
          [
           "Montenegro"
          ],
          [
           "Bosnia and Herzegovina"
          ],
          [
           "Croatia"
          ],
          [
           "Hungary"
          ],
          [
           "Latvia"
          ],
          [
           "Serbia"
          ],
          [
           "Romania"
          ],
          [
           "Poland"
          ],
          [
           "Estonia"
          ],
          [
           "Lithuania"
          ],
          [
           "Slovakia"
          ],
          [
           "Kosovo"
          ],
          [
           "Slovenia"
          ],
          [
           "Czech Republic"
          ]
         ],
         "hovertemplate": "Regional indicator=Central and Eastern Europe<br>GDP=%{x}<br>Ladder Score=%{y}<br>Country=%{customdata[0]}<extra></extra>",
         "legendgroup": "Central and Eastern Europe",
         "marker": {
          "color": "#FF6692",
          "symbol": "circle"
         },
         "mode": "markers",
         "name": "Central and Eastern Europe",
         "orientation": "v",
         "showlegend": true,
         "type": "scatter",
         "x": [
          9.693,
          9.52,
          10.016,
          9.94,
          9.59,
          10.217,
          10.358,
          10.315,
          9.787,
          10.284,
          10.382,
          10.481,
          10.499,
          10.369,
          9.318,
          10.529,
          10.556
         ],
         "xaxis": "x",
         "y": [
          5.101,
          5.117,
          5.266,
          5.581,
          5.813,
          5.882,
          5.992,
          6.032,
          6.078,
          6.14,
          6.166,
          6.189,
          6.255,
          6.331,
          6.372,
          6.461,
          6.965
         ],
         "yaxis": "y"
        },
        {
         "customdata": [
          [
           "China"
          ],
          [
           "Hong Kong"
          ],
          [
           "Mongolia"
          ],
          [
           "South Korea"
          ],
          [
           "Japan"
          ],
          [
           "Taiwan"
          ]
         ],
         "hovertemplate": "Regional indicator=East Asia<br>GDP=%{x}<br>Ladder Score=%{y}<br>Country=%{customdata[0]}<extra></extra>",
         "legendgroup": "East Asia",
         "marker": {
          "color": "#B6E880",
          "symbol": "circle"
         },
         "mode": "markers",
         "name": "East Asia",
         "orientation": "v",
         "showlegend": true,
         "type": "scatter",
         "x": [
          9.673,
          11,
          9.4,
          10.651,
          10.611,
          10.871
         ],
         "xaxis": "x",
         "y": [
          5.339,
          5.477,
          5.677,
          5.845,
          5.94,
          6.584
         ],
         "yaxis": "y"
        },
        {
         "customdata": [
          [
           "North Cyprus"
          ],
          [
           "Greece"
          ],
          [
           "Portugal"
          ],
          [
           "Cyprus"
          ],
          [
           "Italy"
          ],
          [
           "Spain"
          ],
          [
           "Malta"
          ],
          [
           "France"
          ],
          [
           "Belgium"
          ],
          [
           "United Kingdom"
          ],
          [
           "Ireland"
          ],
          [
           "Germany"
          ],
          [
           "Austria"
          ],
          [
           "Luxembourg"
          ],
          [
           "Sweden"
          ],
          [
           "Norway"
          ],
          [
           "Netherlands"
          ],
          [
           "Iceland"
          ],
          [
           "Switzerland"
          ],
          [
           "Denmark"
          ],
          [
           "Finland"
          ]
         ],
         "hovertemplate": "Regional indicator=Western Europe<br>GDP=%{x}<br>Ladder Score=%{y}<br>Country=%{customdata[0]}<extra></extra>",
         "legendgroup": "Western Europe",
         "marker": {
          "color": "#FF97FF",
          "symbol": "circle"
         },
         "mode": "markers",
         "name": "Western Europe",
         "orientation": "v",
         "showlegend": true,
         "type": "scatter",
         "x": [
          10.576,
          10.279,
          10.421,
          10.576,
          10.623,
          10.571,
          10.674,
          10.704,
          10.823,
          10.707,
          11.342,
          10.873,
          10.906,
          11.647,
          10.867,
          11.053,
          10.932,
          10.878,
          11.117,
          10.933,
          10.775
         ],
         "xaxis": "x",
         "y": [
          5.536,
          5.723,
          5.929,
          6.223,
          6.483,
          6.491,
          6.602,
          6.69,
          6.834,
          7.064,
          7.085,
          7.155,
          7.268,
          7.324,
          7.363,
          7.392,
          7.464,
          7.554,
          7.571,
          7.62,
          7.842
         ],
         "yaxis": "y"
        },
        {
         "customdata": [
          [
           "United States"
          ],
          [
           "Canada"
          ],
          [
           "Australia"
          ],
          [
           "New Zealand"
          ]
         ],
         "hovertemplate": "Regional indicator=North America and ANZ<br>GDP=%{x}<br>Ladder Score=%{y}<br>Country=%{customdata[0]}<extra></extra>",
         "legendgroup": "North America and ANZ",
         "marker": {
          "color": "#FECB52",
          "symbol": "circle"
         },
         "mode": "markers",
         "name": "North America and ANZ",
         "orientation": "v",
         "showlegend": true,
         "type": "scatter",
         "x": [
          11.023,
          10.776,
          10.796,
          10.643
         ],
         "xaxis": "x",
         "y": [
          6.951,
          7.103,
          7.183,
          7.277
         ],
         "yaxis": "y"
        }
       ],
       "layout": {
        "autosize": true,
        "legend": {
         "title": {
          "text": "Regional indicator"
         },
         "tracegroupgap": 0
        },
        "template": {
         "data": {
          "bar": [
           {
            "error_x": {
             "color": "#2a3f5f"
            },
            "error_y": {
             "color": "#2a3f5f"
            },
            "marker": {
             "line": {
              "color": "#E5ECF6",
              "width": 0.5
             },
             "pattern": {
              "fillmode": "overlay",
              "size": 10,
              "solidity": 0.2
             }
            },
            "type": "bar"
           }
          ],
          "barpolar": [
           {
            "marker": {
             "line": {
              "color": "#E5ECF6",
              "width": 0.5
             },
             "pattern": {
              "fillmode": "overlay",
              "size": 10,
              "solidity": 0.2
             }
            },
            "type": "barpolar"
           }
          ],
          "carpet": [
           {
            "aaxis": {
             "endlinecolor": "#2a3f5f",
             "gridcolor": "white",
             "linecolor": "white",
             "minorgridcolor": "white",
             "startlinecolor": "#2a3f5f"
            },
            "baxis": {
             "endlinecolor": "#2a3f5f",
             "gridcolor": "white",
             "linecolor": "white",
             "minorgridcolor": "white",
             "startlinecolor": "#2a3f5f"
            },
            "type": "carpet"
           }
          ],
          "choropleth": [
           {
            "colorbar": {
             "outlinewidth": 0,
             "ticks": ""
            },
            "type": "choropleth"
           }
          ],
          "contour": [
           {
            "colorbar": {
             "outlinewidth": 0,
             "ticks": ""
            },
            "colorscale": [
             [
              0,
              "#0d0887"
             ],
             [
              0.1111111111111111,
              "#46039f"
             ],
             [
              0.2222222222222222,
              "#7201a8"
             ],
             [
              0.3333333333333333,
              "#9c179e"
             ],
             [
              0.4444444444444444,
              "#bd3786"
             ],
             [
              0.5555555555555556,
              "#d8576b"
             ],
             [
              0.6666666666666666,
              "#ed7953"
             ],
             [
              0.7777777777777778,
              "#fb9f3a"
             ],
             [
              0.8888888888888888,
              "#fdca26"
             ],
             [
              1,
              "#f0f921"
             ]
            ],
            "type": "contour"
           }
          ],
          "contourcarpet": [
           {
            "colorbar": {
             "outlinewidth": 0,
             "ticks": ""
            },
            "type": "contourcarpet"
           }
          ],
          "heatmap": [
           {
            "colorbar": {
             "outlinewidth": 0,
             "ticks": ""
            },
            "colorscale": [
             [
              0,
              "#0d0887"
             ],
             [
              0.1111111111111111,
              "#46039f"
             ],
             [
              0.2222222222222222,
              "#7201a8"
             ],
             [
              0.3333333333333333,
              "#9c179e"
             ],
             [
              0.4444444444444444,
              "#bd3786"
             ],
             [
              0.5555555555555556,
              "#d8576b"
             ],
             [
              0.6666666666666666,
              "#ed7953"
             ],
             [
              0.7777777777777778,
              "#fb9f3a"
             ],
             [
              0.8888888888888888,
              "#fdca26"
             ],
             [
              1,
              "#f0f921"
             ]
            ],
            "type": "heatmap"
           }
          ],
          "heatmapgl": [
           {
            "colorbar": {
             "outlinewidth": 0,
             "ticks": ""
            },
            "colorscale": [
             [
              0,
              "#0d0887"
             ],
             [
              0.1111111111111111,
              "#46039f"
             ],
             [
              0.2222222222222222,
              "#7201a8"
             ],
             [
              0.3333333333333333,
              "#9c179e"
             ],
             [
              0.4444444444444444,
              "#bd3786"
             ],
             [
              0.5555555555555556,
              "#d8576b"
             ],
             [
              0.6666666666666666,
              "#ed7953"
             ],
             [
              0.7777777777777778,
              "#fb9f3a"
             ],
             [
              0.8888888888888888,
              "#fdca26"
             ],
             [
              1,
              "#f0f921"
             ]
            ],
            "type": "heatmapgl"
           }
          ],
          "histogram": [
           {
            "marker": {
             "pattern": {
              "fillmode": "overlay",
              "size": 10,
              "solidity": 0.2
             }
            },
            "type": "histogram"
           }
          ],
          "histogram2d": [
           {
            "colorbar": {
             "outlinewidth": 0,
             "ticks": ""
            },
            "colorscale": [
             [
              0,
              "#0d0887"
             ],
             [
              0.1111111111111111,
              "#46039f"
             ],
             [
              0.2222222222222222,
              "#7201a8"
             ],
             [
              0.3333333333333333,
              "#9c179e"
             ],
             [
              0.4444444444444444,
              "#bd3786"
             ],
             [
              0.5555555555555556,
              "#d8576b"
             ],
             [
              0.6666666666666666,
              "#ed7953"
             ],
             [
              0.7777777777777778,
              "#fb9f3a"
             ],
             [
              0.8888888888888888,
              "#fdca26"
             ],
             [
              1,
              "#f0f921"
             ]
            ],
            "type": "histogram2d"
           }
          ],
          "histogram2dcontour": [
           {
            "colorbar": {
             "outlinewidth": 0,
             "ticks": ""
            },
            "colorscale": [
             [
              0,
              "#0d0887"
             ],
             [
              0.1111111111111111,
              "#46039f"
             ],
             [
              0.2222222222222222,
              "#7201a8"
             ],
             [
              0.3333333333333333,
              "#9c179e"
             ],
             [
              0.4444444444444444,
              "#bd3786"
             ],
             [
              0.5555555555555556,
              "#d8576b"
             ],
             [
              0.6666666666666666,
              "#ed7953"
             ],
             [
              0.7777777777777778,
              "#fb9f3a"
             ],
             [
              0.8888888888888888,
              "#fdca26"
             ],
             [
              1,
              "#f0f921"
             ]
            ],
            "type": "histogram2dcontour"
           }
          ],
          "mesh3d": [
           {
            "colorbar": {
             "outlinewidth": 0,
             "ticks": ""
            },
            "type": "mesh3d"
           }
          ],
          "parcoords": [
           {
            "line": {
             "colorbar": {
              "outlinewidth": 0,
              "ticks": ""
             }
            },
            "type": "parcoords"
           }
          ],
          "pie": [
           {
            "automargin": true,
            "type": "pie"
           }
          ],
          "scatter": [
           {
            "marker": {
             "colorbar": {
              "outlinewidth": 0,
              "ticks": ""
             }
            },
            "type": "scatter"
           }
          ],
          "scatter3d": [
           {
            "line": {
             "colorbar": {
              "outlinewidth": 0,
              "ticks": ""
             }
            },
            "marker": {
             "colorbar": {
              "outlinewidth": 0,
              "ticks": ""
             }
            },
            "type": "scatter3d"
           }
          ],
          "scattercarpet": [
           {
            "marker": {
             "colorbar": {
              "outlinewidth": 0,
              "ticks": ""
             }
            },
            "type": "scattercarpet"
           }
          ],
          "scattergeo": [
           {
            "marker": {
             "colorbar": {
              "outlinewidth": 0,
              "ticks": ""
             }
            },
            "type": "scattergeo"
           }
          ],
          "scattergl": [
           {
            "marker": {
             "colorbar": {
              "outlinewidth": 0,
              "ticks": ""
             }
            },
            "type": "scattergl"
           }
          ],
          "scattermapbox": [
           {
            "marker": {
             "colorbar": {
              "outlinewidth": 0,
              "ticks": ""
             }
            },
            "type": "scattermapbox"
           }
          ],
          "scatterpolar": [
           {
            "marker": {
             "colorbar": {
              "outlinewidth": 0,
              "ticks": ""
             }
            },
            "type": "scatterpolar"
           }
          ],
          "scatterpolargl": [
           {
            "marker": {
             "colorbar": {
              "outlinewidth": 0,
              "ticks": ""
             }
            },
            "type": "scatterpolargl"
           }
          ],
          "scatterternary": [
           {
            "marker": {
             "colorbar": {
              "outlinewidth": 0,
              "ticks": ""
             }
            },
            "type": "scatterternary"
           }
          ],
          "surface": [
           {
            "colorbar": {
             "outlinewidth": 0,
             "ticks": ""
            },
            "colorscale": [
             [
              0,
              "#0d0887"
             ],
             [
              0.1111111111111111,
              "#46039f"
             ],
             [
              0.2222222222222222,
              "#7201a8"
             ],
             [
              0.3333333333333333,
              "#9c179e"
             ],
             [
              0.4444444444444444,
              "#bd3786"
             ],
             [
              0.5555555555555556,
              "#d8576b"
             ],
             [
              0.6666666666666666,
              "#ed7953"
             ],
             [
              0.7777777777777778,
              "#fb9f3a"
             ],
             [
              0.8888888888888888,
              "#fdca26"
             ],
             [
              1,
              "#f0f921"
             ]
            ],
            "type": "surface"
           }
          ],
          "table": [
           {
            "cells": {
             "fill": {
              "color": "#EBF0F8"
             },
             "line": {
              "color": "white"
             }
            },
            "header": {
             "fill": {
              "color": "#C8D4E3"
             },
             "line": {
              "color": "white"
             }
            },
            "type": "table"
           }
          ]
         },
         "layout": {
          "annotationdefaults": {
           "arrowcolor": "#2a3f5f",
           "arrowhead": 0,
           "arrowwidth": 1
          },
          "autotypenumbers": "strict",
          "coloraxis": {
           "colorbar": {
            "outlinewidth": 0,
            "ticks": ""
           }
          },
          "colorscale": {
           "diverging": [
            [
             0,
             "#8e0152"
            ],
            [
             0.1,
             "#c51b7d"
            ],
            [
             0.2,
             "#de77ae"
            ],
            [
             0.3,
             "#f1b6da"
            ],
            [
             0.4,
             "#fde0ef"
            ],
            [
             0.5,
             "#f7f7f7"
            ],
            [
             0.6,
             "#e6f5d0"
            ],
            [
             0.7,
             "#b8e186"
            ],
            [
             0.8,
             "#7fbc41"
            ],
            [
             0.9,
             "#4d9221"
            ],
            [
             1,
             "#276419"
            ]
           ],
           "sequential": [
            [
             0,
             "#0d0887"
            ],
            [
             0.1111111111111111,
             "#46039f"
            ],
            [
             0.2222222222222222,
             "#7201a8"
            ],
            [
             0.3333333333333333,
             "#9c179e"
            ],
            [
             0.4444444444444444,
             "#bd3786"
            ],
            [
             0.5555555555555556,
             "#d8576b"
            ],
            [
             0.6666666666666666,
             "#ed7953"
            ],
            [
             0.7777777777777778,
             "#fb9f3a"
            ],
            [
             0.8888888888888888,
             "#fdca26"
            ],
            [
             1,
             "#f0f921"
            ]
           ],
           "sequentialminus": [
            [
             0,
             "#0d0887"
            ],
            [
             0.1111111111111111,
             "#46039f"
            ],
            [
             0.2222222222222222,
             "#7201a8"
            ],
            [
             0.3333333333333333,
             "#9c179e"
            ],
            [
             0.4444444444444444,
             "#bd3786"
            ],
            [
             0.5555555555555556,
             "#d8576b"
            ],
            [
             0.6666666666666666,
             "#ed7953"
            ],
            [
             0.7777777777777778,
             "#fb9f3a"
            ],
            [
             0.8888888888888888,
             "#fdca26"
            ],
            [
             1,
             "#f0f921"
            ]
           ]
          },
          "colorway": [
           "#636efa",
           "#EF553B",
           "#00cc96",
           "#ab63fa",
           "#FFA15A",
           "#19d3f3",
           "#FF6692",
           "#B6E880",
           "#FF97FF",
           "#FECB52"
          ],
          "font": {
           "color": "#2a3f5f"
          },
          "geo": {
           "bgcolor": "white",
           "lakecolor": "white",
           "landcolor": "#E5ECF6",
           "showlakes": true,
           "showland": true,
           "subunitcolor": "white"
          },
          "hoverlabel": {
           "align": "left"
          },
          "hovermode": "closest",
          "mapbox": {
           "style": "light"
          },
          "paper_bgcolor": "white",
          "plot_bgcolor": "#E5ECF6",
          "polar": {
           "angularaxis": {
            "gridcolor": "white",
            "linecolor": "white",
            "ticks": ""
           },
           "bgcolor": "#E5ECF6",
           "radialaxis": {
            "gridcolor": "white",
            "linecolor": "white",
            "ticks": ""
           }
          },
          "scene": {
           "xaxis": {
            "backgroundcolor": "#E5ECF6",
            "gridcolor": "white",
            "gridwidth": 2,
            "linecolor": "white",
            "showbackground": true,
            "ticks": "",
            "zerolinecolor": "white"
           },
           "yaxis": {
            "backgroundcolor": "#E5ECF6",
            "gridcolor": "white",
            "gridwidth": 2,
            "linecolor": "white",
            "showbackground": true,
            "ticks": "",
            "zerolinecolor": "white"
           },
           "zaxis": {
            "backgroundcolor": "#E5ECF6",
            "gridcolor": "white",
            "gridwidth": 2,
            "linecolor": "white",
            "showbackground": true,
            "ticks": "",
            "zerolinecolor": "white"
           }
          },
          "shapedefaults": {
           "line": {
            "color": "#2a3f5f"
           }
          },
          "ternary": {
           "aaxis": {
            "gridcolor": "white",
            "linecolor": "white",
            "ticks": ""
           },
           "baxis": {
            "gridcolor": "white",
            "linecolor": "white",
            "ticks": ""
           },
           "bgcolor": "#E5ECF6",
           "caxis": {
            "gridcolor": "white",
            "linecolor": "white",
            "ticks": ""
           }
          },
          "title": {
           "x": 0.05
          },
          "xaxis": {
           "automargin": true,
           "gridcolor": "white",
           "linecolor": "white",
           "ticks": "",
           "title": {
            "standoff": 15
           },
           "zerolinecolor": "white",
           "zerolinewidth": 2
          },
          "yaxis": {
           "automargin": true,
           "gridcolor": "white",
           "linecolor": "white",
           "ticks": "",
           "title": {
            "standoff": 15
           },
           "zerolinecolor": "white",
           "zerolinewidth": 2
          }
         }
        },
        "title": {
         "text": "GDP per Regions in 2021"
        },
        "xaxis": {
         "anchor": "y",
         "autorange": true,
         "domain": [
          0,
          1
         ],
         "range": [
          6.316663801337153,
          11.965336198662847
         ],
         "title": {
          "text": "GDP"
         },
         "type": "linear"
        },
        "yaxis": {
         "anchor": "x",
         "autorange": true,
         "domain": [
          0,
          1
         ],
         "range": [
          2.0840533980582525,
          8.280946601941746
         ],
         "title": {
          "text": "Ladder Score"
         },
         "type": "linear"
        }
       }
      },
      "image/png": "[encoded data removed]",
      "text/html": [
       "<div>                            <div id=\"ff310f01-7a66-4a40-a174-4b9d4ebe8aa9\" class=\"plotly-graph-div\" style=\"height:525px; width:100%;\"></div>            <script type=\"text/javascript\">                require([\"plotly\"], function(Plotly) {                    window.PLOTLYENV=window.PLOTLYENV || {};                                    if (document.getElementById(\"ff310f01-7a66-4a40-a174-4b9d4ebe8aa9\")) {                    Plotly.newPlot(                        \"ff310f01-7a66-4a40-a174-4b9d4ebe8aa9\",                        [{\"customdata\":[[\"Afghanistan\"],[\"India\"],[\"Sri Lanka\"],[\"Pakistan\"],[\"Bangladesh\"],[\"Maldives\"],[\"Nepal\"]],\"hovertemplate\":\"Regional indicator=South Asia<br>GDP=%{x}<br>Ladder Score=%{y}<br>Country=%{customdata[0]}<extra></extra>\",\"legendgroup\":\"South Asia\",\"marker\":{\"color\":\"#636efa\",\"symbol\":\"circle\"},\"mode\":\"markers\",\"name\":\"South Asia\",\"orientation\":\"v\",\"showlegend\":true,\"type\":\"scatter\",\"x\":[7.695,8.755,9.47,8.458,8.454,9.826,8.12],\"xaxis\":\"x\",\"y\":[2.523,3.819,4.325,4.934,5.025,5.198,5.269],\"yaxis\":\"y\"},{\"customdata\":[[\"Zimbabwe\"],[\"Rwanda\"],[\"Botswana\"],[\"Lesotho\"],[\"Malawi\"],[\"Tanzania\"],[\"Burundi\"],[\"Sierra Leone\"],[\"Zambia\"],[\"Togo\"],[\"Madagascar\"],[\"Mauritania\"],[\"Ethiopia\"],[\"Comoros\"],[\"Swaziland\"],[\"Chad\"],[\"Namibia\"],[\"Kenya\"],[\"Liberia\"],[\"Uganda\"],[\"Mali\"],[\"Nigeria\"],[\"Mozambique\"],[\"Burkina Faso\"],[\"Gabon\"],[\"South Africa\"],[\"Guinea\"],[\"Benin\"],[\"Gambia\"],[\"Niger\"],[\"Ghana\"],[\"Senegal\"],[\"Cameroon\"],[\"Ivory Coast\"],[\"Congo (Brazzaville)\"],[\"Mauritius\"]],\"hovertemplate\":\"Regional indicator=Sub-Saharan Africa<br>GDP=%{x}<br>Ladder Score=%{y}<br>Country=%{customdata[0]}<extra></extra>\",\"legendgroup\":\"Sub-Saharan Africa\",\"marker\":{\"color\":\"#EF553B\",\"symbol\":\"circle\"},\"mode\":\"markers\",\"name\":\"Sub-Saharan Africa\",\"orientation\":\"v\",\"showlegend\":true,\"type\":\"scatter\",\"x\":[7.943,7.676,9.782,7.926,6.958,7.876,6.635,7.434,8.145,7.362,7.396,8.542,7.694,8.031,9.065,7.364,9.161,8.361,7.288,7.677,7.744,8.533,7.158,7.678,9.603,9.403,7.838,8.087,7.686,7.098,8.58,8.118,8.189,8.551,8.117,10.008],\"xaxis\":\"x\",\"y\":[3.145,3.415,3.467,3.512,3.6,3.623,3.775,3.849,4.073,4.107,4.208,4.227,4.275,4.289,4.308,4.355,4.574,4.607,4.625,4.636,4.723,4.759,4.794,4.834,4.852,4.956,4.984,5.045,5.051,5.074,5.088,5.132,5.142,5.306,5.342,6.049],\"yaxis\":\"y\"},{\"customdata\":[[\"Haiti\"],[\"Venezuela\"],[\"Dominican Republic\"],[\"Paraguay\"],[\"Bolivia\"],[\"Ecuador\"],[\"Peru\"],[\"Honduras\"],[\"Argentina\"],[\"Nicaragua\"],[\"Colombia\"],[\"El Salvador\"],[\"Chile\"],[\"Panama\"],[\"Jamaica\"],[\"Mexico\"],[\"Brazil\"],[\"Uruguay\"],[\"Guatemala\"],[\"Costa Rica\"]],\"hovertemplate\":\"Regional indicator=Latin America and Caribbean<br>GDP=%{x}<br>Ladder Score=%{y}<br>Country=%{customdata[0]}<extra></extra>\",\"legendgroup\":\"Latin America and Caribbean\",\"marker\":{\"color\":\"#00cc96\",\"symbol\":\"circle\"},\"mode\":\"markers\",\"name\":\"Latin America and Caribbean\",\"orientation\":\"v\",\"showlegend\":true,\"type\":\"scatter\",\"x\":[7.477,9.073,9.802,9.448,9.046,9.313,9.458,8.648,9.962,8.62,9.557,9.054,10.071,10.35,9.186,9.859,9.577,9.966,9.053,9.88],\"xaxis\":\"x\",\"y\":[3.615,4.892,5.545,5.653,5.716,5.764,5.84,5.919,5.929,5.972,6.012,6.061,6.172,6.18,6.309,6.317,6.33,6.431,6.435,7.069],\"yaxis\":\"y\"},{\"customdata\":[[\"Yemen\"],[\"Egypt\"],[\"Jordan\"],[\"Palestinian Territories\"],[\"Lebanon\"],[\"Tunisia\"],[\"Iran\"],[\"Iraq\"],[\"Algeria\"],[\"Morocco\"],[\"Turkey\"],[\"Libya\"],[\"Kuwait\"],[\"Saudi Arabia\"],[\"United Arab Emirates\"],[\"Bahrain\"],[\"Israel\"]],\"hovertemplate\":\"Regional indicator=Middle East and North Africa<br>GDP=%{x}<br>Ladder Score=%{y}<br>Country=%{customdata[0]}<extra></extra>\",\"legendgroup\":\"Middle East and North Africa\",\"marker\":{\"color\":\"#ab63fa\",\"symbol\":\"circle\"},\"mode\":\"markers\",\"name\":\"Middle East and North Africa\",\"orientation\":\"v\",\"showlegend\":true,\"type\":\"scatter\",\"x\":[7.578,9.367,9.182,8.485,9.626,9.266,9.584,9.24,9.342,8.903,10.24,9.622,10.817,10.743,11.085,10.669,10.575],\"xaxis\":\"x\",\"y\":[3.658,4.283,4.395,4.517,4.584,4.596,4.721,4.854,4.887,4.918,4.948,5.41,6.106,6.494,6.561,6.647,7.157],\"yaxis\":\"y\"},{\"customdata\":[[\"Myanmar\"],[\"Cambodia\"],[\"Laos\"],[\"Indonesia\"],[\"Malaysia\"],[\"Vietnam\"],[\"Philippines\"],[\"Thailand\"],[\"Singapore\"]],\"hovertemplate\":\"Regional indicator=Southeast Asia<br>GDP=%{x}<br>Ladder Score=%{y}<br>Country=%{customdata[0]}<extra></extra>\",\"legendgroup\":\"Southeast Asia\",\"marker\":{\"color\":\"#FFA15A\",\"symbol\":\"circle\"},\"mode\":\"markers\",\"name\":\"Southeast Asia\",\"orientation\":\"v\",\"showlegend\":true,\"type\":\"scatter\",\"x\":[8.541,8.36,8.947,9.365,10.238,8.973,9.076,9.805,11.488],\"xaxis\":\"x\",\"y\":[4.426,4.83,5.03,5.345,5.384,5.411,5.88,5.985,6.377],\"yaxis\":\"y\"},{\"customdata\":[[\"Ukraine\"],[\"Georgia\"],[\"Turkmenistan\"],[\"Azerbaijan\"],[\"Armenia\"],[\"Tajikistan\"],[\"Russia\"],[\"Belarus\"],[\"Kyrgyzstan\"],[\"Moldova\"],[\"Kazakhstan\"],[\"Uzbekistan\"]],\"hovertemplate\":\"Regional indicator=Commonwealth of Independent States<br>GDP=%{x}<br>Ladder Score=%{y}<br>Country=%{customdata[0]}<extra></extra>\",\"legendgroup\":\"Commonwealth of Independent States\",\"marker\":{\"color\":\"#19d3f3\",\"symbol\":\"circle\"},\"mode\":\"markers\",\"name\":\"Commonwealth of Independent States\",\"orientation\":\"v\",\"showlegend\":true,\"type\":\"scatter\",\"x\":[9.436,9.585,9.629,9.569,9.487,8.091,10.189,9.853,8.538,9.454,10.155,8.836],\"xaxis\":\"x\",\"y\":[4.875,4.891,5.066,5.171,5.283,5.466,5.477,5.534,5.744,5.766,6.152,6.179],\"yaxis\":\"y\"},{\"customdata\":[[\"Macedonia\"],[\"Albania\"],[\"Bulgaria\"],[\"Montenegro\"],[\"Bosnia and Herzegovina\"],[\"Croatia\"],[\"Hungary\"],[\"Latvia\"],[\"Serbia\"],[\"Romania\"],[\"Poland\"],[\"Estonia\"],[\"Lithuania\"],[\"Slovakia\"],[\"Kosovo\"],[\"Slovenia\"],[\"Czech Republic\"]],\"hovertemplate\":\"Regional indicator=Central and Eastern Europe<br>GDP=%{x}<br>Ladder Score=%{y}<br>Country=%{customdata[0]}<extra></extra>\",\"legendgroup\":\"Central and Eastern Europe\",\"marker\":{\"color\":\"#FF6692\",\"symbol\":\"circle\"},\"mode\":\"markers\",\"name\":\"Central and Eastern Europe\",\"orientation\":\"v\",\"showlegend\":true,\"type\":\"scatter\",\"x\":[9.693,9.52,10.016,9.94,9.59,10.217,10.358,10.315,9.787,10.284,10.382,10.481,10.499,10.369,9.318,10.529,10.556],\"xaxis\":\"x\",\"y\":[5.101,5.117,5.266,5.581,5.813,5.882,5.992,6.032,6.078,6.14,6.166,6.189,6.255,6.331,6.372,6.461,6.965],\"yaxis\":\"y\"},{\"customdata\":[[\"China\"],[\"Hong Kong\"],[\"Mongolia\"],[\"South Korea\"],[\"Japan\"],[\"Taiwan\"]],\"hovertemplate\":\"Regional indicator=East Asia<br>GDP=%{x}<br>Ladder Score=%{y}<br>Country=%{customdata[0]}<extra></extra>\",\"legendgroup\":\"East Asia\",\"marker\":{\"color\":\"#B6E880\",\"symbol\":\"circle\"},\"mode\":\"markers\",\"name\":\"East Asia\",\"orientation\":\"v\",\"showlegend\":true,\"type\":\"scatter\",\"x\":[9.673,11.0,9.4,10.651,10.611,10.871],\"xaxis\":\"x\",\"y\":[5.339,5.477,5.677,5.845,5.94,6.584],\"yaxis\":\"y\"},{\"customdata\":[[\"North Cyprus\"],[\"Greece\"],[\"Portugal\"],[\"Cyprus\"],[\"Italy\"],[\"Spain\"],[\"Malta\"],[\"France\"],[\"Belgium\"],[\"United Kingdom\"],[\"Ireland\"],[\"Germany\"],[\"Austria\"],[\"Luxembourg\"],[\"Sweden\"],[\"Norway\"],[\"Netherlands\"],[\"Iceland\"],[\"Switzerland\"],[\"Denmark\"],[\"Finland\"]],\"hovertemplate\":\"Regional indicator=Western Europe<br>GDP=%{x}<br>Ladder Score=%{y}<br>Country=%{customdata[0]}<extra></extra>\",\"legendgroup\":\"Western Europe\",\"marker\":{\"color\":\"#FF97FF\",\"symbol\":\"circle\"},\"mode\":\"markers\",\"name\":\"Western Europe\",\"orientation\":\"v\",\"showlegend\":true,\"type\":\"scatter\",\"x\":[10.576,10.279,10.421,10.576,10.623,10.571,10.674,10.704,10.823,10.707,11.342,10.873,10.906,11.647,10.867,11.053,10.932,10.878,11.117,10.933,10.775],\"xaxis\":\"x\",\"y\":[5.536,5.723,5.929,6.223,6.483,6.491,6.602,6.69,6.834,7.064,7.085,7.155,7.268,7.324,7.363,7.392,7.464,7.554,7.571,7.62,7.842],\"yaxis\":\"y\"},{\"customdata\":[[\"United States\"],[\"Canada\"],[\"Australia\"],[\"New Zealand\"]],\"hovertemplate\":\"Regional indicator=North America and ANZ<br>GDP=%{x}<br>Ladder Score=%{y}<br>Country=%{customdata[0]}<extra></extra>\",\"legendgroup\":\"North America and ANZ\",\"marker\":{\"color\":\"#FECB52\",\"symbol\":\"circle\"},\"mode\":\"markers\",\"name\":\"North America and ANZ\",\"orientation\":\"v\",\"showlegend\":true,\"type\":\"scatter\",\"x\":[11.023,10.776,10.796,10.643],\"xaxis\":\"x\",\"y\":[6.951,7.103,7.183,7.277],\"yaxis\":\"y\"}],                        {\"legend\":{\"title\":{\"text\":\"Regional indicator\"},\"tracegroupgap\":0},\"template\":{\"data\":{\"bar\":[{\"error_x\":{\"color\":\"#2a3f5f\"},\"error_y\":{\"color\":\"#2a3f5f\"},\"marker\":{\"line\":{\"color\":\"#E5ECF6\",\"width\":0.5},\"pattern\":{\"fillmode\":\"overlay\",\"size\":10,\"solidity\":0.2}},\"type\":\"bar\"}],\"barpolar\":[{\"marker\":{\"line\":{\"color\":\"#E5ECF6\",\"width\":0.5},\"pattern\":{\"fillmode\":\"overlay\",\"size\":10,\"solidity\":0.2}},\"type\":\"barpolar\"}],\"carpet\":[{\"aaxis\":{\"endlinecolor\":\"#2a3f5f\",\"gridcolor\":\"white\",\"linecolor\":\"white\",\"minorgridcolor\":\"white\",\"startlinecolor\":\"#2a3f5f\"},\"baxis\":{\"endlinecolor\":\"#2a3f5f\",\"gridcolor\":\"white\",\"linecolor\":\"white\",\"minorgridcolor\":\"white\",\"startlinecolor\":\"#2a3f5f\"},\"type\":\"carpet\"}],\"choropleth\":[{\"colorbar\":{\"outlinewidth\":0,\"ticks\":\"\"},\"type\":\"choropleth\"}],\"contour\":[{\"colorbar\":{\"outlinewidth\":0,\"ticks\":\"\"},\"colorscale\":[[0.0,\"#0d0887\"],[0.1111111111111111,\"#46039f\"],[0.2222222222222222,\"#7201a8\"],[0.3333333333333333,\"#9c179e\"],[0.4444444444444444,\"#bd3786\"],[0.5555555555555556,\"#d8576b\"],[0.6666666666666666,\"#ed7953\"],[0.7777777777777778,\"#fb9f3a\"],[0.8888888888888888,\"#fdca26\"],[1.0,\"#f0f921\"]],\"type\":\"contour\"}],\"contourcarpet\":[{\"colorbar\":{\"outlinewidth\":0,\"ticks\":\"\"},\"type\":\"contourcarpet\"}],\"heatmap\":[{\"colorbar\":{\"outlinewidth\":0,\"ticks\":\"\"},\"colorscale\":[[0.0,\"#0d0887\"],[0.1111111111111111,\"#46039f\"],[0.2222222222222222,\"#7201a8\"],[0.3333333333333333,\"#9c179e\"],[0.4444444444444444,\"#bd3786\"],[0.5555555555555556,\"#d8576b\"],[0.6666666666666666,\"#ed7953\"],[0.7777777777777778,\"#fb9f3a\"],[0.8888888888888888,\"#fdca26\"],[1.0,\"#f0f921\"]],\"type\":\"heatmap\"}],\"heatmapgl\":[{\"colorbar\":{\"outlinewidth\":0,\"ticks\":\"\"},\"colorscale\":[[0.0,\"#0d0887\"],[0.1111111111111111,\"#46039f\"],[0.2222222222222222,\"#7201a8\"],[0.3333333333333333,\"#9c179e\"],[0.4444444444444444,\"#bd3786\"],[0.5555555555555556,\"#d8576b\"],[0.6666666666666666,\"#ed7953\"],[0.7777777777777778,\"#fb9f3a\"],[0.8888888888888888,\"#fdca26\"],[1.0,\"#f0f921\"]],\"type\":\"heatmapgl\"}],\"histogram\":[{\"marker\":{\"pattern\":{\"fillmode\":\"overlay\",\"size\":10,\"solidity\":0.2}},\"type\":\"histogram\"}],\"histogram2d\":[{\"colorbar\":{\"outlinewidth\":0,\"ticks\":\"\"},\"colorscale\":[[0.0,\"#0d0887\"],[0.1111111111111111,\"#46039f\"],[0.2222222222222222,\"#7201a8\"],[0.3333333333333333,\"#9c179e\"],[0.4444444444444444,\"#bd3786\"],[0.5555555555555556,\"#d8576b\"],[0.6666666666666666,\"#ed7953\"],[0.7777777777777778,\"#fb9f3a\"],[0.8888888888888888,\"#fdca26\"],[1.0,\"#f0f921\"]],\"type\":\"histogram2d\"}],\"histogram2dcontour\":[{\"colorbar\":{\"outlinewidth\":0,\"ticks\":\"\"},\"colorscale\":[[0.0,\"#0d0887\"],[0.1111111111111111,\"#46039f\"],[0.2222222222222222,\"#7201a8\"],[0.3333333333333333,\"#9c179e\"],[0.4444444444444444,\"#bd3786\"],[0.5555555555555556,\"#d8576b\"],[0.6666666666666666,\"#ed7953\"],[0.7777777777777778,\"#fb9f3a\"],[0.8888888888888888,\"#fdca26\"],[1.0,\"#f0f921\"]],\"type\":\"histogram2dcontour\"}],\"mesh3d\":[{\"colorbar\":{\"outlinewidth\":0,\"ticks\":\"\"},\"type\":\"mesh3d\"}],\"parcoords\":[{\"line\":{\"colorbar\":{\"outlinewidth\":0,\"ticks\":\"\"}},\"type\":\"parcoords\"}],\"pie\":[{\"automargin\":true,\"type\":\"pie\"}],\"scatter\":[{\"marker\":{\"colorbar\":{\"outlinewidth\":0,\"ticks\":\"\"}},\"type\":\"scatter\"}],\"scatter3d\":[{\"line\":{\"colorbar\":{\"outlinewidth\":0,\"ticks\":\"\"}},\"marker\":{\"colorbar\":{\"outlinewidth\":0,\"ticks\":\"\"}},\"type\":\"scatter3d\"}],\"scattercarpet\":[{\"marker\":{\"colorbar\":{\"outlinewidth\":0,\"ticks\":\"\"}},\"type\":\"scattercarpet\"}],\"scattergeo\":[{\"marker\":{\"colorbar\":{\"outlinewidth\":0,\"ticks\":\"\"}},\"type\":\"scattergeo\"}],\"scattergl\":[{\"marker\":{\"colorbar\":{\"outlinewidth\":0,\"ticks\":\"\"}},\"type\":\"scattergl\"}],\"scattermapbox\":[{\"marker\":{\"colorbar\":{\"outlinewidth\":0,\"ticks\":\"\"}},\"type\":\"scattermapbox\"}],\"scatterpolar\":[{\"marker\":{\"colorbar\":{\"outlinewidth\":0,\"ticks\":\"\"}},\"type\":\"scatterpolar\"}],\"scatterpolargl\":[{\"marker\":{\"colorbar\":{\"outlinewidth\":0,\"ticks\":\"\"}},\"type\":\"scatterpolargl\"}],\"scatterternary\":[{\"marker\":{\"colorbar\":{\"outlinewidth\":0,\"ticks\":\"\"}},\"type\":\"scatterternary\"}],\"surface\":[{\"colorbar\":{\"outlinewidth\":0,\"ticks\":\"\"},\"colorscale\":[[0.0,\"#0d0887\"],[0.1111111111111111,\"#46039f\"],[0.2222222222222222,\"#7201a8\"],[0.3333333333333333,\"#9c179e\"],[0.4444444444444444,\"#bd3786\"],[0.5555555555555556,\"#d8576b\"],[0.6666666666666666,\"#ed7953\"],[0.7777777777777778,\"#fb9f3a\"],[0.8888888888888888,\"#fdca26\"],[1.0,\"#f0f921\"]],\"type\":\"surface\"}],\"table\":[{\"cells\":{\"fill\":{\"color\":\"#EBF0F8\"},\"line\":{\"color\":\"white\"}},\"header\":{\"fill\":{\"color\":\"#C8D4E3\"},\"line\":{\"color\":\"white\"}},\"type\":\"table\"}]},\"layout\":{\"annotationdefaults\":{\"arrowcolor\":\"#2a3f5f\",\"arrowhead\":0,\"arrowwidth\":1},\"autotypenumbers\":\"strict\",\"coloraxis\":{\"colorbar\":{\"outlinewidth\":0,\"ticks\":\"\"}},\"colorscale\":{\"diverging\":[[0,\"#8e0152\"],[0.1,\"#c51b7d\"],[0.2,\"#de77ae\"],[0.3,\"#f1b6da\"],[0.4,\"#fde0ef\"],[0.5,\"#f7f7f7\"],[0.6,\"#e6f5d0\"],[0.7,\"#b8e186\"],[0.8,\"#7fbc41\"],[0.9,\"#4d9221\"],[1,\"#276419\"]],\"sequential\":[[0.0,\"#0d0887\"],[0.1111111111111111,\"#46039f\"],[0.2222222222222222,\"#7201a8\"],[0.3333333333333333,\"#9c179e\"],[0.4444444444444444,\"#bd3786\"],[0.5555555555555556,\"#d8576b\"],[0.6666666666666666,\"#ed7953\"],[0.7777777777777778,\"#fb9f3a\"],[0.8888888888888888,\"#fdca26\"],[1.0,\"#f0f921\"]],\"sequentialminus\":[[0.0,\"#0d0887\"],[0.1111111111111111,\"#46039f\"],[0.2222222222222222,\"#7201a8\"],[0.3333333333333333,\"#9c179e\"],[0.4444444444444444,\"#bd3786\"],[0.5555555555555556,\"#d8576b\"],[0.6666666666666666,\"#ed7953\"],[0.7777777777777778,\"#fb9f3a\"],[0.8888888888888888,\"#fdca26\"],[1.0,\"#f0f921\"]]},\"colorway\":[\"#636efa\",\"#EF553B\",\"#00cc96\",\"#ab63fa\",\"#FFA15A\",\"#19d3f3\",\"#FF6692\",\"#B6E880\",\"#FF97FF\",\"#FECB52\"],\"font\":{\"color\":\"#2a3f5f\"},\"geo\":{\"bgcolor\":\"white\",\"lakecolor\":\"white\",\"landcolor\":\"#E5ECF6\",\"showlakes\":true,\"showland\":true,\"subunitcolor\":\"white\"},\"hoverlabel\":{\"align\":\"left\"},\"hovermode\":\"closest\",\"mapbox\":{\"style\":\"light\"},\"paper_bgcolor\":\"white\",\"plot_bgcolor\":\"#E5ECF6\",\"polar\":{\"angularaxis\":{\"gridcolor\":\"white\",\"linecolor\":\"white\",\"ticks\":\"\"},\"bgcolor\":\"#E5ECF6\",\"radialaxis\":{\"gridcolor\":\"white\",\"linecolor\":\"white\",\"ticks\":\"\"}},\"scene\":{\"xaxis\":{\"backgroundcolor\":\"#E5ECF6\",\"gridcolor\":\"white\",\"gridwidth\":2,\"linecolor\":\"white\",\"showbackground\":true,\"ticks\":\"\",\"zerolinecolor\":\"white\"},\"yaxis\":{\"backgroundcolor\":\"#E5ECF6\",\"gridcolor\":\"white\",\"gridwidth\":2,\"linecolor\":\"white\",\"showbackground\":true,\"ticks\":\"\",\"zerolinecolor\":\"white\"},\"zaxis\":{\"backgroundcolor\":\"#E5ECF6\",\"gridcolor\":\"white\",\"gridwidth\":2,\"linecolor\":\"white\",\"showbackground\":true,\"ticks\":\"\",\"zerolinecolor\":\"white\"}},\"shapedefaults\":{\"line\":{\"color\":\"#2a3f5f\"}},\"ternary\":{\"aaxis\":{\"gridcolor\":\"white\",\"linecolor\":\"white\",\"ticks\":\"\"},\"baxis\":{\"gridcolor\":\"white\",\"linecolor\":\"white\",\"ticks\":\"\"},\"bgcolor\":\"#E5ECF6\",\"caxis\":{\"gridcolor\":\"white\",\"linecolor\":\"white\",\"ticks\":\"\"}},\"title\":{\"x\":0.05},\"xaxis\":{\"automargin\":true,\"gridcolor\":\"white\",\"linecolor\":\"white\",\"ticks\":\"\",\"title\":{\"standoff\":15},\"zerolinecolor\":\"white\",\"zerolinewidth\":2},\"yaxis\":{\"automargin\":true,\"gridcolor\":\"white\",\"linecolor\":\"white\",\"ticks\":\"\",\"title\":{\"standoff\":15},\"zerolinecolor\":\"white\",\"zerolinewidth\":2}}},\"title\":{\"text\":\"GDP per Regions in 2021\"},\"xaxis\":{\"anchor\":\"y\",\"domain\":[0.0,1.0],\"title\":{\"text\":\"GDP\"}},\"yaxis\":{\"anchor\":\"x\",\"domain\":[0.0,1.0],\"title\":{\"text\":\"Ladder Score\"}}},                        {\"responsive\": true}                    ).then(function(){\n",
       "                            \n",
       "var gd = document.getElementById('ff310f01-7a66-4a40-a174-4b9d4ebe8aa9');\n",
       "var x = new MutationObserver(function (mutations, observer) {{\n",
       "        var display = window.getComputedStyle(gd).display;\n",
       "        if (!display || display === 'none') {{\n",
       "            console.log([gd, 'removed!']);\n",
       "            Plotly.purge(gd);\n",
       "            observer.disconnect();\n",
       "        }}\n",
       "}});\n",
       "\n",
       "// Listen for the removal of the full notebook cells\n",
       "var notebookContainer = gd.closest('#notebook-container');\n",
       "if (notebookContainer) {{\n",
       "    x.observe(notebookContainer, {childList: true});\n",
       "}}\n",
       "\n",
       "// Listen for the clearing of the current output cell\n",
       "var outputEl = gd.closest('.output');\n",
       "if (outputEl) {{\n",
       "    x.observe(outputEl, {childList: true});\n",
       "}}\n",
       "\n",
       "                        })                };                });            </script>        </div>"
      ]
     },
     "metadata": {},
     "output_type": "display_data"
    }
   ],
   "source": [
    "#Bubble plot: A bubble plot is a scatterplot where the circle size is mapped to the value of a third numeric variable. This section shows many bubble plots made with Python, using both the Matplotlib and Seaborn libraries.\n",
    "\n",
    "fig= px.scatter(chart_countries_df.loc[2021],x='GDP', y='Ladder Score', color='Regional indicator', hover_data=['Country'], title=\"GDP per Regions in 2021\")\n",
    "fig.write_image(\"GDP.png\")\n",
    "fig.show()"
   ]
  },
  {
   "cell_type": "code",
   "execution_count": 27,
   "id": "9fe57508-8ccf-40e3-a220-e9a27ff7d514",
   "metadata": {},
   "outputs": [
    {
     "data": {
      "application/vnd.plotly.v1+json": {
       "config": {
        "plotlyServerURL": "https://plot.ly"
       },
       "data": [
        {
         "customdata": [
          [
           "Afghanistan"
          ],
          [
           "India"
          ],
          [
           "Sri Lanka"
          ],
          [
           "Pakistan"
          ],
          [
           "Bangladesh"
          ],
          [
           "Maldives"
          ],
          [
           "Nepal"
          ]
         ],
         "hovertemplate": "Regional indicator=South Asia<br>Freedom=%{x}<br>Ladder Score=%{y}<br>Country=%{customdata[0]}<extra></extra>",
         "legendgroup": "South Asia",
         "marker": {
          "color": "#636efa",
          "symbol": "circle"
         },
         "mode": "markers",
         "name": "South Asia",
         "orientation": "v",
         "showlegend": true,
         "type": "scatter",
         "x": [
          0.382,
          0.893,
          0.841,
          0.726,
          0.877,
          0.854,
          0.782
         ],
         "xaxis": "x",
         "y": [
          2.523,
          3.819,
          4.325,
          4.934,
          5.025,
          5.198,
          5.269
         ],
         "yaxis": "y"
        },
        {
         "customdata": [
          [
           "Zimbabwe"
          ],
          [
           "Rwanda"
          ],
          [
           "Botswana"
          ],
          [
           "Lesotho"
          ],
          [
           "Malawi"
          ],
          [
           "Tanzania"
          ],
          [
           "Burundi"
          ],
          [
           "Sierra Leone"
          ],
          [
           "Zambia"
          ],
          [
           "Togo"
          ],
          [
           "Madagascar"
          ],
          [
           "Mauritania"
          ],
          [
           "Ethiopia"
          ],
          [
           "Comoros"
          ],
          [
           "Swaziland"
          ],
          [
           "Chad"
          ],
          [
           "Namibia"
          ],
          [
           "Kenya"
          ],
          [
           "Liberia"
          ],
          [
           "Uganda"
          ],
          [
           "Mali"
          ],
          [
           "Nigeria"
          ],
          [
           "Mozambique"
          ],
          [
           "Burkina Faso"
          ],
          [
           "Gabon"
          ],
          [
           "South Africa"
          ],
          [
           "Guinea"
          ],
          [
           "Benin"
          ],
          [
           "Gambia"
          ],
          [
           "Niger"
          ],
          [
           "Ghana"
          ],
          [
           "Senegal"
          ],
          [
           "Cameroon"
          ],
          [
           "Ivory Coast"
          ],
          [
           "Congo (Brazzaville)"
          ],
          [
           "Mauritius"
          ]
         ],
         "hovertemplate": "Regional indicator=Sub-Saharan Africa<br>Freedom=%{x}<br>Ladder Score=%{y}<br>Country=%{customdata[0]}<extra></extra>",
         "legendgroup": "Sub-Saharan Africa",
         "marker": {
          "color": "#EF553B",
          "symbol": "circle"
         },
         "mode": "markers",
         "name": "Sub-Saharan Africa",
         "orientation": "v",
         "showlegend": true,
         "type": "scatter",
         "x": [
          0.677,
          0.897,
          0.824,
          0.715,
          0.78,
          0.833,
          0.626,
          0.717,
          0.782,
          0.619,
          0.552,
          0.561,
          0.752,
          0.548,
          0.647,
          0.579,
          0.719,
          0.779,
          0.735,
          0.709,
          0.697,
          0.737,
          0.882,
          0.695,
          0.731,
          0.749,
          0.697,
          0.757,
          0.697,
          0.806,
          0.807,
          0.695,
          0.731,
          0.741,
          0.695,
          0.867
         ],
         "xaxis": "x",
         "y": [
          3.145,
          3.415,
          3.467,
          3.512,
          3.6,
          3.623,
          3.775,
          3.849,
          4.073,
          4.107,
          4.208,
          4.227,
          4.275,
          4.289,
          4.308,
          4.355,
          4.574,
          4.607,
          4.625,
          4.636,
          4.723,
          4.759,
          4.794,
          4.834,
          4.852,
          4.956,
          4.984,
          5.045,
          5.051,
          5.074,
          5.088,
          5.132,
          5.142,
          5.306,
          5.342,
          6.049
         ],
         "yaxis": "y"
        },
        {
         "customdata": [
          [
           "Haiti"
          ],
          [
           "Venezuela"
          ],
          [
           "Dominican Republic"
          ],
          [
           "Paraguay"
          ],
          [
           "Bolivia"
          ],
          [
           "Ecuador"
          ],
          [
           "Peru"
          ],
          [
           "Honduras"
          ],
          [
           "Argentina"
          ],
          [
           "Nicaragua"
          ],
          [
           "Colombia"
          ],
          [
           "El Salvador"
          ],
          [
           "Chile"
          ],
          [
           "Panama"
          ],
          [
           "Jamaica"
          ],
          [
           "Mexico"
          ],
          [
           "Brazil"
          ],
          [
           "Uruguay"
          ],
          [
           "Guatemala"
          ],
          [
           "Costa Rica"
          ]
         ],
         "hovertemplate": "Regional indicator=Latin America and Caribbean<br>Freedom=%{x}<br>Ladder Score=%{y}<br>Country=%{customdata[0]}<extra></extra>",
         "legendgroup": "Latin America and Caribbean",
         "marker": {
          "color": "#00cc96",
          "symbol": "circle"
         },
         "mode": "markers",
         "name": "Latin America and Caribbean",
         "orientation": "v",
         "showlegend": true,
         "type": "scatter",
         "x": [
          0.593,
          0.615,
          0.86,
          0.876,
          0.875,
          0.842,
          0.822,
          0.857,
          0.828,
          0.836,
          0.837,
          0.888,
          0.742,
          0.872,
          0.89,
          0.862,
          0.804,
          0.896,
          0.906,
          0.934
         ],
         "xaxis": "x",
         "y": [
          3.615,
          4.892,
          5.545,
          5.653,
          5.716,
          5.764,
          5.84,
          5.919,
          5.929,
          5.972,
          6.012,
          6.061,
          6.172,
          6.18,
          6.309,
          6.317,
          6.33,
          6.431,
          6.435,
          7.069
         ],
         "yaxis": "y"
        },
        {
         "customdata": [
          [
           "Yemen"
          ],
          [
           "Egypt"
          ],
          [
           "Jordan"
          ],
          [
           "Palestinian Territories"
          ],
          [
           "Lebanon"
          ],
          [
           "Tunisia"
          ],
          [
           "Iran"
          ],
          [
           "Iraq"
          ],
          [
           "Algeria"
          ],
          [
           "Morocco"
          ],
          [
           "Turkey"
          ],
          [
           "Libya"
          ],
          [
           "Kuwait"
          ],
          [
           "Saudi Arabia"
          ],
          [
           "United Arab Emirates"
          ],
          [
           "Bahrain"
          ],
          [
           "Israel"
          ]
         ],
         "hovertemplate": "Regional indicator=Middle East and North Africa<br>Freedom=%{x}<br>Ladder Score=%{y}<br>Country=%{customdata[0]}<extra></extra>",
         "legendgroup": "Middle East and North Africa",
         "marker": {
          "color": "#ab63fa",
          "symbol": "circle"
         },
         "mode": "markers",
         "name": "Middle East and North Africa",
         "orientation": "v",
         "showlegend": true,
         "type": "scatter",
         "x": [
          0.602,
          0.749,
          0.755,
          0.653,
          0.525,
          0.656,
          0.608,
          0.63,
          0.48,
          0.774,
          0.576,
          0.771,
          0.867,
          0.877,
          0.932,
          0.925,
          0.8
         ],
         "xaxis": "x",
         "y": [
          3.658,
          4.283,
          4.395,
          4.517,
          4.584,
          4.596,
          4.721,
          4.854,
          4.887,
          4.918,
          4.948,
          5.41,
          6.106,
          6.494,
          6.561,
          6.647,
          7.157
         ],
         "yaxis": "y"
        },
        {
         "customdata": [
          [
           "Myanmar"
          ],
          [
           "Cambodia"
          ],
          [
           "Laos"
          ],
          [
           "Indonesia"
          ],
          [
           "Malaysia"
          ],
          [
           "Vietnam"
          ],
          [
           "Philippines"
          ],
          [
           "Thailand"
          ],
          [
           "Singapore"
          ]
         ],
         "hovertemplate": "Regional indicator=Southeast Asia<br>Freedom=%{x}<br>Ladder Score=%{y}<br>Country=%{customdata[0]}<extra></extra>",
         "legendgroup": "Southeast Asia",
         "marker": {
          "color": "#FFA15A",
          "symbol": "circle"
         },
         "mode": "markers",
         "name": "Southeast Asia",
         "orientation": "v",
         "showlegend": true,
         "type": "scatter",
         "x": [
          0.876,
          0.959,
          0.91,
          0.873,
          0.895,
          0.94,
          0.917,
          0.884,
          0.927
         ],
         "xaxis": "x",
         "y": [
          4.426,
          4.83,
          5.03,
          5.345,
          5.384,
          5.411,
          5.88,
          5.985,
          6.377
         ],
         "yaxis": "y"
        },
        {
         "customdata": [
          [
           "Ukraine"
          ],
          [
           "Georgia"
          ],
          [
           "Turkmenistan"
          ],
          [
           "Azerbaijan"
          ],
          [
           "Armenia"
          ],
          [
           "Tajikistan"
          ],
          [
           "Russia"
          ],
          [
           "Belarus"
          ],
          [
           "Kyrgyzstan"
          ],
          [
           "Moldova"
          ],
          [
           "Kazakhstan"
          ],
          [
           "Uzbekistan"
          ]
         ],
         "hovertemplate": "Regional indicator=Commonwealth of Independent States<br>Freedom=%{x}<br>Ladder Score=%{y}<br>Country=%{customdata[0]}<extra></extra>",
         "legendgroup": "Commonwealth of Independent States",
         "marker": {
          "color": "#19d3f3",
          "symbol": "circle"
         },
         "mode": "markers",
         "name": "Commonwealth of Independent States",
         "orientation": "v",
         "showlegend": true,
         "type": "scatter",
         "x": [
          0.724,
          0.783,
          0.877,
          0.814,
          0.825,
          0.832,
          0.718,
          0.65,
          0.935,
          0.822,
          0.853,
          0.97
         ],
         "xaxis": "x",
         "y": [
          4.875,
          4.891,
          5.066,
          5.171,
          5.283,
          5.466,
          5.477,
          5.534,
          5.744,
          5.766,
          6.152,
          6.179
         ],
         "yaxis": "y"
        },
        {
         "customdata": [
          [
           "Macedonia"
          ],
          [
           "Albania"
          ],
          [
           "Bulgaria"
          ],
          [
           "Montenegro"
          ],
          [
           "Bosnia and Herzegovina"
          ],
          [
           "Croatia"
          ],
          [
           "Hungary"
          ],
          [
           "Latvia"
          ],
          [
           "Serbia"
          ],
          [
           "Romania"
          ],
          [
           "Poland"
          ],
          [
           "Estonia"
          ],
          [
           "Lithuania"
          ],
          [
           "Slovakia"
          ],
          [
           "Kosovo"
          ],
          [
           "Slovenia"
          ],
          [
           "Czech Republic"
          ]
         ],
         "hovertemplate": "Regional indicator=Central and Eastern Europe<br>Freedom=%{x}<br>Ladder Score=%{y}<br>Country=%{customdata[0]}<extra></extra>",
         "legendgroup": "Central and Eastern Europe",
         "marker": {
          "color": "#FF6692",
          "symbol": "circle"
         },
         "mode": "markers",
         "name": "Central and Eastern Europe",
         "orientation": "v",
         "showlegend": true,
         "type": "scatter",
         "x": [
          0.751,
          0.785,
          0.788,
          0.708,
          0.706,
          0.754,
          0.755,
          0.715,
          0.778,
          0.845,
          0.841,
          0.909,
          0.773,
          0.766,
          0.869,
          0.949,
          0.858
         ],
         "xaxis": "x",
         "y": [
          5.101,
          5.117,
          5.266,
          5.581,
          5.813,
          5.882,
          5.992,
          6.032,
          6.078,
          6.14,
          6.166,
          6.189,
          6.255,
          6.331,
          6.372,
          6.461,
          6.965
         ],
         "yaxis": "y"
        },
        {
         "customdata": [
          [
           "China"
          ],
          [
           "Hong Kong"
          ],
          [
           "Mongolia"
          ],
          [
           "South Korea"
          ],
          [
           "Japan"
          ],
          [
           "Taiwan"
          ]
         ],
         "hovertemplate": "Regional indicator=East Asia<br>Freedom=%{x}<br>Ladder Score=%{y}<br>Country=%{customdata[0]}<extra></extra>",
         "legendgroup": "East Asia",
         "marker": {
          "color": "#B6E880",
          "symbol": "circle"
         },
         "mode": "markers",
         "name": "East Asia",
         "orientation": "v",
         "showlegend": true,
         "type": "scatter",
         "x": [
          0.904,
          0.717,
          0.708,
          0.672,
          0.796,
          0.784
         ],
         "xaxis": "x",
         "y": [
          5.339,
          5.477,
          5.677,
          5.845,
          5.94,
          6.584
         ],
         "yaxis": "y"
        },
        {
         "customdata": [
          [
           "North Cyprus"
          ],
          [
           "Greece"
          ],
          [
           "Portugal"
          ],
          [
           "Cyprus"
          ],
          [
           "Italy"
          ],
          [
           "Spain"
          ],
          [
           "Malta"
          ],
          [
           "France"
          ],
          [
           "Belgium"
          ],
          [
           "United Kingdom"
          ],
          [
           "Ireland"
          ],
          [
           "Germany"
          ],
          [
           "Austria"
          ],
          [
           "Luxembourg"
          ],
          [
           "Sweden"
          ],
          [
           "Norway"
          ],
          [
           "Netherlands"
          ],
          [
           "Iceland"
          ],
          [
           "Switzerland"
          ],
          [
           "Denmark"
          ],
          [
           "Finland"
          ]
         ],
         "hovertemplate": "Regional indicator=Western Europe<br>Freedom=%{x}<br>Ladder Score=%{y}<br>Country=%{customdata[0]}<extra></extra>",
         "legendgroup": "Western Europe",
         "marker": {
          "color": "#FF97FF",
          "symbol": "circle"
         },
         "mode": "markers",
         "name": "Western Europe",
         "orientation": "v",
         "showlegend": true,
         "type": "scatter",
         "x": [
          0.795,
          0.582,
          0.892,
          0.763,
          0.693,
          0.761,
          0.927,
          0.822,
          0.783,
          0.859,
          0.879,
          0.875,
          0.908,
          0.907,
          0.945,
          0.96,
          0.913,
          0.955,
          0.919,
          0.946,
          0.949
         ],
         "xaxis": "x",
         "y": [
          5.536,
          5.723,
          5.929,
          6.223,
          6.483,
          6.491,
          6.602,
          6.69,
          6.834,
          7.064,
          7.085,
          7.155,
          7.268,
          7.324,
          7.363,
          7.392,
          7.464,
          7.554,
          7.571,
          7.62,
          7.842
         ],
         "yaxis": "y"
        },
        {
         "customdata": [
          [
           "United States"
          ],
          [
           "Canada"
          ],
          [
           "Australia"
          ],
          [
           "New Zealand"
          ]
         ],
         "hovertemplate": "Regional indicator=North America and ANZ<br>Freedom=%{x}<br>Ladder Score=%{y}<br>Country=%{customdata[0]}<extra></extra>",
         "legendgroup": "North America and ANZ",
         "marker": {
          "color": "#FECB52",
          "symbol": "circle"
         },
         "mode": "markers",
         "name": "North America and ANZ",
         "orientation": "v",
         "showlegend": true,
         "type": "scatter",
         "x": [
          0.837,
          0.915,
          0.914,
          0.929
         ],
         "xaxis": "x",
         "y": [
          6.951,
          7.103,
          7.183,
          7.277
         ],
         "yaxis": "y"
        }
       ],
       "layout": {
        "autosize": true,
        "legend": {
         "title": {
          "text": "Regional indicator"
         },
         "tracegroupgap": 0
        },
        "template": {
         "data": {
          "bar": [
           {
            "error_x": {
             "color": "#2a3f5f"
            },
            "error_y": {
             "color": "#2a3f5f"
            },
            "marker": {
             "line": {
              "color": "#E5ECF6",
              "width": 0.5
             },
             "pattern": {
              "fillmode": "overlay",
              "size": 10,
              "solidity": 0.2
             }
            },
            "type": "bar"
           }
          ],
          "barpolar": [
           {
            "marker": {
             "line": {
              "color": "#E5ECF6",
              "width": 0.5
             },
             "pattern": {
              "fillmode": "overlay",
              "size": 10,
              "solidity": 0.2
             }
            },
            "type": "barpolar"
           }
          ],
          "carpet": [
           {
            "aaxis": {
             "endlinecolor": "#2a3f5f",
             "gridcolor": "white",
             "linecolor": "white",
             "minorgridcolor": "white",
             "startlinecolor": "#2a3f5f"
            },
            "baxis": {
             "endlinecolor": "#2a3f5f",
             "gridcolor": "white",
             "linecolor": "white",
             "minorgridcolor": "white",
             "startlinecolor": "#2a3f5f"
            },
            "type": "carpet"
           }
          ],
          "choropleth": [
           {
            "colorbar": {
             "outlinewidth": 0,
             "ticks": ""
            },
            "type": "choropleth"
           }
          ],
          "contour": [
           {
            "colorbar": {
             "outlinewidth": 0,
             "ticks": ""
            },
            "colorscale": [
             [
              0,
              "#0d0887"
             ],
             [
              0.1111111111111111,
              "#46039f"
             ],
             [
              0.2222222222222222,
              "#7201a8"
             ],
             [
              0.3333333333333333,
              "#9c179e"
             ],
             [
              0.4444444444444444,
              "#bd3786"
             ],
             [
              0.5555555555555556,
              "#d8576b"
             ],
             [
              0.6666666666666666,
              "#ed7953"
             ],
             [
              0.7777777777777778,
              "#fb9f3a"
             ],
             [
              0.8888888888888888,
              "#fdca26"
             ],
             [
              1,
              "#f0f921"
             ]
            ],
            "type": "contour"
           }
          ],
          "contourcarpet": [
           {
            "colorbar": {
             "outlinewidth": 0,
             "ticks": ""
            },
            "type": "contourcarpet"
           }
          ],
          "heatmap": [
           {
            "colorbar": {
             "outlinewidth": 0,
             "ticks": ""
            },
            "colorscale": [
             [
              0,
              "#0d0887"
             ],
             [
              0.1111111111111111,
              "#46039f"
             ],
             [
              0.2222222222222222,
              "#7201a8"
             ],
             [
              0.3333333333333333,
              "#9c179e"
             ],
             [
              0.4444444444444444,
              "#bd3786"
             ],
             [
              0.5555555555555556,
              "#d8576b"
             ],
             [
              0.6666666666666666,
              "#ed7953"
             ],
             [
              0.7777777777777778,
              "#fb9f3a"
             ],
             [
              0.8888888888888888,
              "#fdca26"
             ],
             [
              1,
              "#f0f921"
             ]
            ],
            "type": "heatmap"
           }
          ],
          "heatmapgl": [
           {
            "colorbar": {
             "outlinewidth": 0,
             "ticks": ""
            },
            "colorscale": [
             [
              0,
              "#0d0887"
             ],
             [
              0.1111111111111111,
              "#46039f"
             ],
             [
              0.2222222222222222,
              "#7201a8"
             ],
             [
              0.3333333333333333,
              "#9c179e"
             ],
             [
              0.4444444444444444,
              "#bd3786"
             ],
             [
              0.5555555555555556,
              "#d8576b"
             ],
             [
              0.6666666666666666,
              "#ed7953"
             ],
             [
              0.7777777777777778,
              "#fb9f3a"
             ],
             [
              0.8888888888888888,
              "#fdca26"
             ],
             [
              1,
              "#f0f921"
             ]
            ],
            "type": "heatmapgl"
           }
          ],
          "histogram": [
           {
            "marker": {
             "pattern": {
              "fillmode": "overlay",
              "size": 10,
              "solidity": 0.2
             }
            },
            "type": "histogram"
           }
          ],
          "histogram2d": [
           {
            "colorbar": {
             "outlinewidth": 0,
             "ticks": ""
            },
            "colorscale": [
             [
              0,
              "#0d0887"
             ],
             [
              0.1111111111111111,
              "#46039f"
             ],
             [
              0.2222222222222222,
              "#7201a8"
             ],
             [
              0.3333333333333333,
              "#9c179e"
             ],
             [
              0.4444444444444444,
              "#bd3786"
             ],
             [
              0.5555555555555556,
              "#d8576b"
             ],
             [
              0.6666666666666666,
              "#ed7953"
             ],
             [
              0.7777777777777778,
              "#fb9f3a"
             ],
             [
              0.8888888888888888,
              "#fdca26"
             ],
             [
              1,
              "#f0f921"
             ]
            ],
            "type": "histogram2d"
           }
          ],
          "histogram2dcontour": [
           {
            "colorbar": {
             "outlinewidth": 0,
             "ticks": ""
            },
            "colorscale": [
             [
              0,
              "#0d0887"
             ],
             [
              0.1111111111111111,
              "#46039f"
             ],
             [
              0.2222222222222222,
              "#7201a8"
             ],
             [
              0.3333333333333333,
              "#9c179e"
             ],
             [
              0.4444444444444444,
              "#bd3786"
             ],
             [
              0.5555555555555556,
              "#d8576b"
             ],
             [
              0.6666666666666666,
              "#ed7953"
             ],
             [
              0.7777777777777778,
              "#fb9f3a"
             ],
             [
              0.8888888888888888,
              "#fdca26"
             ],
             [
              1,
              "#f0f921"
             ]
            ],
            "type": "histogram2dcontour"
           }
          ],
          "mesh3d": [
           {
            "colorbar": {
             "outlinewidth": 0,
             "ticks": ""
            },
            "type": "mesh3d"
           }
          ],
          "parcoords": [
           {
            "line": {
             "colorbar": {
              "outlinewidth": 0,
              "ticks": ""
             }
            },
            "type": "parcoords"
           }
          ],
          "pie": [
           {
            "automargin": true,
            "type": "pie"
           }
          ],
          "scatter": [
           {
            "marker": {
             "colorbar": {
              "outlinewidth": 0,
              "ticks": ""
             }
            },
            "type": "scatter"
           }
          ],
          "scatter3d": [
           {
            "line": {
             "colorbar": {
              "outlinewidth": 0,
              "ticks": ""
             }
            },
            "marker": {
             "colorbar": {
              "outlinewidth": 0,
              "ticks": ""
             }
            },
            "type": "scatter3d"
           }
          ],
          "scattercarpet": [
           {
            "marker": {
             "colorbar": {
              "outlinewidth": 0,
              "ticks": ""
             }
            },
            "type": "scattercarpet"
           }
          ],
          "scattergeo": [
           {
            "marker": {
             "colorbar": {
              "outlinewidth": 0,
              "ticks": ""
             }
            },
            "type": "scattergeo"
           }
          ],
          "scattergl": [
           {
            "marker": {
             "colorbar": {
              "outlinewidth": 0,
              "ticks": ""
             }
            },
            "type": "scattergl"
           }
          ],
          "scattermapbox": [
           {
            "marker": {
             "colorbar": {
              "outlinewidth": 0,
              "ticks": ""
             }
            },
            "type": "scattermapbox"
           }
          ],
          "scatterpolar": [
           {
            "marker": {
             "colorbar": {
              "outlinewidth": 0,
              "ticks": ""
             }
            },
            "type": "scatterpolar"
           }
          ],
          "scatterpolargl": [
           {
            "marker": {
             "colorbar": {
              "outlinewidth": 0,
              "ticks": ""
             }
            },
            "type": "scatterpolargl"
           }
          ],
          "scatterternary": [
           {
            "marker": {
             "colorbar": {
              "outlinewidth": 0,
              "ticks": ""
             }
            },
            "type": "scatterternary"
           }
          ],
          "surface": [
           {
            "colorbar": {
             "outlinewidth": 0,
             "ticks": ""
            },
            "colorscale": [
             [
              0,
              "#0d0887"
             ],
             [
              0.1111111111111111,
              "#46039f"
             ],
             [
              0.2222222222222222,
              "#7201a8"
             ],
             [
              0.3333333333333333,
              "#9c179e"
             ],
             [
              0.4444444444444444,
              "#bd3786"
             ],
             [
              0.5555555555555556,
              "#d8576b"
             ],
             [
              0.6666666666666666,
              "#ed7953"
             ],
             [
              0.7777777777777778,
              "#fb9f3a"
             ],
             [
              0.8888888888888888,
              "#fdca26"
             ],
             [
              1,
              "#f0f921"
             ]
            ],
            "type": "surface"
           }
          ],
          "table": [
           {
            "cells": {
             "fill": {
              "color": "#EBF0F8"
             },
             "line": {
              "color": "white"
             }
            },
            "header": {
             "fill": {
              "color": "#C8D4E3"
             },
             "line": {
              "color": "white"
             }
            },
            "type": "table"
           }
          ]
         },
         "layout": {
          "annotationdefaults": {
           "arrowcolor": "#2a3f5f",
           "arrowhead": 0,
           "arrowwidth": 1
          },
          "autotypenumbers": "strict",
          "coloraxis": {
           "colorbar": {
            "outlinewidth": 0,
            "ticks": ""
           }
          },
          "colorscale": {
           "diverging": [
            [
             0,
             "#8e0152"
            ],
            [
             0.1,
             "#c51b7d"
            ],
            [
             0.2,
             "#de77ae"
            ],
            [
             0.3,
             "#f1b6da"
            ],
            [
             0.4,
             "#fde0ef"
            ],
            [
             0.5,
             "#f7f7f7"
            ],
            [
             0.6,
             "#e6f5d0"
            ],
            [
             0.7,
             "#b8e186"
            ],
            [
             0.8,
             "#7fbc41"
            ],
            [
             0.9,
             "#4d9221"
            ],
            [
             1,
             "#276419"
            ]
           ],
           "sequential": [
            [
             0,
             "#0d0887"
            ],
            [
             0.1111111111111111,
             "#46039f"
            ],
            [
             0.2222222222222222,
             "#7201a8"
            ],
            [
             0.3333333333333333,
             "#9c179e"
            ],
            [
             0.4444444444444444,
             "#bd3786"
            ],
            [
             0.5555555555555556,
             "#d8576b"
            ],
            [
             0.6666666666666666,
             "#ed7953"
            ],
            [
             0.7777777777777778,
             "#fb9f3a"
            ],
            [
             0.8888888888888888,
             "#fdca26"
            ],
            [
             1,
             "#f0f921"
            ]
           ],
           "sequentialminus": [
            [
             0,
             "#0d0887"
            ],
            [
             0.1111111111111111,
             "#46039f"
            ],
            [
             0.2222222222222222,
             "#7201a8"
            ],
            [
             0.3333333333333333,
             "#9c179e"
            ],
            [
             0.4444444444444444,
             "#bd3786"
            ],
            [
             0.5555555555555556,
             "#d8576b"
            ],
            [
             0.6666666666666666,
             "#ed7953"
            ],
            [
             0.7777777777777778,
             "#fb9f3a"
            ],
            [
             0.8888888888888888,
             "#fdca26"
            ],
            [
             1,
             "#f0f921"
            ]
           ]
          },
          "colorway": [
           "#636efa",
           "#EF553B",
           "#00cc96",
           "#ab63fa",
           "#FFA15A",
           "#19d3f3",
           "#FF6692",
           "#B6E880",
           "#FF97FF",
           "#FECB52"
          ],
          "font": {
           "color": "#2a3f5f"
          },
          "geo": {
           "bgcolor": "white",
           "lakecolor": "white",
           "landcolor": "#E5ECF6",
           "showlakes": true,
           "showland": true,
           "subunitcolor": "white"
          },
          "hoverlabel": {
           "align": "left"
          },
          "hovermode": "closest",
          "mapbox": {
           "style": "light"
          },
          "paper_bgcolor": "white",
          "plot_bgcolor": "#E5ECF6",
          "polar": {
           "angularaxis": {
            "gridcolor": "white",
            "linecolor": "white",
            "ticks": ""
           },
           "bgcolor": "#E5ECF6",
           "radialaxis": {
            "gridcolor": "white",
            "linecolor": "white",
            "ticks": ""
           }
          },
          "scene": {
           "xaxis": {
            "backgroundcolor": "#E5ECF6",
            "gridcolor": "white",
            "gridwidth": 2,
            "linecolor": "white",
            "showbackground": true,
            "ticks": "",
            "zerolinecolor": "white"
           },
           "yaxis": {
            "backgroundcolor": "#E5ECF6",
            "gridcolor": "white",
            "gridwidth": 2,
            "linecolor": "white",
            "showbackground": true,
            "ticks": "",
            "zerolinecolor": "white"
           },
           "zaxis": {
            "backgroundcolor": "#E5ECF6",
            "gridcolor": "white",
            "gridwidth": 2,
            "linecolor": "white",
            "showbackground": true,
            "ticks": "",
            "zerolinecolor": "white"
           }
          },
          "shapedefaults": {
           "line": {
            "color": "#2a3f5f"
           }
          },
          "ternary": {
           "aaxis": {
            "gridcolor": "white",
            "linecolor": "white",
            "ticks": ""
           },
           "baxis": {
            "gridcolor": "white",
            "linecolor": "white",
            "ticks": ""
           },
           "bgcolor": "#E5ECF6",
           "caxis": {
            "gridcolor": "white",
            "linecolor": "white",
            "ticks": ""
           }
          },
          "title": {
           "x": 0.05
          },
          "xaxis": {
           "automargin": true,
           "gridcolor": "white",
           "linecolor": "white",
           "ticks": "",
           "title": {
            "standoff": 15
           },
           "zerolinecolor": "white",
           "zerolinewidth": 2
          },
          "yaxis": {
           "automargin": true,
           "gridcolor": "white",
           "linecolor": "white",
           "ticks": "",
           "title": {
            "standoff": 15
           },
           "zerolinecolor": "white",
           "zerolinewidth": 2
          }
         }
        },
        "title": {
         "text": "Freedom to Make Choices per Regions in 2021"
        },
        "xaxis": {
         "anchor": "y",
         "autorange": true,
         "domain": [
          0,
          1
         ],
         "range": [
          0.34465329512893983,
          1.00734670487106
         ],
         "title": {
          "text": "Freedom"
         },
         "type": "linear"
        },
        "yaxis": {
         "anchor": "x",
         "autorange": true,
         "domain": [
          0,
          1
         ],
         "range": [
          2.0840533980582525,
          8.280946601941746
         ],
         "title": {
          "text": "Ladder Score"
         },
         "type": "linear"
        }
       }
      },
      "image/png": "[encoded data removed]",
      "text/html": [
       "<div>                            <div id=\"39020047-b31f-47fd-83b1-610b93fcc713\" class=\"plotly-graph-div\" style=\"height:525px; width:100%;\"></div>            <script type=\"text/javascript\">                require([\"plotly\"], function(Plotly) {                    window.PLOTLYENV=window.PLOTLYENV || {};                                    if (document.getElementById(\"39020047-b31f-47fd-83b1-610b93fcc713\")) {                    Plotly.newPlot(                        \"39020047-b31f-47fd-83b1-610b93fcc713\",                        [{\"customdata\":[[\"Afghanistan\"],[\"India\"],[\"Sri Lanka\"],[\"Pakistan\"],[\"Bangladesh\"],[\"Maldives\"],[\"Nepal\"]],\"hovertemplate\":\"Regional indicator=South Asia<br>Freedom=%{x}<br>Ladder Score=%{y}<br>Country=%{customdata[0]}<extra></extra>\",\"legendgroup\":\"South Asia\",\"marker\":{\"color\":\"#636efa\",\"symbol\":\"circle\"},\"mode\":\"markers\",\"name\":\"South Asia\",\"orientation\":\"v\",\"showlegend\":true,\"type\":\"scatter\",\"x\":[0.382,0.893,0.841,0.726,0.877,0.854,0.782],\"xaxis\":\"x\",\"y\":[2.523,3.819,4.325,4.934,5.025,5.198,5.269],\"yaxis\":\"y\"},{\"customdata\":[[\"Zimbabwe\"],[\"Rwanda\"],[\"Botswana\"],[\"Lesotho\"],[\"Malawi\"],[\"Tanzania\"],[\"Burundi\"],[\"Sierra Leone\"],[\"Zambia\"],[\"Togo\"],[\"Madagascar\"],[\"Mauritania\"],[\"Ethiopia\"],[\"Comoros\"],[\"Swaziland\"],[\"Chad\"],[\"Namibia\"],[\"Kenya\"],[\"Liberia\"],[\"Uganda\"],[\"Mali\"],[\"Nigeria\"],[\"Mozambique\"],[\"Burkina Faso\"],[\"Gabon\"],[\"South Africa\"],[\"Guinea\"],[\"Benin\"],[\"Gambia\"],[\"Niger\"],[\"Ghana\"],[\"Senegal\"],[\"Cameroon\"],[\"Ivory Coast\"],[\"Congo (Brazzaville)\"],[\"Mauritius\"]],\"hovertemplate\":\"Regional indicator=Sub-Saharan Africa<br>Freedom=%{x}<br>Ladder Score=%{y}<br>Country=%{customdata[0]}<extra></extra>\",\"legendgroup\":\"Sub-Saharan Africa\",\"marker\":{\"color\":\"#EF553B\",\"symbol\":\"circle\"},\"mode\":\"markers\",\"name\":\"Sub-Saharan Africa\",\"orientation\":\"v\",\"showlegend\":true,\"type\":\"scatter\",\"x\":[0.677,0.897,0.824,0.715,0.78,0.833,0.626,0.717,0.782,0.619,0.552,0.561,0.752,0.548,0.647,0.579,0.719,0.779,0.735,0.709,0.697,0.737,0.882,0.695,0.731,0.749,0.697,0.757,0.697,0.806,0.807,0.695,0.731,0.741,0.695,0.867],\"xaxis\":\"x\",\"y\":[3.145,3.415,3.467,3.512,3.6,3.623,3.775,3.849,4.073,4.107,4.208,4.227,4.275,4.289,4.308,4.355,4.574,4.607,4.625,4.636,4.723,4.759,4.794,4.834,4.852,4.956,4.984,5.045,5.051,5.074,5.088,5.132,5.142,5.306,5.342,6.049],\"yaxis\":\"y\"},{\"customdata\":[[\"Haiti\"],[\"Venezuela\"],[\"Dominican Republic\"],[\"Paraguay\"],[\"Bolivia\"],[\"Ecuador\"],[\"Peru\"],[\"Honduras\"],[\"Argentina\"],[\"Nicaragua\"],[\"Colombia\"],[\"El Salvador\"],[\"Chile\"],[\"Panama\"],[\"Jamaica\"],[\"Mexico\"],[\"Brazil\"],[\"Uruguay\"],[\"Guatemala\"],[\"Costa Rica\"]],\"hovertemplate\":\"Regional indicator=Latin America and Caribbean<br>Freedom=%{x}<br>Ladder Score=%{y}<br>Country=%{customdata[0]}<extra></extra>\",\"legendgroup\":\"Latin America and Caribbean\",\"marker\":{\"color\":\"#00cc96\",\"symbol\":\"circle\"},\"mode\":\"markers\",\"name\":\"Latin America and Caribbean\",\"orientation\":\"v\",\"showlegend\":true,\"type\":\"scatter\",\"x\":[0.593,0.615,0.86,0.876,0.875,0.842,0.822,0.857,0.828,0.836,0.837,0.888,0.742,0.872,0.89,0.862,0.804,0.896,0.906,0.934],\"xaxis\":\"x\",\"y\":[3.615,4.892,5.545,5.653,5.716,5.764,5.84,5.919,5.929,5.972,6.012,6.061,6.172,6.18,6.309,6.317,6.33,6.431,6.435,7.069],\"yaxis\":\"y\"},{\"customdata\":[[\"Yemen\"],[\"Egypt\"],[\"Jordan\"],[\"Palestinian Territories\"],[\"Lebanon\"],[\"Tunisia\"],[\"Iran\"],[\"Iraq\"],[\"Algeria\"],[\"Morocco\"],[\"Turkey\"],[\"Libya\"],[\"Kuwait\"],[\"Saudi Arabia\"],[\"United Arab Emirates\"],[\"Bahrain\"],[\"Israel\"]],\"hovertemplate\":\"Regional indicator=Middle East and North Africa<br>Freedom=%{x}<br>Ladder Score=%{y}<br>Country=%{customdata[0]}<extra></extra>\",\"legendgroup\":\"Middle East and North Africa\",\"marker\":{\"color\":\"#ab63fa\",\"symbol\":\"circle\"},\"mode\":\"markers\",\"name\":\"Middle East and North Africa\",\"orientation\":\"v\",\"showlegend\":true,\"type\":\"scatter\",\"x\":[0.602,0.749,0.755,0.653,0.525,0.656,0.608,0.63,0.48,0.774,0.576,0.771,0.867,0.877,0.932,0.925,0.8],\"xaxis\":\"x\",\"y\":[3.658,4.283,4.395,4.517,4.584,4.596,4.721,4.854,4.887,4.918,4.948,5.41,6.106,6.494,6.561,6.647,7.157],\"yaxis\":\"y\"},{\"customdata\":[[\"Myanmar\"],[\"Cambodia\"],[\"Laos\"],[\"Indonesia\"],[\"Malaysia\"],[\"Vietnam\"],[\"Philippines\"],[\"Thailand\"],[\"Singapore\"]],\"hovertemplate\":\"Regional indicator=Southeast Asia<br>Freedom=%{x}<br>Ladder Score=%{y}<br>Country=%{customdata[0]}<extra></extra>\",\"legendgroup\":\"Southeast Asia\",\"marker\":{\"color\":\"#FFA15A\",\"symbol\":\"circle\"},\"mode\":\"markers\",\"name\":\"Southeast Asia\",\"orientation\":\"v\",\"showlegend\":true,\"type\":\"scatter\",\"x\":[0.876,0.959,0.91,0.873,0.895,0.94,0.917,0.884,0.927],\"xaxis\":\"x\",\"y\":[4.426,4.83,5.03,5.345,5.384,5.411,5.88,5.985,6.377],\"yaxis\":\"y\"},{\"customdata\":[[\"Ukraine\"],[\"Georgia\"],[\"Turkmenistan\"],[\"Azerbaijan\"],[\"Armenia\"],[\"Tajikistan\"],[\"Russia\"],[\"Belarus\"],[\"Kyrgyzstan\"],[\"Moldova\"],[\"Kazakhstan\"],[\"Uzbekistan\"]],\"hovertemplate\":\"Regional indicator=Commonwealth of Independent States<br>Freedom=%{x}<br>Ladder Score=%{y}<br>Country=%{customdata[0]}<extra></extra>\",\"legendgroup\":\"Commonwealth of Independent States\",\"marker\":{\"color\":\"#19d3f3\",\"symbol\":\"circle\"},\"mode\":\"markers\",\"name\":\"Commonwealth of Independent States\",\"orientation\":\"v\",\"showlegend\":true,\"type\":\"scatter\",\"x\":[0.724,0.783,0.877,0.814,0.825,0.832,0.718,0.65,0.935,0.822,0.853,0.97],\"xaxis\":\"x\",\"y\":[4.875,4.891,5.066,5.171,5.283,5.466,5.477,5.534,5.744,5.766,6.152,6.179],\"yaxis\":\"y\"},{\"customdata\":[[\"Macedonia\"],[\"Albania\"],[\"Bulgaria\"],[\"Montenegro\"],[\"Bosnia and Herzegovina\"],[\"Croatia\"],[\"Hungary\"],[\"Latvia\"],[\"Serbia\"],[\"Romania\"],[\"Poland\"],[\"Estonia\"],[\"Lithuania\"],[\"Slovakia\"],[\"Kosovo\"],[\"Slovenia\"],[\"Czech Republic\"]],\"hovertemplate\":\"Regional indicator=Central and Eastern Europe<br>Freedom=%{x}<br>Ladder Score=%{y}<br>Country=%{customdata[0]}<extra></extra>\",\"legendgroup\":\"Central and Eastern Europe\",\"marker\":{\"color\":\"#FF6692\",\"symbol\":\"circle\"},\"mode\":\"markers\",\"name\":\"Central and Eastern Europe\",\"orientation\":\"v\",\"showlegend\":true,\"type\":\"scatter\",\"x\":[0.751,0.785,0.788,0.708,0.706,0.754,0.755,0.715,0.778,0.845,0.841,0.909,0.773,0.766,0.869,0.949,0.858],\"xaxis\":\"x\",\"y\":[5.101,5.117,5.266,5.581,5.813,5.882,5.992,6.032,6.078,6.14,6.166,6.189,6.255,6.331,6.372,6.461,6.965],\"yaxis\":\"y\"},{\"customdata\":[[\"China\"],[\"Hong Kong\"],[\"Mongolia\"],[\"South Korea\"],[\"Japan\"],[\"Taiwan\"]],\"hovertemplate\":\"Regional indicator=East Asia<br>Freedom=%{x}<br>Ladder Score=%{y}<br>Country=%{customdata[0]}<extra></extra>\",\"legendgroup\":\"East Asia\",\"marker\":{\"color\":\"#B6E880\",\"symbol\":\"circle\"},\"mode\":\"markers\",\"name\":\"East Asia\",\"orientation\":\"v\",\"showlegend\":true,\"type\":\"scatter\",\"x\":[0.904,0.717,0.708,0.672,0.796,0.784],\"xaxis\":\"x\",\"y\":[5.339,5.477,5.677,5.845,5.94,6.584],\"yaxis\":\"y\"},{\"customdata\":[[\"North Cyprus\"],[\"Greece\"],[\"Portugal\"],[\"Cyprus\"],[\"Italy\"],[\"Spain\"],[\"Malta\"],[\"France\"],[\"Belgium\"],[\"United Kingdom\"],[\"Ireland\"],[\"Germany\"],[\"Austria\"],[\"Luxembourg\"],[\"Sweden\"],[\"Norway\"],[\"Netherlands\"],[\"Iceland\"],[\"Switzerland\"],[\"Denmark\"],[\"Finland\"]],\"hovertemplate\":\"Regional indicator=Western Europe<br>Freedom=%{x}<br>Ladder Score=%{y}<br>Country=%{customdata[0]}<extra></extra>\",\"legendgroup\":\"Western Europe\",\"marker\":{\"color\":\"#FF97FF\",\"symbol\":\"circle\"},\"mode\":\"markers\",\"name\":\"Western Europe\",\"orientation\":\"v\",\"showlegend\":true,\"type\":\"scatter\",\"x\":[0.795,0.582,0.892,0.763,0.693,0.761,0.927,0.822,0.783,0.859,0.879,0.875,0.908,0.907,0.945,0.96,0.913,0.955,0.919,0.946,0.949],\"xaxis\":\"x\",\"y\":[5.536,5.723,5.929,6.223,6.483,6.491,6.602,6.69,6.834,7.064,7.085,7.155,7.268,7.324,7.363,7.392,7.464,7.554,7.571,7.62,7.842],\"yaxis\":\"y\"},{\"customdata\":[[\"United States\"],[\"Canada\"],[\"Australia\"],[\"New Zealand\"]],\"hovertemplate\":\"Regional indicator=North America and ANZ<br>Freedom=%{x}<br>Ladder Score=%{y}<br>Country=%{customdata[0]}<extra></extra>\",\"legendgroup\":\"North America and ANZ\",\"marker\":{\"color\":\"#FECB52\",\"symbol\":\"circle\"},\"mode\":\"markers\",\"name\":\"North America and ANZ\",\"orientation\":\"v\",\"showlegend\":true,\"type\":\"scatter\",\"x\":[0.837,0.915,0.914,0.929],\"xaxis\":\"x\",\"y\":[6.951,7.103,7.183,7.277],\"yaxis\":\"y\"}],                        {\"legend\":{\"title\":{\"text\":\"Regional indicator\"},\"tracegroupgap\":0},\"template\":{\"data\":{\"bar\":[{\"error_x\":{\"color\":\"#2a3f5f\"},\"error_y\":{\"color\":\"#2a3f5f\"},\"marker\":{\"line\":{\"color\":\"#E5ECF6\",\"width\":0.5},\"pattern\":{\"fillmode\":\"overlay\",\"size\":10,\"solidity\":0.2}},\"type\":\"bar\"}],\"barpolar\":[{\"marker\":{\"line\":{\"color\":\"#E5ECF6\",\"width\":0.5},\"pattern\":{\"fillmode\":\"overlay\",\"size\":10,\"solidity\":0.2}},\"type\":\"barpolar\"}],\"carpet\":[{\"aaxis\":{\"endlinecolor\":\"#2a3f5f\",\"gridcolor\":\"white\",\"linecolor\":\"white\",\"minorgridcolor\":\"white\",\"startlinecolor\":\"#2a3f5f\"},\"baxis\":{\"endlinecolor\":\"#2a3f5f\",\"gridcolor\":\"white\",\"linecolor\":\"white\",\"minorgridcolor\":\"white\",\"startlinecolor\":\"#2a3f5f\"},\"type\":\"carpet\"}],\"choropleth\":[{\"colorbar\":{\"outlinewidth\":0,\"ticks\":\"\"},\"type\":\"choropleth\"}],\"contour\":[{\"colorbar\":{\"outlinewidth\":0,\"ticks\":\"\"},\"colorscale\":[[0.0,\"#0d0887\"],[0.1111111111111111,\"#46039f\"],[0.2222222222222222,\"#7201a8\"],[0.3333333333333333,\"#9c179e\"],[0.4444444444444444,\"#bd3786\"],[0.5555555555555556,\"#d8576b\"],[0.6666666666666666,\"#ed7953\"],[0.7777777777777778,\"#fb9f3a\"],[0.8888888888888888,\"#fdca26\"],[1.0,\"#f0f921\"]],\"type\":\"contour\"}],\"contourcarpet\":[{\"colorbar\":{\"outlinewidth\":0,\"ticks\":\"\"},\"type\":\"contourcarpet\"}],\"heatmap\":[{\"colorbar\":{\"outlinewidth\":0,\"ticks\":\"\"},\"colorscale\":[[0.0,\"#0d0887\"],[0.1111111111111111,\"#46039f\"],[0.2222222222222222,\"#7201a8\"],[0.3333333333333333,\"#9c179e\"],[0.4444444444444444,\"#bd3786\"],[0.5555555555555556,\"#d8576b\"],[0.6666666666666666,\"#ed7953\"],[0.7777777777777778,\"#fb9f3a\"],[0.8888888888888888,\"#fdca26\"],[1.0,\"#f0f921\"]],\"type\":\"heatmap\"}],\"heatmapgl\":[{\"colorbar\":{\"outlinewidth\":0,\"ticks\":\"\"},\"colorscale\":[[0.0,\"#0d0887\"],[0.1111111111111111,\"#46039f\"],[0.2222222222222222,\"#7201a8\"],[0.3333333333333333,\"#9c179e\"],[0.4444444444444444,\"#bd3786\"],[0.5555555555555556,\"#d8576b\"],[0.6666666666666666,\"#ed7953\"],[0.7777777777777778,\"#fb9f3a\"],[0.8888888888888888,\"#fdca26\"],[1.0,\"#f0f921\"]],\"type\":\"heatmapgl\"}],\"histogram\":[{\"marker\":{\"pattern\":{\"fillmode\":\"overlay\",\"size\":10,\"solidity\":0.2}},\"type\":\"histogram\"}],\"histogram2d\":[{\"colorbar\":{\"outlinewidth\":0,\"ticks\":\"\"},\"colorscale\":[[0.0,\"#0d0887\"],[0.1111111111111111,\"#46039f\"],[0.2222222222222222,\"#7201a8\"],[0.3333333333333333,\"#9c179e\"],[0.4444444444444444,\"#bd3786\"],[0.5555555555555556,\"#d8576b\"],[0.6666666666666666,\"#ed7953\"],[0.7777777777777778,\"#fb9f3a\"],[0.8888888888888888,\"#fdca26\"],[1.0,\"#f0f921\"]],\"type\":\"histogram2d\"}],\"histogram2dcontour\":[{\"colorbar\":{\"outlinewidth\":0,\"ticks\":\"\"},\"colorscale\":[[0.0,\"#0d0887\"],[0.1111111111111111,\"#46039f\"],[0.2222222222222222,\"#7201a8\"],[0.3333333333333333,\"#9c179e\"],[0.4444444444444444,\"#bd3786\"],[0.5555555555555556,\"#d8576b\"],[0.6666666666666666,\"#ed7953\"],[0.7777777777777778,\"#fb9f3a\"],[0.8888888888888888,\"#fdca26\"],[1.0,\"#f0f921\"]],\"type\":\"histogram2dcontour\"}],\"mesh3d\":[{\"colorbar\":{\"outlinewidth\":0,\"ticks\":\"\"},\"type\":\"mesh3d\"}],\"parcoords\":[{\"line\":{\"colorbar\":{\"outlinewidth\":0,\"ticks\":\"\"}},\"type\":\"parcoords\"}],\"pie\":[{\"automargin\":true,\"type\":\"pie\"}],\"scatter\":[{\"marker\":{\"colorbar\":{\"outlinewidth\":0,\"ticks\":\"\"}},\"type\":\"scatter\"}],\"scatter3d\":[{\"line\":{\"colorbar\":{\"outlinewidth\":0,\"ticks\":\"\"}},\"marker\":{\"colorbar\":{\"outlinewidth\":0,\"ticks\":\"\"}},\"type\":\"scatter3d\"}],\"scattercarpet\":[{\"marker\":{\"colorbar\":{\"outlinewidth\":0,\"ticks\":\"\"}},\"type\":\"scattercarpet\"}],\"scattergeo\":[{\"marker\":{\"colorbar\":{\"outlinewidth\":0,\"ticks\":\"\"}},\"type\":\"scattergeo\"}],\"scattergl\":[{\"marker\":{\"colorbar\":{\"outlinewidth\":0,\"ticks\":\"\"}},\"type\":\"scattergl\"}],\"scattermapbox\":[{\"marker\":{\"colorbar\":{\"outlinewidth\":0,\"ticks\":\"\"}},\"type\":\"scattermapbox\"}],\"scatterpolar\":[{\"marker\":{\"colorbar\":{\"outlinewidth\":0,\"ticks\":\"\"}},\"type\":\"scatterpolar\"}],\"scatterpolargl\":[{\"marker\":{\"colorbar\":{\"outlinewidth\":0,\"ticks\":\"\"}},\"type\":\"scatterpolargl\"}],\"scatterternary\":[{\"marker\":{\"colorbar\":{\"outlinewidth\":0,\"ticks\":\"\"}},\"type\":\"scatterternary\"}],\"surface\":[{\"colorbar\":{\"outlinewidth\":0,\"ticks\":\"\"},\"colorscale\":[[0.0,\"#0d0887\"],[0.1111111111111111,\"#46039f\"],[0.2222222222222222,\"#7201a8\"],[0.3333333333333333,\"#9c179e\"],[0.4444444444444444,\"#bd3786\"],[0.5555555555555556,\"#d8576b\"],[0.6666666666666666,\"#ed7953\"],[0.7777777777777778,\"#fb9f3a\"],[0.8888888888888888,\"#fdca26\"],[1.0,\"#f0f921\"]],\"type\":\"surface\"}],\"table\":[{\"cells\":{\"fill\":{\"color\":\"#EBF0F8\"},\"line\":{\"color\":\"white\"}},\"header\":{\"fill\":{\"color\":\"#C8D4E3\"},\"line\":{\"color\":\"white\"}},\"type\":\"table\"}]},\"layout\":{\"annotationdefaults\":{\"arrowcolor\":\"#2a3f5f\",\"arrowhead\":0,\"arrowwidth\":1},\"autotypenumbers\":\"strict\",\"coloraxis\":{\"colorbar\":{\"outlinewidth\":0,\"ticks\":\"\"}},\"colorscale\":{\"diverging\":[[0,\"#8e0152\"],[0.1,\"#c51b7d\"],[0.2,\"#de77ae\"],[0.3,\"#f1b6da\"],[0.4,\"#fde0ef\"],[0.5,\"#f7f7f7\"],[0.6,\"#e6f5d0\"],[0.7,\"#b8e186\"],[0.8,\"#7fbc41\"],[0.9,\"#4d9221\"],[1,\"#276419\"]],\"sequential\":[[0.0,\"#0d0887\"],[0.1111111111111111,\"#46039f\"],[0.2222222222222222,\"#7201a8\"],[0.3333333333333333,\"#9c179e\"],[0.4444444444444444,\"#bd3786\"],[0.5555555555555556,\"#d8576b\"],[0.6666666666666666,\"#ed7953\"],[0.7777777777777778,\"#fb9f3a\"],[0.8888888888888888,\"#fdca26\"],[1.0,\"#f0f921\"]],\"sequentialminus\":[[0.0,\"#0d0887\"],[0.1111111111111111,\"#46039f\"],[0.2222222222222222,\"#7201a8\"],[0.3333333333333333,\"#9c179e\"],[0.4444444444444444,\"#bd3786\"],[0.5555555555555556,\"#d8576b\"],[0.6666666666666666,\"#ed7953\"],[0.7777777777777778,\"#fb9f3a\"],[0.8888888888888888,\"#fdca26\"],[1.0,\"#f0f921\"]]},\"colorway\":[\"#636efa\",\"#EF553B\",\"#00cc96\",\"#ab63fa\",\"#FFA15A\",\"#19d3f3\",\"#FF6692\",\"#B6E880\",\"#FF97FF\",\"#FECB52\"],\"font\":{\"color\":\"#2a3f5f\"},\"geo\":{\"bgcolor\":\"white\",\"lakecolor\":\"white\",\"landcolor\":\"#E5ECF6\",\"showlakes\":true,\"showland\":true,\"subunitcolor\":\"white\"},\"hoverlabel\":{\"align\":\"left\"},\"hovermode\":\"closest\",\"mapbox\":{\"style\":\"light\"},\"paper_bgcolor\":\"white\",\"plot_bgcolor\":\"#E5ECF6\",\"polar\":{\"angularaxis\":{\"gridcolor\":\"white\",\"linecolor\":\"white\",\"ticks\":\"\"},\"bgcolor\":\"#E5ECF6\",\"radialaxis\":{\"gridcolor\":\"white\",\"linecolor\":\"white\",\"ticks\":\"\"}},\"scene\":{\"xaxis\":{\"backgroundcolor\":\"#E5ECF6\",\"gridcolor\":\"white\",\"gridwidth\":2,\"linecolor\":\"white\",\"showbackground\":true,\"ticks\":\"\",\"zerolinecolor\":\"white\"},\"yaxis\":{\"backgroundcolor\":\"#E5ECF6\",\"gridcolor\":\"white\",\"gridwidth\":2,\"linecolor\":\"white\",\"showbackground\":true,\"ticks\":\"\",\"zerolinecolor\":\"white\"},\"zaxis\":{\"backgroundcolor\":\"#E5ECF6\",\"gridcolor\":\"white\",\"gridwidth\":2,\"linecolor\":\"white\",\"showbackground\":true,\"ticks\":\"\",\"zerolinecolor\":\"white\"}},\"shapedefaults\":{\"line\":{\"color\":\"#2a3f5f\"}},\"ternary\":{\"aaxis\":{\"gridcolor\":\"white\",\"linecolor\":\"white\",\"ticks\":\"\"},\"baxis\":{\"gridcolor\":\"white\",\"linecolor\":\"white\",\"ticks\":\"\"},\"bgcolor\":\"#E5ECF6\",\"caxis\":{\"gridcolor\":\"white\",\"linecolor\":\"white\",\"ticks\":\"\"}},\"title\":{\"x\":0.05},\"xaxis\":{\"automargin\":true,\"gridcolor\":\"white\",\"linecolor\":\"white\",\"ticks\":\"\",\"title\":{\"standoff\":15},\"zerolinecolor\":\"white\",\"zerolinewidth\":2},\"yaxis\":{\"automargin\":true,\"gridcolor\":\"white\",\"linecolor\":\"white\",\"ticks\":\"\",\"title\":{\"standoff\":15},\"zerolinecolor\":\"white\",\"zerolinewidth\":2}}},\"title\":{\"text\":\"Freedom to Make Choices per Regions in 2021\"},\"xaxis\":{\"anchor\":\"y\",\"domain\":[0.0,1.0],\"title\":{\"text\":\"Freedom\"}},\"yaxis\":{\"anchor\":\"x\",\"domain\":[0.0,1.0],\"title\":{\"text\":\"Ladder Score\"}}},                        {\"responsive\": true}                    ).then(function(){\n",
       "                            \n",
       "var gd = document.getElementById('39020047-b31f-47fd-83b1-610b93fcc713');\n",
       "var x = new MutationObserver(function (mutations, observer) {{\n",
       "        var display = window.getComputedStyle(gd).display;\n",
       "        if (!display || display === 'none') {{\n",
       "            console.log([gd, 'removed!']);\n",
       "            Plotly.purge(gd);\n",
       "            observer.disconnect();\n",
       "        }}\n",
       "}});\n",
       "\n",
       "// Listen for the removal of the full notebook cells\n",
       "var notebookContainer = gd.closest('#notebook-container');\n",
       "if (notebookContainer) {{\n",
       "    x.observe(notebookContainer, {childList: true});\n",
       "}}\n",
       "\n",
       "// Listen for the clearing of the current output cell\n",
       "var outputEl = gd.closest('.output');\n",
       "if (outputEl) {{\n",
       "    x.observe(outputEl, {childList: true});\n",
       "}}\n",
       "\n",
       "                        })                };                });            </script>        </div>"
      ]
     },
     "metadata": {},
     "output_type": "display_data"
    }
   ],
   "source": [
    "#Bubble plot: A bubble plot is a scatterplot where the circle size is mapped to the value of a third numeric variable. This section shows many bubble plots made with Python, using both the Matplotlib and Seaborn libraries.\n",
    "\n",
    "fig= px.scatter(chart_countries_df.loc[2021],x='Freedom', y='Ladder Score', color='Regional indicator', hover_data=['Country'], title=\"Freedom to Make Choices per Regions in 2021\")\n",
    "fig.write_image(\"Freed.png\")\n",
    "fig.show()"
   ]
  },
  {
   "cell_type": "code",
   "execution_count": 29,
   "id": "1ec05b51-eaad-4ee1-a42a-46350f25627d",
   "metadata": {},
   "outputs": [
    {
     "data": {
      "application/vnd.plotly.v1+json": {
       "config": {
        "plotlyServerURL": "https://plot.ly"
       },
       "data": [
        {
         "customdata": [
          [
           "Afghanistan"
          ],
          [
           "India"
          ],
          [
           "Sri Lanka"
          ],
          [
           "Pakistan"
          ],
          [
           "Bangladesh"
          ],
          [
           "Maldives"
          ],
          [
           "Nepal"
          ]
         ],
         "hovertemplate": "Regional indicator=South Asia<br>Life Expectancy=%{x}<br>Ladder Score=%{y}<br>Country=%{customdata[0]}<extra></extra>",
         "legendgroup": "South Asia",
         "marker": {
          "color": "#636efa",
          "symbol": "circle"
         },
         "mode": "markers",
         "name": "South Asia",
         "orientation": "v",
         "showlegend": true,
         "type": "scatter",
         "x": [
          52.493,
          60.633,
          67.299,
          58.709,
          64.8,
          70.6,
          64.233
         ],
         "xaxis": "x",
         "y": [
          2.523,
          3.819,
          4.325,
          4.934,
          5.025,
          5.198,
          5.269
         ],
         "yaxis": "y"
        },
        {
         "customdata": [
          [
           "Zimbabwe"
          ],
          [
           "Rwanda"
          ],
          [
           "Botswana"
          ],
          [
           "Lesotho"
          ],
          [
           "Malawi"
          ],
          [
           "Tanzania"
          ],
          [
           "Burundi"
          ],
          [
           "Sierra Leone"
          ],
          [
           "Zambia"
          ],
          [
           "Togo"
          ],
          [
           "Madagascar"
          ],
          [
           "Mauritania"
          ],
          [
           "Ethiopia"
          ],
          [
           "Comoros"
          ],
          [
           "Swaziland"
          ],
          [
           "Chad"
          ],
          [
           "Namibia"
          ],
          [
           "Kenya"
          ],
          [
           "Liberia"
          ],
          [
           "Uganda"
          ],
          [
           "Mali"
          ],
          [
           "Nigeria"
          ],
          [
           "Mozambique"
          ],
          [
           "Burkina Faso"
          ],
          [
           "Gabon"
          ],
          [
           "South Africa"
          ],
          [
           "Guinea"
          ],
          [
           "Benin"
          ],
          [
           "Gambia"
          ],
          [
           "Niger"
          ],
          [
           "Ghana"
          ],
          [
           "Senegal"
          ],
          [
           "Cameroon"
          ],
          [
           "Ivory Coast"
          ],
          [
           "Congo (Brazzaville)"
          ],
          [
           "Mauritius"
          ]
         ],
         "hovertemplate": "Regional indicator=Sub-Saharan Africa<br>Life Expectancy=%{x}<br>Ladder Score=%{y}<br>Country=%{customdata[0]}<extra></extra>",
         "legendgroup": "Sub-Saharan Africa",
         "marker": {
          "color": "#EF553B",
          "symbol": "circle"
         },
         "mode": "markers",
         "name": "Sub-Saharan Africa",
         "orientation": "v",
         "showlegend": true,
         "type": "scatter",
         "x": [
          56.201,
          61.4,
          59.269,
          48.7,
          57.948,
          57.999,
          53.4,
          51.651,
          55.809,
          54.914,
          59.305,
          57.161,
          59,
          57.349,
          50.833,
          48.478,
          56.799,
          60.704,
          56.498,
          56.101,
          51.969,
          50.102,
          54.706,
          54.151,
          59.962,
          56.904,
          55.008,
          54.713,
          55.16,
          53.78,
          57.586,
          59.802,
          53.515,
          50.114,
          58.221,
          66.701
         ],
         "xaxis": "x",
         "y": [
          3.145,
          3.415,
          3.467,
          3.512,
          3.6,
          3.623,
          3.775,
          3.849,
          4.073,
          4.107,
          4.208,
          4.227,
          4.275,
          4.289,
          4.308,
          4.355,
          4.574,
          4.607,
          4.625,
          4.636,
          4.723,
          4.759,
          4.794,
          4.834,
          4.852,
          4.956,
          4.984,
          5.045,
          5.051,
          5.074,
          5.088,
          5.132,
          5.142,
          5.306,
          5.342,
          6.049
         ],
         "yaxis": "y"
        },
        {
         "customdata": [
          [
           "Haiti"
          ],
          [
           "Venezuela"
          ],
          [
           "Dominican Republic"
          ],
          [
           "Paraguay"
          ],
          [
           "Bolivia"
          ],
          [
           "Ecuador"
          ],
          [
           "Peru"
          ],
          [
           "Honduras"
          ],
          [
           "Argentina"
          ],
          [
           "Nicaragua"
          ],
          [
           "Colombia"
          ],
          [
           "El Salvador"
          ],
          [
           "Chile"
          ],
          [
           "Panama"
          ],
          [
           "Jamaica"
          ],
          [
           "Mexico"
          ],
          [
           "Brazil"
          ],
          [
           "Uruguay"
          ],
          [
           "Guatemala"
          ],
          [
           "Costa Rica"
          ]
         ],
         "hovertemplate": "Regional indicator=Latin America and Caribbean<br>Life Expectancy=%{x}<br>Ladder Score=%{y}<br>Country=%{customdata[0]}<extra></extra>",
         "legendgroup": "Latin America and Caribbean",
         "marker": {
          "color": "#00cc96",
          "symbol": "circle"
         },
         "mode": "markers",
         "name": "Latin America and Caribbean",
         "orientation": "v",
         "showlegend": true,
         "type": "scatter",
         "x": [
          55.7,
          66.7,
          66.102,
          65.9,
          63.901,
          68.8,
          68.25,
          67.3,
          69,
          67.657,
          68.001,
          66.402,
          70,
          69.652,
          67.5,
          68.597,
          66.601,
          69.1,
          64.958,
          71.4
         ],
         "xaxis": "x",
         "y": [
          3.615,
          4.892,
          5.545,
          5.653,
          5.716,
          5.764,
          5.84,
          5.919,
          5.929,
          5.972,
          6.012,
          6.061,
          6.172,
          6.18,
          6.309,
          6.317,
          6.33,
          6.431,
          6.435,
          7.069
         ],
         "yaxis": "y"
        },
        {
         "customdata": [
          [
           "Yemen"
          ],
          [
           "Egypt"
          ],
          [
           "Jordan"
          ],
          [
           "Palestinian Territories"
          ],
          [
           "Lebanon"
          ],
          [
           "Tunisia"
          ],
          [
           "Iran"
          ],
          [
           "Iraq"
          ],
          [
           "Algeria"
          ],
          [
           "Morocco"
          ],
          [
           "Turkey"
          ],
          [
           "Libya"
          ],
          [
           "Kuwait"
          ],
          [
           "Saudi Arabia"
          ],
          [
           "United Arab Emirates"
          ],
          [
           "Bahrain"
          ],
          [
           "Israel"
          ]
         ],
         "hovertemplate": "Regional indicator=Middle East and North Africa<br>Life Expectancy=%{x}<br>Ladder Score=%{y}<br>Country=%{customdata[0]}<extra></extra>",
         "legendgroup": "Middle East and North Africa",
         "marker": {
          "color": "#ab63fa",
          "symbol": "circle"
         },
         "mode": "markers",
         "name": "Middle East and North Africa",
         "orientation": "v",
         "showlegend": true,
         "type": "scatter",
         "x": [
          57.122,
          61.998,
          67,
          62.25,
          67.355,
          67.201,
          66.3,
          60.583,
          66.005,
          66.208,
          67.199,
          62.3,
          66.9,
          66.603,
          67.333,
          69.495,
          73.503
         ],
         "xaxis": "x",
         "y": [
          3.658,
          4.283,
          4.395,
          4.517,
          4.584,
          4.596,
          4.721,
          4.854,
          4.887,
          4.918,
          4.948,
          5.41,
          6.106,
          6.494,
          6.561,
          6.647,
          7.157
         ],
         "yaxis": "y"
        },
        {
         "customdata": [
          [
           "Myanmar"
          ],
          [
           "Cambodia"
          ],
          [
           "Laos"
          ],
          [
           "Indonesia"
          ],
          [
           "Malaysia"
          ],
          [
           "Vietnam"
          ],
          [
           "Philippines"
          ],
          [
           "Thailand"
          ],
          [
           "Singapore"
          ]
         ],
         "hovertemplate": "Regional indicator=Southeast Asia<br>Life Expectancy=%{x}<br>Ladder Score=%{y}<br>Country=%{customdata[0]}<extra></extra>",
         "legendgroup": "Southeast Asia",
         "marker": {
          "color": "#FFA15A",
          "symbol": "circle"
         },
         "mode": "markers",
         "name": "Southeast Asia",
         "orientation": "v",
         "showlegend": true,
         "type": "scatter",
         "x": [
          59.302,
          62,
          58.968,
          62.236,
          67.102,
          68.034,
          62,
          67.401,
          76.953
         ],
         "xaxis": "x",
         "y": [
          4.426,
          4.83,
          5.03,
          5.345,
          5.384,
          5.411,
          5.88,
          5.985,
          6.377
         ],
         "yaxis": "y"
        },
        {
         "customdata": [
          [
           "Ukraine"
          ],
          [
           "Georgia"
          ],
          [
           "Turkmenistan"
          ],
          [
           "Azerbaijan"
          ],
          [
           "Armenia"
          ],
          [
           "Tajikistan"
          ],
          [
           "Russia"
          ],
          [
           "Belarus"
          ],
          [
           "Kyrgyzstan"
          ],
          [
           "Moldova"
          ],
          [
           "Kazakhstan"
          ],
          [
           "Uzbekistan"
          ]
         ],
         "hovertemplate": "Regional indicator=Commonwealth of Independent States<br>Life Expectancy=%{x}<br>Ladder Score=%{y}<br>Country=%{customdata[0]}<extra></extra>",
         "legendgroup": "Commonwealth of Independent States",
         "marker": {
          "color": "#19d3f3",
          "symbol": "circle"
         },
         "mode": "markers",
         "name": "Commonwealth of Independent States",
         "orientation": "v",
         "showlegend": true,
         "type": "scatter",
         "x": [
          64.902,
          64.3,
          62.409,
          65.656,
          67.055,
          64.281,
          64.703,
          66.253,
          64.401,
          65.699,
          65.2,
          65.255
         ],
         "xaxis": "x",
         "y": [
          4.875,
          4.891,
          5.066,
          5.171,
          5.283,
          5.466,
          5.477,
          5.534,
          5.744,
          5.766,
          6.152,
          6.179
         ],
         "yaxis": "y"
        },
        {
         "customdata": [
          [
           "Macedonia"
          ],
          [
           "Albania"
          ],
          [
           "Bulgaria"
          ],
          [
           "Montenegro"
          ],
          [
           "Bosnia and Herzegovina"
          ],
          [
           "Croatia"
          ],
          [
           "Hungary"
          ],
          [
           "Latvia"
          ],
          [
           "Serbia"
          ],
          [
           "Romania"
          ],
          [
           "Poland"
          ],
          [
           "Estonia"
          ],
          [
           "Lithuania"
          ],
          [
           "Slovakia"
          ],
          [
           "Kosovo"
          ],
          [
           "Slovenia"
          ],
          [
           "Czech Republic"
          ]
         ],
         "hovertemplate": "Regional indicator=Central and Eastern Europe<br>Life Expectancy=%{x}<br>Ladder Score=%{y}<br>Country=%{customdata[0]}<extra></extra>",
         "legendgroup": "Central and Eastern Europe",
         "marker": {
          "color": "#FF6692",
          "symbol": "circle"
         },
         "mode": "markers",
         "name": "Central and Eastern Europe",
         "orientation": "v",
         "showlegend": true,
         "type": "scatter",
         "x": [
          65.474,
          68.999,
          67,
          68.699,
          68.098,
          70.799,
          68,
          67.1,
          68.6,
          67.355,
          69.702,
          68.8,
          67.906,
          69.201,
          63.813,
          71.4,
          70.807
         ],
         "xaxis": "x",
         "y": [
          5.101,
          5.117,
          5.266,
          5.581,
          5.813,
          5.882,
          5.992,
          6.032,
          6.078,
          6.14,
          6.166,
          6.189,
          6.255,
          6.331,
          6.372,
          6.461,
          6.965
         ],
         "yaxis": "y"
        },
        {
         "customdata": [
          [
           "China"
          ],
          [
           "Hong Kong"
          ],
          [
           "Mongolia"
          ],
          [
           "South Korea"
          ],
          [
           "Japan"
          ],
          [
           "Taiwan"
          ]
         ],
         "hovertemplate": "Regional indicator=East Asia<br>Life Expectancy=%{x}<br>Ladder Score=%{y}<br>Country=%{customdata[0]}<extra></extra>",
         "legendgroup": "East Asia",
         "marker": {
          "color": "#B6E880",
          "symbol": "circle"
         },
         "mode": "markers",
         "name": "East Asia",
         "orientation": "v",
         "showlegend": true,
         "type": "scatter",
         "x": [
          69.593,
          76.82,
          62.5,
          73.9,
          75.1,
          69.6
         ],
         "xaxis": "x",
         "y": [
          5.339,
          5.477,
          5.677,
          5.845,
          5.94,
          6.584
         ],
         "yaxis": "y"
        },
        {
         "customdata": [
          [
           "North Cyprus"
          ],
          [
           "Greece"
          ],
          [
           "Portugal"
          ],
          [
           "Cyprus"
          ],
          [
           "Italy"
          ],
          [
           "Spain"
          ],
          [
           "Malta"
          ],
          [
           "France"
          ],
          [
           "Belgium"
          ],
          [
           "United Kingdom"
          ],
          [
           "Ireland"
          ],
          [
           "Germany"
          ],
          [
           "Austria"
          ],
          [
           "Luxembourg"
          ],
          [
           "Sweden"
          ],
          [
           "Norway"
          ],
          [
           "Netherlands"
          ],
          [
           "Iceland"
          ],
          [
           "Switzerland"
          ],
          [
           "Denmark"
          ],
          [
           "Finland"
          ]
         ],
         "hovertemplate": "Regional indicator=Western Europe<br>Life Expectancy=%{x}<br>Ladder Score=%{y}<br>Country=%{customdata[0]}<extra></extra>",
         "legendgroup": "Western Europe",
         "marker": {
          "color": "#FF97FF",
          "symbol": "circle"
         },
         "mode": "markers",
         "name": "Western Europe",
         "orientation": "v",
         "showlegend": true,
         "type": "scatter",
         "x": [
          73.898,
          72.6,
          72.6,
          73.898,
          73.8,
          74.7,
          72.2,
          74,
          72.199,
          72.5,
          72.4,
          72.5,
          73.3,
          72.6,
          72.7,
          73.3,
          72.4,
          73,
          74.4,
          72.7,
          72
         ],
         "xaxis": "x",
         "y": [
          5.536,
          5.723,
          5.929,
          6.223,
          6.483,
          6.491,
          6.602,
          6.69,
          6.834,
          7.064,
          7.085,
          7.155,
          7.268,
          7.324,
          7.363,
          7.392,
          7.464,
          7.554,
          7.571,
          7.62,
          7.842
         ],
         "yaxis": "y"
        },
        {
         "customdata": [
          [
           "United States"
          ],
          [
           "Canada"
          ],
          [
           "Australia"
          ],
          [
           "New Zealand"
          ]
         ],
         "hovertemplate": "Regional indicator=North America and ANZ<br>Life Expectancy=%{x}<br>Ladder Score=%{y}<br>Country=%{customdata[0]}<extra></extra>",
         "legendgroup": "North America and ANZ",
         "marker": {
          "color": "#FECB52",
          "symbol": "circle"
         },
         "mode": "markers",
         "name": "North America and ANZ",
         "orientation": "v",
         "showlegend": true,
         "type": "scatter",
         "x": [
          68.2,
          73.8,
          73.9,
          73.4
         ],
         "xaxis": "x",
         "y": [
          6.951,
          7.103,
          7.183,
          7.277
         ],
         "yaxis": "y"
        }
       ],
       "layout": {
        "autosize": true,
        "legend": {
         "title": {
          "text": "Regional indicator"
         },
         "tracegroupgap": 0
        },
        "template": {
         "data": {
          "bar": [
           {
            "error_x": {
             "color": "#2a3f5f"
            },
            "error_y": {
             "color": "#2a3f5f"
            },
            "marker": {
             "line": {
              "color": "#E5ECF6",
              "width": 0.5
             },
             "pattern": {
              "fillmode": "overlay",
              "size": 10,
              "solidity": 0.2
             }
            },
            "type": "bar"
           }
          ],
          "barpolar": [
           {
            "marker": {
             "line": {
              "color": "#E5ECF6",
              "width": 0.5
             },
             "pattern": {
              "fillmode": "overlay",
              "size": 10,
              "solidity": 0.2
             }
            },
            "type": "barpolar"
           }
          ],
          "carpet": [
           {
            "aaxis": {
             "endlinecolor": "#2a3f5f",
             "gridcolor": "white",
             "linecolor": "white",
             "minorgridcolor": "white",
             "startlinecolor": "#2a3f5f"
            },
            "baxis": {
             "endlinecolor": "#2a3f5f",
             "gridcolor": "white",
             "linecolor": "white",
             "minorgridcolor": "white",
             "startlinecolor": "#2a3f5f"
            },
            "type": "carpet"
           }
          ],
          "choropleth": [
           {
            "colorbar": {
             "outlinewidth": 0,
             "ticks": ""
            },
            "type": "choropleth"
           }
          ],
          "contour": [
           {
            "colorbar": {
             "outlinewidth": 0,
             "ticks": ""
            },
            "colorscale": [
             [
              0,
              "#0d0887"
             ],
             [
              0.1111111111111111,
              "#46039f"
             ],
             [
              0.2222222222222222,
              "#7201a8"
             ],
             [
              0.3333333333333333,
              "#9c179e"
             ],
             [
              0.4444444444444444,
              "#bd3786"
             ],
             [
              0.5555555555555556,
              "#d8576b"
             ],
             [
              0.6666666666666666,
              "#ed7953"
             ],
             [
              0.7777777777777778,
              "#fb9f3a"
             ],
             [
              0.8888888888888888,
              "#fdca26"
             ],
             [
              1,
              "#f0f921"
             ]
            ],
            "type": "contour"
           }
          ],
          "contourcarpet": [
           {
            "colorbar": {
             "outlinewidth": 0,
             "ticks": ""
            },
            "type": "contourcarpet"
           }
          ],
          "heatmap": [
           {
            "colorbar": {
             "outlinewidth": 0,
             "ticks": ""
            },
            "colorscale": [
             [
              0,
              "#0d0887"
             ],
             [
              0.1111111111111111,
              "#46039f"
             ],
             [
              0.2222222222222222,
              "#7201a8"
             ],
             [
              0.3333333333333333,
              "#9c179e"
             ],
             [
              0.4444444444444444,
              "#bd3786"
             ],
             [
              0.5555555555555556,
              "#d8576b"
             ],
             [
              0.6666666666666666,
              "#ed7953"
             ],
             [
              0.7777777777777778,
              "#fb9f3a"
             ],
             [
              0.8888888888888888,
              "#fdca26"
             ],
             [
              1,
              "#f0f921"
             ]
            ],
            "type": "heatmap"
           }
          ],
          "heatmapgl": [
           {
            "colorbar": {
             "outlinewidth": 0,
             "ticks": ""
            },
            "colorscale": [
             [
              0,
              "#0d0887"
             ],
             [
              0.1111111111111111,
              "#46039f"
             ],
             [
              0.2222222222222222,
              "#7201a8"
             ],
             [
              0.3333333333333333,
              "#9c179e"
             ],
             [
              0.4444444444444444,
              "#bd3786"
             ],
             [
              0.5555555555555556,
              "#d8576b"
             ],
             [
              0.6666666666666666,
              "#ed7953"
             ],
             [
              0.7777777777777778,
              "#fb9f3a"
             ],
             [
              0.8888888888888888,
              "#fdca26"
             ],
             [
              1,
              "#f0f921"
             ]
            ],
            "type": "heatmapgl"
           }
          ],
          "histogram": [
           {
            "marker": {
             "pattern": {
              "fillmode": "overlay",
              "size": 10,
              "solidity": 0.2
             }
            },
            "type": "histogram"
           }
          ],
          "histogram2d": [
           {
            "colorbar": {
             "outlinewidth": 0,
             "ticks": ""
            },
            "colorscale": [
             [
              0,
              "#0d0887"
             ],
             [
              0.1111111111111111,
              "#46039f"
             ],
             [
              0.2222222222222222,
              "#7201a8"
             ],
             [
              0.3333333333333333,
              "#9c179e"
             ],
             [
              0.4444444444444444,
              "#bd3786"
             ],
             [
              0.5555555555555556,
              "#d8576b"
             ],
             [
              0.6666666666666666,
              "#ed7953"
             ],
             [
              0.7777777777777778,
              "#fb9f3a"
             ],
             [
              0.8888888888888888,
              "#fdca26"
             ],
             [
              1,
              "#f0f921"
             ]
            ],
            "type": "histogram2d"
           }
          ],
          "histogram2dcontour": [
           {
            "colorbar": {
             "outlinewidth": 0,
             "ticks": ""
            },
            "colorscale": [
             [
              0,
              "#0d0887"
             ],
             [
              0.1111111111111111,
              "#46039f"
             ],
             [
              0.2222222222222222,
              "#7201a8"
             ],
             [
              0.3333333333333333,
              "#9c179e"
             ],
             [
              0.4444444444444444,
              "#bd3786"
             ],
             [
              0.5555555555555556,
              "#d8576b"
             ],
             [
              0.6666666666666666,
              "#ed7953"
             ],
             [
              0.7777777777777778,
              "#fb9f3a"
             ],
             [
              0.8888888888888888,
              "#fdca26"
             ],
             [
              1,
              "#f0f921"
             ]
            ],
            "type": "histogram2dcontour"
           }
          ],
          "mesh3d": [
           {
            "colorbar": {
             "outlinewidth": 0,
             "ticks": ""
            },
            "type": "mesh3d"
           }
          ],
          "parcoords": [
           {
            "line": {
             "colorbar": {
              "outlinewidth": 0,
              "ticks": ""
             }
            },
            "type": "parcoords"
           }
          ],
          "pie": [
           {
            "automargin": true,
            "type": "pie"
           }
          ],
          "scatter": [
           {
            "marker": {
             "colorbar": {
              "outlinewidth": 0,
              "ticks": ""
             }
            },
            "type": "scatter"
           }
          ],
          "scatter3d": [
           {
            "line": {
             "colorbar": {
              "outlinewidth": 0,
              "ticks": ""
             }
            },
            "marker": {
             "colorbar": {
              "outlinewidth": 0,
              "ticks": ""
             }
            },
            "type": "scatter3d"
           }
          ],
          "scattercarpet": [
           {
            "marker": {
             "colorbar": {
              "outlinewidth": 0,
              "ticks": ""
             }
            },
            "type": "scattercarpet"
           }
          ],
          "scattergeo": [
           {
            "marker": {
             "colorbar": {
              "outlinewidth": 0,
              "ticks": ""
             }
            },
            "type": "scattergeo"
           }
          ],
          "scattergl": [
           {
            "marker": {
             "colorbar": {
              "outlinewidth": 0,
              "ticks": ""
             }
            },
            "type": "scattergl"
           }
          ],
          "scattermapbox": [
           {
            "marker": {
             "colorbar": {
              "outlinewidth": 0,
              "ticks": ""
             }
            },
            "type": "scattermapbox"
           }
          ],
          "scatterpolar": [
           {
            "marker": {
             "colorbar": {
              "outlinewidth": 0,
              "ticks": ""
             }
            },
            "type": "scatterpolar"
           }
          ],
          "scatterpolargl": [
           {
            "marker": {
             "colorbar": {
              "outlinewidth": 0,
              "ticks": ""
             }
            },
            "type": "scatterpolargl"
           }
          ],
          "scatterternary": [
           {
            "marker": {
             "colorbar": {
              "outlinewidth": 0,
              "ticks": ""
             }
            },
            "type": "scatterternary"
           }
          ],
          "surface": [
           {
            "colorbar": {
             "outlinewidth": 0,
             "ticks": ""
            },
            "colorscale": [
             [
              0,
              "#0d0887"
             ],
             [
              0.1111111111111111,
              "#46039f"
             ],
             [
              0.2222222222222222,
              "#7201a8"
             ],
             [
              0.3333333333333333,
              "#9c179e"
             ],
             [
              0.4444444444444444,
              "#bd3786"
             ],
             [
              0.5555555555555556,
              "#d8576b"
             ],
             [
              0.6666666666666666,
              "#ed7953"
             ],
             [
              0.7777777777777778,
              "#fb9f3a"
             ],
             [
              0.8888888888888888,
              "#fdca26"
             ],
             [
              1,
              "#f0f921"
             ]
            ],
            "type": "surface"
           }
          ],
          "table": [
           {
            "cells": {
             "fill": {
              "color": "#EBF0F8"
             },
             "line": {
              "color": "white"
             }
            },
            "header": {
             "fill": {
              "color": "#C8D4E3"
             },
             "line": {
              "color": "white"
             }
            },
            "type": "table"
           }
          ]
         },
         "layout": {
          "annotationdefaults": {
           "arrowcolor": "#2a3f5f",
           "arrowhead": 0,
           "arrowwidth": 1
          },
          "autotypenumbers": "strict",
          "coloraxis": {
           "colorbar": {
            "outlinewidth": 0,
            "ticks": ""
           }
          },
          "colorscale": {
           "diverging": [
            [
             0,
             "#8e0152"
            ],
            [
             0.1,
             "#c51b7d"
            ],
            [
             0.2,
             "#de77ae"
            ],
            [
             0.3,
             "#f1b6da"
            ],
            [
             0.4,
             "#fde0ef"
            ],
            [
             0.5,
             "#f7f7f7"
            ],
            [
             0.6,
             "#e6f5d0"
            ],
            [
             0.7,
             "#b8e186"
            ],
            [
             0.8,
             "#7fbc41"
            ],
            [
             0.9,
             "#4d9221"
            ],
            [
             1,
             "#276419"
            ]
           ],
           "sequential": [
            [
             0,
             "#0d0887"
            ],
            [
             0.1111111111111111,
             "#46039f"
            ],
            [
             0.2222222222222222,
             "#7201a8"
            ],
            [
             0.3333333333333333,
             "#9c179e"
            ],
            [
             0.4444444444444444,
             "#bd3786"
            ],
            [
             0.5555555555555556,
             "#d8576b"
            ],
            [
             0.6666666666666666,
             "#ed7953"
            ],
            [
             0.7777777777777778,
             "#fb9f3a"
            ],
            [
             0.8888888888888888,
             "#fdca26"
            ],
            [
             1,
             "#f0f921"
            ]
           ],
           "sequentialminus": [
            [
             0,
             "#0d0887"
            ],
            [
             0.1111111111111111,
             "#46039f"
            ],
            [
             0.2222222222222222,
             "#7201a8"
            ],
            [
             0.3333333333333333,
             "#9c179e"
            ],
            [
             0.4444444444444444,
             "#bd3786"
            ],
            [
             0.5555555555555556,
             "#d8576b"
            ],
            [
             0.6666666666666666,
             "#ed7953"
            ],
            [
             0.7777777777777778,
             "#fb9f3a"
            ],
            [
             0.8888888888888888,
             "#fdca26"
            ],
            [
             1,
             "#f0f921"
            ]
           ]
          },
          "colorway": [
           "#636efa",
           "#EF553B",
           "#00cc96",
           "#ab63fa",
           "#FFA15A",
           "#19d3f3",
           "#FF6692",
           "#B6E880",
           "#FF97FF",
           "#FECB52"
          ],
          "font": {
           "color": "#2a3f5f"
          },
          "geo": {
           "bgcolor": "white",
           "lakecolor": "white",
           "landcolor": "#E5ECF6",
           "showlakes": true,
           "showland": true,
           "subunitcolor": "white"
          },
          "hoverlabel": {
           "align": "left"
          },
          "hovermode": "closest",
          "mapbox": {
           "style": "light"
          },
          "paper_bgcolor": "white",
          "plot_bgcolor": "#E5ECF6",
          "polar": {
           "angularaxis": {
            "gridcolor": "white",
            "linecolor": "white",
            "ticks": ""
           },
           "bgcolor": "#E5ECF6",
           "radialaxis": {
            "gridcolor": "white",
            "linecolor": "white",
            "ticks": ""
           }
          },
          "scene": {
           "xaxis": {
            "backgroundcolor": "#E5ECF6",
            "gridcolor": "white",
            "gridwidth": 2,
            "linecolor": "white",
            "showbackground": true,
            "ticks": "",
            "zerolinecolor": "white"
           },
           "yaxis": {
            "backgroundcolor": "#E5ECF6",
            "gridcolor": "white",
            "gridwidth": 2,
            "linecolor": "white",
            "showbackground": true,
            "ticks": "",
            "zerolinecolor": "white"
           },
           "zaxis": {
            "backgroundcolor": "#E5ECF6",
            "gridcolor": "white",
            "gridwidth": 2,
            "linecolor": "white",
            "showbackground": true,
            "ticks": "",
            "zerolinecolor": "white"
           }
          },
          "shapedefaults": {
           "line": {
            "color": "#2a3f5f"
           }
          },
          "ternary": {
           "aaxis": {
            "gridcolor": "white",
            "linecolor": "white",
            "ticks": ""
           },
           "baxis": {
            "gridcolor": "white",
            "linecolor": "white",
            "ticks": ""
           },
           "bgcolor": "#E5ECF6",
           "caxis": {
            "gridcolor": "white",
            "linecolor": "white",
            "ticks": ""
           }
          },
          "title": {
           "x": 0.05
          },
          "xaxis": {
           "automargin": true,
           "gridcolor": "white",
           "linecolor": "white",
           "ticks": "",
           "title": {
            "standoff": 15
           },
           "zerolinecolor": "white",
           "zerolinewidth": 2
          },
          "yaxis": {
           "automargin": true,
           "gridcolor": "white",
           "linecolor": "white",
           "ticks": "",
           "title": {
            "standoff": 15
           },
           "zerolinecolor": "white",
           "zerolinewidth": 2
          }
         }
        },
        "title": {
         "text": "Life expectancy per Regions in 2021"
        },
        "xaxis": {
         "anchor": "y",
         "autorange": true,
         "domain": [
          0,
          1
         ],
         "range": [
          46.66941595033429,
          78.76158404966571
         ],
         "title": {
          "text": "Life Expectancy"
         },
         "type": "linear"
        },
        "yaxis": {
         "anchor": "x",
         "autorange": true,
         "domain": [
          0,
          1
         ],
         "range": [
          2.0840533980582525,
          8.280946601941746
         ],
         "title": {
          "text": "Ladder Score"
         },
         "type": "linear"
        }
       }
      },
      "image/png": "[encoded data removed]",
      "text/html": [
       "<div>                            <div id=\"0baa0f1f-ad35-4bb1-8e38-1fd7299c1f08\" class=\"plotly-graph-div\" style=\"height:525px; width:100%;\"></div>            <script type=\"text/javascript\">                require([\"plotly\"], function(Plotly) {                    window.PLOTLYENV=window.PLOTLYENV || {};                                    if (document.getElementById(\"0baa0f1f-ad35-4bb1-8e38-1fd7299c1f08\")) {                    Plotly.newPlot(                        \"0baa0f1f-ad35-4bb1-8e38-1fd7299c1f08\",                        [{\"customdata\":[[\"Afghanistan\"],[\"India\"],[\"Sri Lanka\"],[\"Pakistan\"],[\"Bangladesh\"],[\"Maldives\"],[\"Nepal\"]],\"hovertemplate\":\"Regional indicator=South Asia<br>Life Expectancy=%{x}<br>Ladder Score=%{y}<br>Country=%{customdata[0]}<extra></extra>\",\"legendgroup\":\"South Asia\",\"marker\":{\"color\":\"#636efa\",\"symbol\":\"circle\"},\"mode\":\"markers\",\"name\":\"South Asia\",\"orientation\":\"v\",\"showlegend\":true,\"type\":\"scatter\",\"x\":[52.493,60.633,67.299,58.709,64.8,70.6,64.233],\"xaxis\":\"x\",\"y\":[2.523,3.819,4.325,4.934,5.025,5.198,5.269],\"yaxis\":\"y\"},{\"customdata\":[[\"Zimbabwe\"],[\"Rwanda\"],[\"Botswana\"],[\"Lesotho\"],[\"Malawi\"],[\"Tanzania\"],[\"Burundi\"],[\"Sierra Leone\"],[\"Zambia\"],[\"Togo\"],[\"Madagascar\"],[\"Mauritania\"],[\"Ethiopia\"],[\"Comoros\"],[\"Swaziland\"],[\"Chad\"],[\"Namibia\"],[\"Kenya\"],[\"Liberia\"],[\"Uganda\"],[\"Mali\"],[\"Nigeria\"],[\"Mozambique\"],[\"Burkina Faso\"],[\"Gabon\"],[\"South Africa\"],[\"Guinea\"],[\"Benin\"],[\"Gambia\"],[\"Niger\"],[\"Ghana\"],[\"Senegal\"],[\"Cameroon\"],[\"Ivory Coast\"],[\"Congo (Brazzaville)\"],[\"Mauritius\"]],\"hovertemplate\":\"Regional indicator=Sub-Saharan Africa<br>Life Expectancy=%{x}<br>Ladder Score=%{y}<br>Country=%{customdata[0]}<extra></extra>\",\"legendgroup\":\"Sub-Saharan Africa\",\"marker\":{\"color\":\"#EF553B\",\"symbol\":\"circle\"},\"mode\":\"markers\",\"name\":\"Sub-Saharan Africa\",\"orientation\":\"v\",\"showlegend\":true,\"type\":\"scatter\",\"x\":[56.201,61.4,59.269,48.7,57.948,57.999,53.4,51.651,55.809,54.914,59.305,57.161,59.0,57.349,50.833,48.478,56.799,60.704,56.498,56.101,51.969,50.102,54.706,54.151,59.962,56.904,55.008,54.713,55.16,53.78,57.586,59.802,53.515,50.114,58.221,66.701],\"xaxis\":\"x\",\"y\":[3.145,3.415,3.467,3.512,3.6,3.623,3.775,3.849,4.073,4.107,4.208,4.227,4.275,4.289,4.308,4.355,4.574,4.607,4.625,4.636,4.723,4.759,4.794,4.834,4.852,4.956,4.984,5.045,5.051,5.074,5.088,5.132,5.142,5.306,5.342,6.049],\"yaxis\":\"y\"},{\"customdata\":[[\"Haiti\"],[\"Venezuela\"],[\"Dominican Republic\"],[\"Paraguay\"],[\"Bolivia\"],[\"Ecuador\"],[\"Peru\"],[\"Honduras\"],[\"Argentina\"],[\"Nicaragua\"],[\"Colombia\"],[\"El Salvador\"],[\"Chile\"],[\"Panama\"],[\"Jamaica\"],[\"Mexico\"],[\"Brazil\"],[\"Uruguay\"],[\"Guatemala\"],[\"Costa Rica\"]],\"hovertemplate\":\"Regional indicator=Latin America and Caribbean<br>Life Expectancy=%{x}<br>Ladder Score=%{y}<br>Country=%{customdata[0]}<extra></extra>\",\"legendgroup\":\"Latin America and Caribbean\",\"marker\":{\"color\":\"#00cc96\",\"symbol\":\"circle\"},\"mode\":\"markers\",\"name\":\"Latin America and Caribbean\",\"orientation\":\"v\",\"showlegend\":true,\"type\":\"scatter\",\"x\":[55.7,66.7,66.102,65.9,63.901,68.8,68.25,67.3,69.0,67.657,68.001,66.402,70.0,69.652,67.5,68.597,66.601,69.1,64.958,71.4],\"xaxis\":\"x\",\"y\":[3.615,4.892,5.545,5.653,5.716,5.764,5.84,5.919,5.929,5.972,6.012,6.061,6.172,6.18,6.309,6.317,6.33,6.431,6.435,7.069],\"yaxis\":\"y\"},{\"customdata\":[[\"Yemen\"],[\"Egypt\"],[\"Jordan\"],[\"Palestinian Territories\"],[\"Lebanon\"],[\"Tunisia\"],[\"Iran\"],[\"Iraq\"],[\"Algeria\"],[\"Morocco\"],[\"Turkey\"],[\"Libya\"],[\"Kuwait\"],[\"Saudi Arabia\"],[\"United Arab Emirates\"],[\"Bahrain\"],[\"Israel\"]],\"hovertemplate\":\"Regional indicator=Middle East and North Africa<br>Life Expectancy=%{x}<br>Ladder Score=%{y}<br>Country=%{customdata[0]}<extra></extra>\",\"legendgroup\":\"Middle East and North Africa\",\"marker\":{\"color\":\"#ab63fa\",\"symbol\":\"circle\"},\"mode\":\"markers\",\"name\":\"Middle East and North Africa\",\"orientation\":\"v\",\"showlegend\":true,\"type\":\"scatter\",\"x\":[57.122,61.998,67.0,62.25,67.355,67.201,66.3,60.583,66.005,66.208,67.199,62.3,66.9,66.603,67.333,69.495,73.503],\"xaxis\":\"x\",\"y\":[3.658,4.283,4.395,4.517,4.584,4.596,4.721,4.854,4.887,4.918,4.948,5.41,6.106,6.494,6.561,6.647,7.157],\"yaxis\":\"y\"},{\"customdata\":[[\"Myanmar\"],[\"Cambodia\"],[\"Laos\"],[\"Indonesia\"],[\"Malaysia\"],[\"Vietnam\"],[\"Philippines\"],[\"Thailand\"],[\"Singapore\"]],\"hovertemplate\":\"Regional indicator=Southeast Asia<br>Life Expectancy=%{x}<br>Ladder Score=%{y}<br>Country=%{customdata[0]}<extra></extra>\",\"legendgroup\":\"Southeast Asia\",\"marker\":{\"color\":\"#FFA15A\",\"symbol\":\"circle\"},\"mode\":\"markers\",\"name\":\"Southeast Asia\",\"orientation\":\"v\",\"showlegend\":true,\"type\":\"scatter\",\"x\":[59.302,62.0,58.968,62.236,67.102,68.034,62.0,67.401,76.953],\"xaxis\":\"x\",\"y\":[4.426,4.83,5.03,5.345,5.384,5.411,5.88,5.985,6.377],\"yaxis\":\"y\"},{\"customdata\":[[\"Ukraine\"],[\"Georgia\"],[\"Turkmenistan\"],[\"Azerbaijan\"],[\"Armenia\"],[\"Tajikistan\"],[\"Russia\"],[\"Belarus\"],[\"Kyrgyzstan\"],[\"Moldova\"],[\"Kazakhstan\"],[\"Uzbekistan\"]],\"hovertemplate\":\"Regional indicator=Commonwealth of Independent States<br>Life Expectancy=%{x}<br>Ladder Score=%{y}<br>Country=%{customdata[0]}<extra></extra>\",\"legendgroup\":\"Commonwealth of Independent States\",\"marker\":{\"color\":\"#19d3f3\",\"symbol\":\"circle\"},\"mode\":\"markers\",\"name\":\"Commonwealth of Independent States\",\"orientation\":\"v\",\"showlegend\":true,\"type\":\"scatter\",\"x\":[64.902,64.3,62.409,65.656,67.055,64.281,64.703,66.253,64.401,65.699,65.2,65.255],\"xaxis\":\"x\",\"y\":[4.875,4.891,5.066,5.171,5.283,5.466,5.477,5.534,5.744,5.766,6.152,6.179],\"yaxis\":\"y\"},{\"customdata\":[[\"Macedonia\"],[\"Albania\"],[\"Bulgaria\"],[\"Montenegro\"],[\"Bosnia and Herzegovina\"],[\"Croatia\"],[\"Hungary\"],[\"Latvia\"],[\"Serbia\"],[\"Romania\"],[\"Poland\"],[\"Estonia\"],[\"Lithuania\"],[\"Slovakia\"],[\"Kosovo\"],[\"Slovenia\"],[\"Czech Republic\"]],\"hovertemplate\":\"Regional indicator=Central and Eastern Europe<br>Life Expectancy=%{x}<br>Ladder Score=%{y}<br>Country=%{customdata[0]}<extra></extra>\",\"legendgroup\":\"Central and Eastern Europe\",\"marker\":{\"color\":\"#FF6692\",\"symbol\":\"circle\"},\"mode\":\"markers\",\"name\":\"Central and Eastern Europe\",\"orientation\":\"v\",\"showlegend\":true,\"type\":\"scatter\",\"x\":[65.474,68.999,67.0,68.699,68.098,70.799,68.0,67.1,68.6,67.355,69.702,68.8,67.906,69.201,63.813,71.4,70.807],\"xaxis\":\"x\",\"y\":[5.101,5.117,5.266,5.581,5.813,5.882,5.992,6.032,6.078,6.14,6.166,6.189,6.255,6.331,6.372,6.461,6.965],\"yaxis\":\"y\"},{\"customdata\":[[\"China\"],[\"Hong Kong\"],[\"Mongolia\"],[\"South Korea\"],[\"Japan\"],[\"Taiwan\"]],\"hovertemplate\":\"Regional indicator=East Asia<br>Life Expectancy=%{x}<br>Ladder Score=%{y}<br>Country=%{customdata[0]}<extra></extra>\",\"legendgroup\":\"East Asia\",\"marker\":{\"color\":\"#B6E880\",\"symbol\":\"circle\"},\"mode\":\"markers\",\"name\":\"East Asia\",\"orientation\":\"v\",\"showlegend\":true,\"type\":\"scatter\",\"x\":[69.593,76.82,62.5,73.9,75.1,69.6],\"xaxis\":\"x\",\"y\":[5.339,5.477,5.677,5.845,5.94,6.584],\"yaxis\":\"y\"},{\"customdata\":[[\"North Cyprus\"],[\"Greece\"],[\"Portugal\"],[\"Cyprus\"],[\"Italy\"],[\"Spain\"],[\"Malta\"],[\"France\"],[\"Belgium\"],[\"United Kingdom\"],[\"Ireland\"],[\"Germany\"],[\"Austria\"],[\"Luxembourg\"],[\"Sweden\"],[\"Norway\"],[\"Netherlands\"],[\"Iceland\"],[\"Switzerland\"],[\"Denmark\"],[\"Finland\"]],\"hovertemplate\":\"Regional indicator=Western Europe<br>Life Expectancy=%{x}<br>Ladder Score=%{y}<br>Country=%{customdata[0]}<extra></extra>\",\"legendgroup\":\"Western Europe\",\"marker\":{\"color\":\"#FF97FF\",\"symbol\":\"circle\"},\"mode\":\"markers\",\"name\":\"Western Europe\",\"orientation\":\"v\",\"showlegend\":true,\"type\":\"scatter\",\"x\":[73.898,72.6,72.6,73.898,73.8,74.7,72.2,74.0,72.199,72.5,72.4,72.5,73.3,72.6,72.7,73.3,72.4,73.0,74.4,72.7,72.0],\"xaxis\":\"x\",\"y\":[5.536,5.723,5.929,6.223,6.483,6.491,6.602,6.69,6.834,7.064,7.085,7.155,7.268,7.324,7.363,7.392,7.464,7.554,7.571,7.62,7.842],\"yaxis\":\"y\"},{\"customdata\":[[\"United States\"],[\"Canada\"],[\"Australia\"],[\"New Zealand\"]],\"hovertemplate\":\"Regional indicator=North America and ANZ<br>Life Expectancy=%{x}<br>Ladder Score=%{y}<br>Country=%{customdata[0]}<extra></extra>\",\"legendgroup\":\"North America and ANZ\",\"marker\":{\"color\":\"#FECB52\",\"symbol\":\"circle\"},\"mode\":\"markers\",\"name\":\"North America and ANZ\",\"orientation\":\"v\",\"showlegend\":true,\"type\":\"scatter\",\"x\":[68.2,73.8,73.9,73.4],\"xaxis\":\"x\",\"y\":[6.951,7.103,7.183,7.277],\"yaxis\":\"y\"}],                        {\"legend\":{\"title\":{\"text\":\"Regional indicator\"},\"tracegroupgap\":0},\"template\":{\"data\":{\"bar\":[{\"error_x\":{\"color\":\"#2a3f5f\"},\"error_y\":{\"color\":\"#2a3f5f\"},\"marker\":{\"line\":{\"color\":\"#E5ECF6\",\"width\":0.5},\"pattern\":{\"fillmode\":\"overlay\",\"size\":10,\"solidity\":0.2}},\"type\":\"bar\"}],\"barpolar\":[{\"marker\":{\"line\":{\"color\":\"#E5ECF6\",\"width\":0.5},\"pattern\":{\"fillmode\":\"overlay\",\"size\":10,\"solidity\":0.2}},\"type\":\"barpolar\"}],\"carpet\":[{\"aaxis\":{\"endlinecolor\":\"#2a3f5f\",\"gridcolor\":\"white\",\"linecolor\":\"white\",\"minorgridcolor\":\"white\",\"startlinecolor\":\"#2a3f5f\"},\"baxis\":{\"endlinecolor\":\"#2a3f5f\",\"gridcolor\":\"white\",\"linecolor\":\"white\",\"minorgridcolor\":\"white\",\"startlinecolor\":\"#2a3f5f\"},\"type\":\"carpet\"}],\"choropleth\":[{\"colorbar\":{\"outlinewidth\":0,\"ticks\":\"\"},\"type\":\"choropleth\"}],\"contour\":[{\"colorbar\":{\"outlinewidth\":0,\"ticks\":\"\"},\"colorscale\":[[0.0,\"#0d0887\"],[0.1111111111111111,\"#46039f\"],[0.2222222222222222,\"#7201a8\"],[0.3333333333333333,\"#9c179e\"],[0.4444444444444444,\"#bd3786\"],[0.5555555555555556,\"#d8576b\"],[0.6666666666666666,\"#ed7953\"],[0.7777777777777778,\"#fb9f3a\"],[0.8888888888888888,\"#fdca26\"],[1.0,\"#f0f921\"]],\"type\":\"contour\"}],\"contourcarpet\":[{\"colorbar\":{\"outlinewidth\":0,\"ticks\":\"\"},\"type\":\"contourcarpet\"}],\"heatmap\":[{\"colorbar\":{\"outlinewidth\":0,\"ticks\":\"\"},\"colorscale\":[[0.0,\"#0d0887\"],[0.1111111111111111,\"#46039f\"],[0.2222222222222222,\"#7201a8\"],[0.3333333333333333,\"#9c179e\"],[0.4444444444444444,\"#bd3786\"],[0.5555555555555556,\"#d8576b\"],[0.6666666666666666,\"#ed7953\"],[0.7777777777777778,\"#fb9f3a\"],[0.8888888888888888,\"#fdca26\"],[1.0,\"#f0f921\"]],\"type\":\"heatmap\"}],\"heatmapgl\":[{\"colorbar\":{\"outlinewidth\":0,\"ticks\":\"\"},\"colorscale\":[[0.0,\"#0d0887\"],[0.1111111111111111,\"#46039f\"],[0.2222222222222222,\"#7201a8\"],[0.3333333333333333,\"#9c179e\"],[0.4444444444444444,\"#bd3786\"],[0.5555555555555556,\"#d8576b\"],[0.6666666666666666,\"#ed7953\"],[0.7777777777777778,\"#fb9f3a\"],[0.8888888888888888,\"#fdca26\"],[1.0,\"#f0f921\"]],\"type\":\"heatmapgl\"}],\"histogram\":[{\"marker\":{\"pattern\":{\"fillmode\":\"overlay\",\"size\":10,\"solidity\":0.2}},\"type\":\"histogram\"}],\"histogram2d\":[{\"colorbar\":{\"outlinewidth\":0,\"ticks\":\"\"},\"colorscale\":[[0.0,\"#0d0887\"],[0.1111111111111111,\"#46039f\"],[0.2222222222222222,\"#7201a8\"],[0.3333333333333333,\"#9c179e\"],[0.4444444444444444,\"#bd3786\"],[0.5555555555555556,\"#d8576b\"],[0.6666666666666666,\"#ed7953\"],[0.7777777777777778,\"#fb9f3a\"],[0.8888888888888888,\"#fdca26\"],[1.0,\"#f0f921\"]],\"type\":\"histogram2d\"}],\"histogram2dcontour\":[{\"colorbar\":{\"outlinewidth\":0,\"ticks\":\"\"},\"colorscale\":[[0.0,\"#0d0887\"],[0.1111111111111111,\"#46039f\"],[0.2222222222222222,\"#7201a8\"],[0.3333333333333333,\"#9c179e\"],[0.4444444444444444,\"#bd3786\"],[0.5555555555555556,\"#d8576b\"],[0.6666666666666666,\"#ed7953\"],[0.7777777777777778,\"#fb9f3a\"],[0.8888888888888888,\"#fdca26\"],[1.0,\"#f0f921\"]],\"type\":\"histogram2dcontour\"}],\"mesh3d\":[{\"colorbar\":{\"outlinewidth\":0,\"ticks\":\"\"},\"type\":\"mesh3d\"}],\"parcoords\":[{\"line\":{\"colorbar\":{\"outlinewidth\":0,\"ticks\":\"\"}},\"type\":\"parcoords\"}],\"pie\":[{\"automargin\":true,\"type\":\"pie\"}],\"scatter\":[{\"marker\":{\"colorbar\":{\"outlinewidth\":0,\"ticks\":\"\"}},\"type\":\"scatter\"}],\"scatter3d\":[{\"line\":{\"colorbar\":{\"outlinewidth\":0,\"ticks\":\"\"}},\"marker\":{\"colorbar\":{\"outlinewidth\":0,\"ticks\":\"\"}},\"type\":\"scatter3d\"}],\"scattercarpet\":[{\"marker\":{\"colorbar\":{\"outlinewidth\":0,\"ticks\":\"\"}},\"type\":\"scattercarpet\"}],\"scattergeo\":[{\"marker\":{\"colorbar\":{\"outlinewidth\":0,\"ticks\":\"\"}},\"type\":\"scattergeo\"}],\"scattergl\":[{\"marker\":{\"colorbar\":{\"outlinewidth\":0,\"ticks\":\"\"}},\"type\":\"scattergl\"}],\"scattermapbox\":[{\"marker\":{\"colorbar\":{\"outlinewidth\":0,\"ticks\":\"\"}},\"type\":\"scattermapbox\"}],\"scatterpolar\":[{\"marker\":{\"colorbar\":{\"outlinewidth\":0,\"ticks\":\"\"}},\"type\":\"scatterpolar\"}],\"scatterpolargl\":[{\"marker\":{\"colorbar\":{\"outlinewidth\":0,\"ticks\":\"\"}},\"type\":\"scatterpolargl\"}],\"scatterternary\":[{\"marker\":{\"colorbar\":{\"outlinewidth\":0,\"ticks\":\"\"}},\"type\":\"scatterternary\"}],\"surface\":[{\"colorbar\":{\"outlinewidth\":0,\"ticks\":\"\"},\"colorscale\":[[0.0,\"#0d0887\"],[0.1111111111111111,\"#46039f\"],[0.2222222222222222,\"#7201a8\"],[0.3333333333333333,\"#9c179e\"],[0.4444444444444444,\"#bd3786\"],[0.5555555555555556,\"#d8576b\"],[0.6666666666666666,\"#ed7953\"],[0.7777777777777778,\"#fb9f3a\"],[0.8888888888888888,\"#fdca26\"],[1.0,\"#f0f921\"]],\"type\":\"surface\"}],\"table\":[{\"cells\":{\"fill\":{\"color\":\"#EBF0F8\"},\"line\":{\"color\":\"white\"}},\"header\":{\"fill\":{\"color\":\"#C8D4E3\"},\"line\":{\"color\":\"white\"}},\"type\":\"table\"}]},\"layout\":{\"annotationdefaults\":{\"arrowcolor\":\"#2a3f5f\",\"arrowhead\":0,\"arrowwidth\":1},\"autotypenumbers\":\"strict\",\"coloraxis\":{\"colorbar\":{\"outlinewidth\":0,\"ticks\":\"\"}},\"colorscale\":{\"diverging\":[[0,\"#8e0152\"],[0.1,\"#c51b7d\"],[0.2,\"#de77ae\"],[0.3,\"#f1b6da\"],[0.4,\"#fde0ef\"],[0.5,\"#f7f7f7\"],[0.6,\"#e6f5d0\"],[0.7,\"#b8e186\"],[0.8,\"#7fbc41\"],[0.9,\"#4d9221\"],[1,\"#276419\"]],\"sequential\":[[0.0,\"#0d0887\"],[0.1111111111111111,\"#46039f\"],[0.2222222222222222,\"#7201a8\"],[0.3333333333333333,\"#9c179e\"],[0.4444444444444444,\"#bd3786\"],[0.5555555555555556,\"#d8576b\"],[0.6666666666666666,\"#ed7953\"],[0.7777777777777778,\"#fb9f3a\"],[0.8888888888888888,\"#fdca26\"],[1.0,\"#f0f921\"]],\"sequentialminus\":[[0.0,\"#0d0887\"],[0.1111111111111111,\"#46039f\"],[0.2222222222222222,\"#7201a8\"],[0.3333333333333333,\"#9c179e\"],[0.4444444444444444,\"#bd3786\"],[0.5555555555555556,\"#d8576b\"],[0.6666666666666666,\"#ed7953\"],[0.7777777777777778,\"#fb9f3a\"],[0.8888888888888888,\"#fdca26\"],[1.0,\"#f0f921\"]]},\"colorway\":[\"#636efa\",\"#EF553B\",\"#00cc96\",\"#ab63fa\",\"#FFA15A\",\"#19d3f3\",\"#FF6692\",\"#B6E880\",\"#FF97FF\",\"#FECB52\"],\"font\":{\"color\":\"#2a3f5f\"},\"geo\":{\"bgcolor\":\"white\",\"lakecolor\":\"white\",\"landcolor\":\"#E5ECF6\",\"showlakes\":true,\"showland\":true,\"subunitcolor\":\"white\"},\"hoverlabel\":{\"align\":\"left\"},\"hovermode\":\"closest\",\"mapbox\":{\"style\":\"light\"},\"paper_bgcolor\":\"white\",\"plot_bgcolor\":\"#E5ECF6\",\"polar\":{\"angularaxis\":{\"gridcolor\":\"white\",\"linecolor\":\"white\",\"ticks\":\"\"},\"bgcolor\":\"#E5ECF6\",\"radialaxis\":{\"gridcolor\":\"white\",\"linecolor\":\"white\",\"ticks\":\"\"}},\"scene\":{\"xaxis\":{\"backgroundcolor\":\"#E5ECF6\",\"gridcolor\":\"white\",\"gridwidth\":2,\"linecolor\":\"white\",\"showbackground\":true,\"ticks\":\"\",\"zerolinecolor\":\"white\"},\"yaxis\":{\"backgroundcolor\":\"#E5ECF6\",\"gridcolor\":\"white\",\"gridwidth\":2,\"linecolor\":\"white\",\"showbackground\":true,\"ticks\":\"\",\"zerolinecolor\":\"white\"},\"zaxis\":{\"backgroundcolor\":\"#E5ECF6\",\"gridcolor\":\"white\",\"gridwidth\":2,\"linecolor\":\"white\",\"showbackground\":true,\"ticks\":\"\",\"zerolinecolor\":\"white\"}},\"shapedefaults\":{\"line\":{\"color\":\"#2a3f5f\"}},\"ternary\":{\"aaxis\":{\"gridcolor\":\"white\",\"linecolor\":\"white\",\"ticks\":\"\"},\"baxis\":{\"gridcolor\":\"white\",\"linecolor\":\"white\",\"ticks\":\"\"},\"bgcolor\":\"#E5ECF6\",\"caxis\":{\"gridcolor\":\"white\",\"linecolor\":\"white\",\"ticks\":\"\"}},\"title\":{\"x\":0.05},\"xaxis\":{\"automargin\":true,\"gridcolor\":\"white\",\"linecolor\":\"white\",\"ticks\":\"\",\"title\":{\"standoff\":15},\"zerolinecolor\":\"white\",\"zerolinewidth\":2},\"yaxis\":{\"automargin\":true,\"gridcolor\":\"white\",\"linecolor\":\"white\",\"ticks\":\"\",\"title\":{\"standoff\":15},\"zerolinecolor\":\"white\",\"zerolinewidth\":2}}},\"title\":{\"text\":\"Life expectancy per Regions in 2021\"},\"xaxis\":{\"anchor\":\"y\",\"domain\":[0.0,1.0],\"title\":{\"text\":\"Life Expectancy\"}},\"yaxis\":{\"anchor\":\"x\",\"domain\":[0.0,1.0],\"title\":{\"text\":\"Ladder Score\"}}},                        {\"responsive\": true}                    ).then(function(){\n",
       "                            \n",
       "var gd = document.getElementById('0baa0f1f-ad35-4bb1-8e38-1fd7299c1f08');\n",
       "var x = new MutationObserver(function (mutations, observer) {{\n",
       "        var display = window.getComputedStyle(gd).display;\n",
       "        if (!display || display === 'none') {{\n",
       "            console.log([gd, 'removed!']);\n",
       "            Plotly.purge(gd);\n",
       "            observer.disconnect();\n",
       "        }}\n",
       "}});\n",
       "\n",
       "// Listen for the removal of the full notebook cells\n",
       "var notebookContainer = gd.closest('#notebook-container');\n",
       "if (notebookContainer) {{\n",
       "    x.observe(notebookContainer, {childList: true});\n",
       "}}\n",
       "\n",
       "// Listen for the clearing of the current output cell\n",
       "var outputEl = gd.closest('.output');\n",
       "if (outputEl) {{\n",
       "    x.observe(outputEl, {childList: true});\n",
       "}}\n",
       "\n",
       "                        })                };                });            </script>        </div>"
      ]
     },
     "metadata": {},
     "output_type": "display_data"
    }
   ],
   "source": [
    "#Bubble plot: A bubble plot is a scatterplot where the circle size is mapped to the value of a third numeric variable. This section shows many bubble plots made with Python, using both the Matplotlib and Seaborn libraries.\n",
    "\n",
    "fig= px.scatter(chart_countries_df.loc[2021],x='Life Expectancy', y='Ladder Score', color='Regional indicator', hover_data=['Country'], title=\"Life expectancy per Regions in 2021\")\n",
    "fig.write_image(\"Life.png\")\n",
    "fig.show()"
   ]
  },
  {
   "cell_type": "code",
   "execution_count": null,
   "id": "19f77149-5e84-437a-86e4-52d1a7fa7f05",
   "metadata": {},
   "outputs": [],
   "source": [
    "#calculating correlation between generosity and ladder score\n",
    "df_2021 = happiness_combined_df.loc[2021]\n",
    "generosity = df_2021['Generosity']\n",
    "ladder = df_2021['Ladder Score']\n",
    " \n",
    "correlation = st.pearsonr(df_2021['Ladder Score'], df_2021['Generosity'])\n",
    "\n",
    "plt.scatter(generosity, ladder)\n",
    "plt.xlabel('Generosity')\n",
    "plt.ylabel('Ladder Score')\n",
    "print(f\"The correlation between both factors is {round(correlation[0],2)}\")\n",
    "plt.show()\n"
   ]
  },
  {
   "cell_type": "code",
   "execution_count": null,
   "id": "8bb9a2fe-1680-4cd8-b9ba-5403241cf25c",
   "metadata": {},
   "outputs": [],
   "source": [
    "# Calculate the correlation coefficient and linear regression model for \n",
    "#average ladder score (happiness index) and average genorisity for the top 5 happy places and bottom 5 places\n",
    "\n",
    "correlation = st.pearsonr(happiness_combined_df['Ladder Score'], happiness_combined_df['Generosity'])\n",
    "print(f\"The correlation between both factors is {round(correlation[0],2)}\")\n",
    "\n",
    "x_values=happiness_combined_df['Ladder Score']\n",
    "y_values=happiness_combined_df['Generosity']\n",
    "\n",
    "# Add the linear regression equation and line to plot, use line regress imported from above and assign output to variables\n",
    "(slope, intercept, rvalue, pvalue, stderr) = linregress(x_values, y_values)\n",
    "# show r-squared\n",
    "print(f\"The r-squared is: {rvalue**2}\")\n",
    "\n",
    "# calculate regress values to create regression line\n",
    "regress_values = x_values * slope + intercept\n",
    "# line equat to display on chart\n",
    "line_eq = \"y = \" + str(round(slope,2)) + \"x + \" + str(round(intercept,2))\n",
    "# recreate scatter plot from above\n",
    "plt.scatter(x_values, y_values)\n",
    "# plot the regression line\n",
    "plt.plot(x_values,regress_values,\"r-\")\n",
    "# add line equation at value coordinates 20.5,39\n",
    "plt.annotate(line_eq,(20.5,39),fontsize=15,color=\"red\")\n",
    "# add axis labels and show chart \n",
    "plt.xlabel('Ladder Score')\n",
    "plt.ylabel('Generosity')\n",
    "plt.show()\n"
   ]
  },
  {
   "cell_type": "code",
   "execution_count": null,
   "id": "9fc7c8f8-c181-4e7e-ad1e-cdc148d72952",
   "metadata": {},
   "outputs": [],
   "source": [
    "#Generosity has a fragile linear relationship with the Happiness ladder score. It looks like there is no direct relationship with happiness score.\n",
    "#Generosity scores are calculated based on the countries which give the most to nonprofits around the world. Countries that are not generous \n",
    "#that does not mean they are not happy.In fact the happiest countries, had "
   ]
  },
  {
   "cell_type": "code",
   "execution_count": null,
   "id": "00d1df43-bdf1-482e-8cb8-8f54e1f83164",
   "metadata": {},
   "outputs": [],
   "source": [
    "#GDP and Happiness Ladder score\n",
    "correlation = st.pearsonr(happiness_combined_df['Ladder Score'], happiness_combined_df['Generosity'])\n",
    "print(f\"The correlation between both factors is {round(correlation[0],2)}\")\n",
    "x_values=happiness_combined_df['Ladder Score']\n",
    "y_values=happiness_combined_df['GDP']\n",
    "\n",
    "# Add the linear regression equation and line to plot, use line regress imported from above and assign output to variables\n",
    "(slope, intercept, rvalue, pvalue, stderr) = linregress(x_values, y_values)\n",
    "\n",
    "# show r-squared\n",
    "print(f\"The r-squared is: {rvalue**2}\")\n",
    "\n",
    "# calculate regress values to create regression line\n",
    "regress_values = x_values * slope + intercept\n",
    "\n",
    "# line equat to display on chart\n",
    "line_eq = \"y = \" + str(round(slope,2)) + \"x + \" + str(round(intercept,2))\n",
    "\n",
    "# recreate scatter plot from above\n",
    "plt.scatter(x_values, y_values)\n",
    "\n",
    "# plot the regression line\n",
    "plt.plot(x_values,regress_values,\"r-\")\n",
    "\n",
    "# add line equation at value coordinates 20.5,39\n",
    "plt.annotate(line_eq,(20.5,39),fontsize=15,color=\"red\")\n",
    "\n",
    "# add axis labels and show chart \n",
    "plt.xlabel('Ladder Score')\n",
    "plt.ylabel('GDP')"
   ]
  },
  {
   "cell_type": "raw",
   "id": "5c045ab0-92fe-4cd9-be4b-86a6bcc15335",
   "metadata": {},
   "source": []
  },
  {
   "cell_type": "code",
   "execution_count": null,
   "id": "d5dc7a0d-7831-417f-a470-c82739547179",
   "metadata": {},
   "outputs": [],
   "source": [
    "#reading 2021 by itself because it has \"regional indictor\" column which other csvs are muissing\n",
    "barchart_df = pd.read_csv(f\"Resources/Combined_17July2021_ac.csv\")\n",
    "barchart_df"
   ]
  },
  {
   "cell_type": "code",
   "execution_count": null,
   "id": "9d8a4996-19e2-4a1c-b5b2-f5df07982388",
   "metadata": {},
   "outputs": [],
   "source": [
    "\n",
    "labels = barchart_df['Regional indicator']\n",
    "gen = barchart_df['Generosity_Average']\n",
    "gdp = barchart_df['GDP_Average']\n",
    "fredom = barchart_df['Freedom_Average']\n",
    "life = barchart_df['Life_Average']\n",
    "width = 0.54      \n",
    "\n",
    "fig, ax = plt.subplots()\n",
    "\n",
    "ax.barh(labels, gen, width, label='Average Generosity')\n",
    "ax.barh(labels, gdp, width, label='Average GDP')\n",
    "ax.barh(labels, fredom, width, label='Average Freedom')\n",
    "ax.barh(labels, life, width, label='Average Life expectancy')\n",
    "        \n",
    "ax.set_ylabel('Regions')\n",
    "ax.set_xlabel('Ranking of 150, 1 being the best and 150 the bottom')\n",
    "ax.set_title('Happiness Indicators by Regions')\n",
    "fig.set_size_inches(13, 8)\n",
    "fig.savefig('barchart.png', dpi=100)\n",
    "\n",
    "ax.legend(loc='best')\n",
    "\n",
    "plt.tight_layout()"
   ]
  },
  {
   "cell_type": "code",
   "execution_count": null,
   "id": "72ec06f0-3f5b-4270-b874-f59c42cd560c",
   "metadata": {},
   "outputs": [],
   "source": []
  }
 ],
 "metadata": {
  "kernelspec": {
   "display_name": "Python 3",
   "language": "python",
   "name": "python3"
  },
  "language_info": {
   "codemirror_mode": {
    "name": "ipython",
    "version": 3
   },
   "file_extension": ".py",
   "mimetype": "text/x-python",
   "name": "python",
   "nbconvert_exporter": "python",
   "pygments_lexer": "ipython3",
   "version": "3.9.5"
  }
 },
 "nbformat": 4,
 "nbformat_minor": 5
}
