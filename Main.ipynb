{
 "cells": [
  {
   "cell_type": "code",
   "execution_count": 2,
   "metadata": {},
   "outputs": [],
   "source": [
    "%matplotlib inline"
   ]
  },
  {
   "cell_type": "code",
   "execution_count": 3,
   "metadata": {},
   "outputs": [],
   "source": [
    "import matplotlib.pyplot as plt\n",
    "import pandas as pd\n",
    "import scipy.stats as st\n",
    "import numpy as np\n"
   ]
  },
  {
   "cell_type": "code",
   "execution_count": null,
   "metadata": {},
   "outputs": [],
   "source": [
    "# Divide questions by region??\n",
    "# top 5 happiest regions, is GDP an indicator\n",
    "    # double bar graph\n",
    "    # scatter plot\n",
    "# bottom 5 happiest regions, is GDP an indicator\n",
    "    # double bar graph\n",
    "    # scatter plot\n",
    "    \n",
    "# Is there a correlation between country happiness and its neighboring country...\n",
    "    # visualization 1:\n",
    "    # visualization 2:\n",
    "    \n",
    "\n",
    "    \n",
    "# What are the top 5 happiest countries\n",
    "    # double bar graph\n",
    "# What are the 5 least happiest countries\n",
    "\n",
    "\n",
    "# Is GDP an indicator of happiness\n",
    "    # visualization 1: scatter plot\n",
    "    # visualization 2: \n",
    "\n",
    "# What are the main indicators of happiness\n",
    "    # visualization 1:\n",
    "    # visualization 2:\n"
   ]
  },
  {
   "cell_type": "code",
   "execution_count": null,
   "metadata": {},
   "outputs": [],
   "source": [
    "GDP = Happiness?\n",
    "\t\tScatter plot\n",
    "\t\t\tX = GDP\n",
    "\t\t\tY = happiness\n",
    "\t\tGraph\n",
    "\t\t\tX = GDP * happiness\n",
    "\t\t\tY = years (20017, 2018, 2019, 2020, 2021)\n",
    "\tLife expectancy = Happiness?\n",
    "\t\tScatter plot\n",
    "\tFreedom = Happiness?\n",
    "\t\tScatter plot\n",
    "\tGenerosity = Happiness?\n",
    "\t\tScatter plot\n",
    "\tSocial support = happiness?\n",
    "Scatter plot\n",
    "\tPopulation = happiness?\n",
    "\t\tScatter plot\n",
    "        \n",
    "cleaning data = remove unnecessary columns\n",
    "\n",
    "merge data with the last 5 years, each individually\n"
   ]
  }
 ],
 "metadata": {
  "kernelspec": {
   "display_name": "Python 3",
   "language": "python",
   "name": "python3"
  },
  "language_info": {
   "codemirror_mode": {
    "name": "ipython",
    "version": 3
   },
   "file_extension": ".py",
   "mimetype": "text/x-python",
   "name": "python",
   "nbconvert_exporter": "python",
   "pygments_lexer": "ipython3",
   "version": "3.8.5"
  }
 },
 "nbformat": 4,
 "nbformat_minor": 4
}
