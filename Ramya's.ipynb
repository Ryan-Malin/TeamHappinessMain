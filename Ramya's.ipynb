{
 "cells": [
  {
   "cell_type": "code",
   "execution_count": null,
   "id": "973869d1-6a46-4246-b42f-548e9352b6ee",
   "metadata": {},
   "outputs": [],
   "source": [
    "#Import dependencies\n",
    "import pandas as pd\n",
    "import numpy as np\n",
    "import matplotlib.pyplot as plt\n",
    "import seaborn as sns\n",
    "\n",
    "\n",
    "#only projecting columns we need\n",
    "proj_columns = ['Country', 'Ladder Score','Freedom', 'GDP', 'Life Expectancy', 'Generosity', 'Year']\n",
    "\n",
    "#reading 2021 by itself because it has regional indictor which other csvs are muissing\n",
    "df_2021 = pd.read_csv(f\"Resources/years/2021.csv\")[proj_columns + ['Regional indicator']]\n",
    "\n",
    "happiness_combined_df = df_2021\n",
    "\n",
    "#projecting only two columns \n",
    "country_df = df_2021[['Country', 'Regional indicator']]\n",
    "\n",
    "#creating dictionary to  match regional indicators to countries\n",
    "country_dict = country_df.set_index('Country').to_dict()['Regional indicator']\n",
    "\n",
    "#looping through the years exct 2021 which we have already done and adding\n",
    "#to a new combined dataframe \n",
    "for yr in range(2017, 2021):\n",
    "    df_yr = pd.read_csv(f\"Resources/years/{yr}.csv\")[proj_columns]\n",
    "    #adding regional indicator value to all years from country dict bove\n",
    "    df_yr['Regional indicator'] = df_yr['Country'].apply(lambda x: country_dict.get(x, ''))\n",
    "    #combining\n",
    "    happiness_combined_df = pd.concat([happiness_combined_df,\n",
    "        df_yr]) \n",
    "\n",
    "#happiness_combined_df.to_csv('Resources/combined_happiness.csv')\n",
    "happiness_combined_df.head(5)"
   ]
  },
  {
   "cell_type": "code",
   "execution_count": null,
   "id": "7b56ab0d-9c6f-4c53-b049-f44fe6276b71",
   "metadata": {},
   "outputs": [],
   "source": [
    "# #DATA CLEANING\n",
    "# #identify the columns with no regional indicator\n",
    "# #happiness_combined_df['Regional indicator'] == ''][['Country','Year']]\n",
    "# #pd.pivot_table(happiness_combined_df, values='Country', columns='Year', aggfunc='count')\n",
    "# before_clean_df = happiness_combined_df\n",
    "# before_clean_df.pivot(index='Country', columns='Year', values='Country').to_csv('Resources/pivoted-for-missing-val.csv')\n"
   ]
  },
  {
   "cell_type": "code",
   "execution_count": null,
   "id": "b80b0dde-70f8-44d4-aeb3-4f6838372c7f",
   "metadata": {},
   "outputs": [],
   "source": [
    "#looking at the pivoted data set, it was revealed the countries were named diffrently in diffrent years,\n",
    "#to solve that, these countries were renamed to one consistent value across years.\n",
    "# ALso, some countries did not have any data for some years. For instance, Belize, Angola, Congo, Qatar are missing\n",
    "#for most recent years. From our google research, It may be due to political situation and or high crime rate in Belize, \n",
    "#Angola and Congo and Central African Republic.\n",
    "#Renaming the countries\n",
    "rename_cntry_dict = {\n",
    "    'Hong Kong S.A.R. of China': 'Hong Kong',\n",
    "    'Hong Kong S.A.R., China': 'Hong Kong',\n",
    "    'Trinidad & Tobago': 'Trinidad and Tobago',\n",
    "    'North Macedonia': 'Macedonia',\n",
    "    'Northern Cyprus': 'North Cyprus',\n",
    "    'Taiwan Province of China': 'Taiwan',\n",
    "}\n",
    "rename_ri_dict = {\n",
    "    'Hong Kong': 'East Asia',\n",
    "    'Trinidad and Tobago': 'Latin America and Caribbean',\n",
    "    'Macedonia': 'Central and Eastern Europe',\n",
    "    'North Cyprus': 'Western Europe',\n",
    "    'Taiwan': 'East Asia',\n",
    "    'Central African Republic': 'Sub-Saharan Africa',\n",
    "    'South Sudan': 'Sub-Saharan Africa',\n",
    "    'Congo (Kinshasa)': 'Sub-Saharan Africa'\n",
    "}\n",
    "\n",
    "# in order to loop through data frame, call iterrows function\n",
    "# which provides us an index of the row and all data in the row\n",
    "for i, row in happiness_combined_df.iterrows():\n",
    "    # grab either the rename value of the country, or if it is not\n",
    "    # in the dictionary, just use the value already in the row as default\n",
    "    #of the .get() function. We have to store this in a variable to use it \n",
    "    # for regional indicator below\n",
    "    country = rename_cntry_dict.get(row['Country'], row['Country'])\n",
    "    # using dataframe .at[], index from iterrows, and column name to set value\n",
    "    happiness_combined_df.at[i, 'Country'] = country\n",
    "    happiness_combined_df.at[i, 'Regional indicator'] = rename_ri_dict.get(country, row['Regional indicator'])\n",
    "\n",
    "happiness_combined_df\n"
   ]
  },
  {
   "cell_type": "code",
   "execution_count": null,
   "id": "4c987859-64ac-4be5-a50c-a6776c261755",
   "metadata": {},
   "outputs": [],
   "source": [
    "# save csv after cleaning\n",
    "happiness_combined_df.to_csv('Resources/combined_happiness_after_clean.csv')\n"
   ]
  },
  {
   "cell_type": "code",
   "execution_count": null,
   "id": "e90714ad-29e3-4801-8c61-527af63415b1",
   "metadata": {},
   "outputs": [],
   "source": [
    "#Data_check: identify the columns with no regional indicator\n",
    "happiness_combined_df[happiness_combined_df['Regional indicator'] == '']['Country'].unique()"
   ]
  },
  {
   "cell_type": "code",
   "execution_count": null,
   "id": "b822a9b8-f5f6-4354-8453-f3e40bc79cf5",
   "metadata": {},
   "outputs": [],
   "source": [
    "#identify top 5 happy and bottom 5 countries by ladder score in each year.\n",
    "happiness_combined_df['rank'] = happiness_combined_df.groupby(['Year'])['Ladder Score'].rank('max', ascending=False)#.sort_values(['Year', 'rank'])\n",
    "happiness_combined_df = happiness_combined_df.set_index(['Year', 'rank']).sort_index()\n",
    "happiness_combined_df.to_csv('Resources/combined_happiness_indexed.csv')\n",
    "happiness_combined_df\n"
   ]
  },
  {
   "cell_type": "code",
   "execution_count": null,
   "id": "93f0d489-ae96-40b7-8a69-746e5d2979ea",
   "metadata": {},
   "outputs": [],
   "source": [
    "# found the average life expecatancy of world happiness to show how it improved every year.\n",
    "\n",
    "average_life_expect= happiness_combined_df.groupby('Year')['Life Expectancy'].mean()\n",
    "average_life_expect"
   ]
  },
  {
   "cell_type": "code",
   "execution_count": null,
   "id": "1beb379d-5e08-4b05-8abd-e179d0b65614",
   "metadata": {},
   "outputs": [],
   "source": [
    "#Bar graph for avg life expecatancy of world happiness\n",
    "\n",
    "average_life_expect.plot(kind=\"bar\")\n",
    "plt.xlabel(\"Year\")\n",
    "plt.xticks(rotation=90)\n",
    "plt.ylabel(\"Average Life Expectancy of World Happiness Report\")\n",
    "plt.show()"
   ]
  },
  {
   "cell_type": "code",
   "execution_count": null,
   "id": "a8030fa4-a2ee-42a4-8658-e2562c6a177a",
   "metadata": {},
   "outputs": [],
   "source": [
    "multi_group = happiness_combined_df.groupby(['Year','Regional indicator','Country'])[['Life Expectancy']].mean()\n",
    "multi_group\n",
    "#clean_group_df = multi_group.dropna(how='all', axis=1)\n",
    "\n",
    "#clean_multigrp= multi_group.dropna(axis=0, subset=['Country'])\n"
   ]
  },
  {
   "cell_type": "code",
   "execution_count": null,
   "id": "e203fad5-f19c-4469-a4e5-93bd77b4d91c",
   "metadata": {},
   "outputs": [],
   "source": [
    "sns.set_style('dark')\n",
    "plot = sns.relplot(data=multi_group, x='Year', y='Life Expectancy',hue='Regional indicator', alpha=0.7, edgecolors=\"orange\", linewidth=0.1).set(xscale=\"linear\")\n",
    "#plot = sns.relplot(x= 'Score', y ='Total Amount Deposited', data =multi_group, hue = 'Predicted Category',alpha=0.7, edgecolors=\"orange\", linewidth=0.1)\n",
    "plot.set_axis_labels(\"Years\", \"Life Expectancy\",color = \"brown\")\n",
    "plot.fig.set_size_inches(15,5)\n"
   ]
  },
  {
   "cell_type": "code",
   "execution_count": null,
   "id": "fa73b65a-f929-46c0-bc06-9bcbdd69e183",
   "metadata": {},
   "outputs": [],
   "source": [
    "sns.set(style = 'whitegrid')\n",
    "#fmri = sns.load_dataset(\"fmri\")\n",
    "  \n",
    "g = sns.lineplot(x =\"Year\",\n",
    "             y =\"Life Expectancy\",\n",
    "             hue =\"Regional indicator\",\n",
    "             data = multi_group,\n",
    "             alpha=0.9, \n",
    "             linewidth=0.1)\n",
    "g.legend(loc='center left', bbox_to_anchor=(1.25,0.5), ncol=1)"
   ]
  },
  {
   "cell_type": "code",
   "execution_count": null,
   "id": "fa9cefc5-d7b4-4056-91cf-186129eb0161",
   "metadata": {},
   "outputs": [],
   "source": [
    "happiness_combined_df.groupby(['Year','Country'])['Life Expectancy']\n",
    "happiness_combined_df"
   ]
  },
  {
   "cell_type": "code",
   "execution_count": null,
   "id": "11fb7b37-0d04-494b-850e-55f1a35ec13c",
   "metadata": {},
   "outputs": [],
   "source": [
    "happiness_combined_df.sort_values(by = [\"Life Expectancy\"],ascending=[False])\n",
    "#df1=happiness_combined_df[:5]\n",
    "#colormap= df1.plot('Country',['Ladder Score','Freedom','GDP','Life Expectancy'],kind = 'area',\n",
    "   #     colormap='gist_rainbow')\n",
    "#colormap.legend(loc='center left', bbox_to_anchor=(1.25, 0.5), ncol=1)"
   ]
  },
  {
   "cell_type": "code",
   "execution_count": null,
   "id": "b7101bf9-c4b5-4029-8766-5e42911252be",
   "metadata": {},
   "outputs": [],
   "source": [
    "average_life_exp= happiness_combined_df.groupby('Country','Life Expectancy')\n",
    "average_life_exp\n",
    "#average_life_exp.sort_values(by=['Life Expectancy'], ascending=True)\n",
    "#average_life_exp.sort_values(by =[\"Life Expectancy\"],ascending=[False])\n"
   ]
  }
 ],
 "metadata": {
  "kernelspec": {
   "display_name": "Python 3",
   "language": "python",
   "name": "python3"
  },
  "language_info": {
   "codemirror_mode": {
    "name": "ipython",
    "version": 3
   },
   "file_extension": ".py",
   "mimetype": "text/x-python",
   "name": "python",
   "nbconvert_exporter": "python",
   "pygments_lexer": "ipython3",
   "version": "3.8.5"
  }
 },
 "nbformat": 4,
 "nbformat_minor": 5
}
