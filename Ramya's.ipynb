{
 "cells": [
  {
   "cell_type": "code",
   "execution_count": 37,
   "id": "973869d1-6a46-4246-b42f-548e9352b6ee",
   "metadata": {},
   "outputs": [
    {
     "data": {
      "text/html": [
       "<div>\n",
       "<style scoped>\n",
       "    .dataframe tbody tr th:only-of-type {\n",
       "        vertical-align: middle;\n",
       "    }\n",
       "\n",
       "    .dataframe tbody tr th {\n",
       "        vertical-align: top;\n",
       "    }\n",
       "\n",
       "    .dataframe thead th {\n",
       "        text-align: right;\n",
       "    }\n",
       "</style>\n",
       "<table border=\"1\" class=\"dataframe\">\n",
       "  <thead>\n",
       "    <tr style=\"text-align: right;\">\n",
       "      <th></th>\n",
       "      <th>Country</th>\n",
       "      <th>Ladder Score</th>\n",
       "      <th>Freedom</th>\n",
       "      <th>GDP</th>\n",
       "      <th>Life Expectancy</th>\n",
       "      <th>Generosity</th>\n",
       "      <th>Year</th>\n",
       "      <th>Regional indicator</th>\n",
       "    </tr>\n",
       "  </thead>\n",
       "  <tbody>\n",
       "    <tr>\n",
       "      <th>0</th>\n",
       "      <td>Finland</td>\n",
       "      <td>7.842</td>\n",
       "      <td>0.949</td>\n",
       "      <td>10.775</td>\n",
       "      <td>72.0</td>\n",
       "      <td>-0.098</td>\n",
       "      <td>2021</td>\n",
       "      <td>Western Europe</td>\n",
       "    </tr>\n",
       "    <tr>\n",
       "      <th>1</th>\n",
       "      <td>Denmark</td>\n",
       "      <td>7.620</td>\n",
       "      <td>0.946</td>\n",
       "      <td>10.933</td>\n",
       "      <td>72.7</td>\n",
       "      <td>0.030</td>\n",
       "      <td>2021</td>\n",
       "      <td>Western Europe</td>\n",
       "    </tr>\n",
       "    <tr>\n",
       "      <th>2</th>\n",
       "      <td>Switzerland</td>\n",
       "      <td>7.571</td>\n",
       "      <td>0.919</td>\n",
       "      <td>11.117</td>\n",
       "      <td>74.4</td>\n",
       "      <td>0.025</td>\n",
       "      <td>2021</td>\n",
       "      <td>Western Europe</td>\n",
       "    </tr>\n",
       "    <tr>\n",
       "      <th>3</th>\n",
       "      <td>Iceland</td>\n",
       "      <td>7.554</td>\n",
       "      <td>0.955</td>\n",
       "      <td>10.878</td>\n",
       "      <td>73.0</td>\n",
       "      <td>0.160</td>\n",
       "      <td>2021</td>\n",
       "      <td>Western Europe</td>\n",
       "    </tr>\n",
       "    <tr>\n",
       "      <th>4</th>\n",
       "      <td>Netherlands</td>\n",
       "      <td>7.464</td>\n",
       "      <td>0.913</td>\n",
       "      <td>10.932</td>\n",
       "      <td>72.4</td>\n",
       "      <td>0.175</td>\n",
       "      <td>2021</td>\n",
       "      <td>Western Europe</td>\n",
       "    </tr>\n",
       "  </tbody>\n",
       "</table>\n",
       "</div>"
      ],
      "text/plain": [
       "       Country  Ladder Score  Freedom     GDP  Life Expectancy  Generosity  \\\n",
       "0      Finland         7.842    0.949  10.775             72.0      -0.098   \n",
       "1      Denmark         7.620    0.946  10.933             72.7       0.030   \n",
       "2  Switzerland         7.571    0.919  11.117             74.4       0.025   \n",
       "3      Iceland         7.554    0.955  10.878             73.0       0.160   \n",
       "4  Netherlands         7.464    0.913  10.932             72.4       0.175   \n",
       "\n",
       "   Year Regional indicator  \n",
       "0  2021     Western Europe  \n",
       "1  2021     Western Europe  \n",
       "2  2021     Western Europe  \n",
       "3  2021     Western Europe  \n",
       "4  2021     Western Europe  "
      ]
     },
     "execution_count": 37,
     "metadata": {},
     "output_type": "execute_result"
    }
   ],
   "source": [
    "#Import dependencies\n",
    "import pandas as pd\n",
    "import numpy as np\n",
    "import matplotlib.pyplot as plt\n",
    "import seaborn as sns\n",
    "import plotly.express as px\n",
    "\n",
    "\n",
    "#only projecting columns we need\n",
    "proj_columns = ['Country', 'Ladder Score','Freedom', 'GDP', 'Life Expectancy', 'Generosity', 'Year']\n",
    "\n",
    "#reading 2021 by itself because it has regional indictor which other csvs are muissing\n",
    "df_2021 = pd.read_csv(f\"Resources/years/2021.csv\")[proj_columns + ['Regional indicator']]\n",
    "\n",
    "happiness_combined_df = df_2021\n",
    "\n",
    "#projecting only two columns \n",
    "country_df = df_2021[['Country', 'Regional indicator']]\n",
    "\n",
    "#creating dictionary to  match regional indicators to countries\n",
    "country_dict = country_df.set_index('Country').to_dict()['Regional indicator']\n",
    "\n",
    "#looping through the years exct 2021 which we have already done and adding\n",
    "#to a new combined dataframe \n",
    "for yr in range(2017, 2021):\n",
    "    df_yr = pd.read_csv(f\"Resources/years/{yr}.csv\")[proj_columns]\n",
    "    #adding regional indicator value to all years from country dict bove\n",
    "    df_yr['Regional indicator'] = df_yr['Country'].apply(lambda x: country_dict.get(x, ''))\n",
    "    #combining\n",
    "    happiness_combined_df = pd.concat([happiness_combined_df,\n",
    "        df_yr]) \n",
    "\n",
    "#happiness_combined_df.to_csv('Resources/combined_happiness.csv')\n",
    "happiness_combined_df.head(5)"
   ]
  },
  {
   "cell_type": "code",
   "execution_count": 2,
   "id": "7b56ab0d-9c6f-4c53-b049-f44fe6276b71",
   "metadata": {},
   "outputs": [],
   "source": [
    "# #DATA CLEANING\n",
    "# #identify the columns with no regional indicator\n",
    "# #happiness_combined_df['Regional indicator'] == ''][['Country','Year']]\n",
    "# #pd.pivot_table(happiness_combined_df, values='Country', columns='Year', aggfunc='count')\n",
    "# before_clean_df = happiness_combined_df\n",
    "# before_clean_df.pivot(index='Country', columns='Year', values='Country').to_csv('Resources/pivoted-for-missing-val.csv')\n"
   ]
  },
  {
   "cell_type": "code",
   "execution_count": 38,
   "id": "b80b0dde-70f8-44d4-aeb3-4f6838372c7f",
   "metadata": {},
   "outputs": [
    {
     "data": {
      "text/html": [
       "<div>\n",
       "<style scoped>\n",
       "    .dataframe tbody tr th:only-of-type {\n",
       "        vertical-align: middle;\n",
       "    }\n",
       "\n",
       "    .dataframe tbody tr th {\n",
       "        vertical-align: top;\n",
       "    }\n",
       "\n",
       "    .dataframe thead th {\n",
       "        text-align: right;\n",
       "    }\n",
       "</style>\n",
       "<table border=\"1\" class=\"dataframe\">\n",
       "  <thead>\n",
       "    <tr style=\"text-align: right;\">\n",
       "      <th></th>\n",
       "      <th>Country</th>\n",
       "      <th>Ladder Score</th>\n",
       "      <th>Freedom</th>\n",
       "      <th>GDP</th>\n",
       "      <th>Life Expectancy</th>\n",
       "      <th>Generosity</th>\n",
       "      <th>Year</th>\n",
       "      <th>Regional indicator</th>\n",
       "    </tr>\n",
       "  </thead>\n",
       "  <tbody>\n",
       "    <tr>\n",
       "      <th>0</th>\n",
       "      <td>Finland</td>\n",
       "      <td>7.8420</td>\n",
       "      <td>0.949000</td>\n",
       "      <td>10.775000</td>\n",
       "      <td>72.000000</td>\n",
       "      <td>-0.098000</td>\n",
       "      <td>2021</td>\n",
       "      <td>Western Europe</td>\n",
       "    </tr>\n",
       "    <tr>\n",
       "      <th>1</th>\n",
       "      <td>Denmark</td>\n",
       "      <td>7.6200</td>\n",
       "      <td>0.946000</td>\n",
       "      <td>10.933000</td>\n",
       "      <td>72.700000</td>\n",
       "      <td>0.030000</td>\n",
       "      <td>2021</td>\n",
       "      <td>Western Europe</td>\n",
       "    </tr>\n",
       "    <tr>\n",
       "      <th>2</th>\n",
       "      <td>Switzerland</td>\n",
       "      <td>7.5710</td>\n",
       "      <td>0.919000</td>\n",
       "      <td>11.117000</td>\n",
       "      <td>74.400000</td>\n",
       "      <td>0.025000</td>\n",
       "      <td>2021</td>\n",
       "      <td>Western Europe</td>\n",
       "    </tr>\n",
       "    <tr>\n",
       "      <th>3</th>\n",
       "      <td>Iceland</td>\n",
       "      <td>7.5540</td>\n",
       "      <td>0.955000</td>\n",
       "      <td>10.878000</td>\n",
       "      <td>73.000000</td>\n",
       "      <td>0.160000</td>\n",
       "      <td>2021</td>\n",
       "      <td>Western Europe</td>\n",
       "    </tr>\n",
       "    <tr>\n",
       "      <th>4</th>\n",
       "      <td>Norway</td>\n",
       "      <td>7.4640</td>\n",
       "      <td>0.913000</td>\n",
       "      <td>10.932000</td>\n",
       "      <td>72.400000</td>\n",
       "      <td>0.175000</td>\n",
       "      <td>2021</td>\n",
       "      <td>Western Europe</td>\n",
       "    </tr>\n",
       "    <tr>\n",
       "      <th>...</th>\n",
       "      <td>...</td>\n",
       "      <td>...</td>\n",
       "      <td>...</td>\n",
       "      <td>...</td>\n",
       "      <td>...</td>\n",
       "      <td>...</td>\n",
       "      <td>...</td>\n",
       "      <td>...</td>\n",
       "    </tr>\n",
       "    <tr>\n",
       "      <th>148</th>\n",
       "      <td>Central African Republic</td>\n",
       "      <td>3.4759</td>\n",
       "      <td>0.640881</td>\n",
       "      <td>6.625160</td>\n",
       "      <td>45.200001</td>\n",
       "      <td>0.082410</td>\n",
       "      <td>2020</td>\n",
       "      <td>Sub-Saharan Africa</td>\n",
       "    </tr>\n",
       "    <tr>\n",
       "      <th>149</th>\n",
       "      <td>Rwanda</td>\n",
       "      <td>3.3123</td>\n",
       "      <td>0.900589</td>\n",
       "      <td>7.600104</td>\n",
       "      <td>61.098846</td>\n",
       "      <td>0.055484</td>\n",
       "      <td>2020</td>\n",
       "      <td>Sub-Saharan Africa</td>\n",
       "    </tr>\n",
       "    <tr>\n",
       "      <th>150</th>\n",
       "      <td>Zimbabwe</td>\n",
       "      <td>3.2992</td>\n",
       "      <td>0.711458</td>\n",
       "      <td>7.865712</td>\n",
       "      <td>55.617260</td>\n",
       "      <td>-0.072064</td>\n",
       "      <td>2020</td>\n",
       "      <td>Sub-Saharan Africa</td>\n",
       "    </tr>\n",
       "    <tr>\n",
       "      <th>151</th>\n",
       "      <td>South Sudan</td>\n",
       "      <td>2.8166</td>\n",
       "      <td>0.451314</td>\n",
       "      <td>7.425360</td>\n",
       "      <td>51.000000</td>\n",
       "      <td>0.016519</td>\n",
       "      <td>2020</td>\n",
       "      <td>Sub-Saharan Africa</td>\n",
       "    </tr>\n",
       "    <tr>\n",
       "      <th>152</th>\n",
       "      <td>Afghanistan</td>\n",
       "      <td>2.5669</td>\n",
       "      <td>0.396573</td>\n",
       "      <td>7.462861</td>\n",
       "      <td>52.590000</td>\n",
       "      <td>-0.096429</td>\n",
       "      <td>2020</td>\n",
       "      <td>South Asia</td>\n",
       "    </tr>\n",
       "  </tbody>\n",
       "</table>\n",
       "<p>769 rows × 8 columns</p>\n",
       "</div>"
      ],
      "text/plain": [
       "                      Country  Ladder Score   Freedom        GDP  \\\n",
       "0                     Finland        7.8420  0.949000  10.775000   \n",
       "1                     Denmark        7.6200  0.946000  10.933000   \n",
       "2                 Switzerland        7.5710  0.919000  11.117000   \n",
       "3                     Iceland        7.5540  0.955000  10.878000   \n",
       "4                      Norway        7.4640  0.913000  10.932000   \n",
       "..                        ...           ...       ...        ...   \n",
       "148  Central African Republic        3.4759  0.640881   6.625160   \n",
       "149                    Rwanda        3.3123  0.900589   7.600104   \n",
       "150                  Zimbabwe        3.2992  0.711458   7.865712   \n",
       "151               South Sudan        2.8166  0.451314   7.425360   \n",
       "152               Afghanistan        2.5669  0.396573   7.462861   \n",
       "\n",
       "     Life Expectancy  Generosity  Year  Regional indicator  \n",
       "0          72.000000   -0.098000  2021      Western Europe  \n",
       "1          72.700000    0.030000  2021      Western Europe  \n",
       "2          74.400000    0.025000  2021      Western Europe  \n",
       "3          73.000000    0.160000  2021      Western Europe  \n",
       "4          72.400000    0.175000  2021      Western Europe  \n",
       "..               ...         ...   ...                 ...  \n",
       "148        45.200001    0.082410  2020  Sub-Saharan Africa  \n",
       "149        61.098846    0.055484  2020  Sub-Saharan Africa  \n",
       "150        55.617260   -0.072064  2020  Sub-Saharan Africa  \n",
       "151        51.000000    0.016519  2020  Sub-Saharan Africa  \n",
       "152        52.590000   -0.096429  2020          South Asia  \n",
       "\n",
       "[769 rows x 8 columns]"
      ]
     },
     "execution_count": 38,
     "metadata": {},
     "output_type": "execute_result"
    }
   ],
   "source": [
    "#looking at the pivoted data set, it was revealed the countries were named diffrently in diffrent years,\n",
    "#to solve that, these countries were renamed to one consistent value across years.\n",
    "# ALso, some countries did not have any data for some years. For instance, Belize, Angola, Congo, Qatar are missing\n",
    "#for most recent years. From our google research, It may be due to political situation and or high crime rate in Belize, \n",
    "#Angola and Congo and Central African Republic.\n",
    "#Renaming the countries\n",
    "rename_cntry_dict = {\n",
    "    'Hong Kong S.A.R. of China': 'Hong Kong',\n",
    "    'Hong Kong S.A.R., China': 'Hong Kong',\n",
    "    'Trinidad & Tobago': 'Trinidad and Tobago',\n",
    "    'North Macedonia': 'Macedonia',\n",
    "    'Northern Cyprus': 'North Cyprus',\n",
    "    'Taiwan Province of China': 'Taiwan',\n",
    "}\n",
    "rename_ri_dict = {\n",
    "    'Hong Kong': 'East Asia',\n",
    "    'Trinidad and Tobago': 'Latin America and Caribbean',\n",
    "    'Macedonia': 'Central and Eastern Europe',\n",
    "    'North Cyprus': 'Western Europe',\n",
    "    'Taiwan': 'East Asia',\n",
    "    'Central African Republic': 'Sub-Saharan Africa',\n",
    "    'South Sudan': 'Sub-Saharan Africa',\n",
    "    'Congo (Kinshasa)': 'Sub-Saharan Africa'\n",
    "}\n",
    "\n",
    "# in order to loop through data frame, call iterrows function\n",
    "# which provides us an index of the row and all data in the row\n",
    "for i, row in happiness_combined_df.iterrows():\n",
    "    # grab either the rename value of the country, or if it is not\n",
    "    # in the dictionary, just use the value already in the row as default\n",
    "    #of the .get() function. We have to store this in a variable to use it \n",
    "    # for regional indicator below\n",
    "    country = rename_cntry_dict.get(row['Country'], row['Country'])\n",
    "    # using dataframe .at[], index from iterrows, and column name to set value\n",
    "    happiness_combined_df.at[i, 'Country'] = country\n",
    "    happiness_combined_df.at[i, 'Regional indicator'] = rename_ri_dict.get(country, row['Regional indicator'])\n",
    "\n",
    "happiness_combined_df\n"
   ]
  },
  {
   "cell_type": "code",
   "execution_count": 39,
   "id": "4c987859-64ac-4be5-a50c-a6776c261755",
   "metadata": {},
   "outputs": [],
   "source": [
    "# save csv after cleaning\n",
    "happiness_combined_df.to_csv('Resources/combined_happiness_after_clean.csv')\n"
   ]
  },
  {
   "cell_type": "code",
   "execution_count": 41,
   "id": "e90714ad-29e3-4801-8c61-527af63415b1",
   "metadata": {},
   "outputs": [
    {
     "data": {
      "text/plain": [
       "array([], dtype=object)"
      ]
     },
     "execution_count": 41,
     "metadata": {},
     "output_type": "execute_result"
    }
   ],
   "source": [
    "#Data_check: identify the columns with no regional indicator\n",
    "happiness_combined_df[happiness_combined_df['Regional indicator'] == '']['Country'].unique()"
   ]
  },
  {
   "cell_type": "code",
   "execution_count": 6,
   "id": "b822a9b8-f5f6-4354-8453-f3e40bc79cf5",
   "metadata": {},
   "outputs": [
    {
     "data": {
      "text/html": [
       "<div>\n",
       "<style scoped>\n",
       "    .dataframe tbody tr th:only-of-type {\n",
       "        vertical-align: middle;\n",
       "    }\n",
       "\n",
       "    .dataframe tbody tr th {\n",
       "        vertical-align: top;\n",
       "    }\n",
       "\n",
       "    .dataframe thead th {\n",
       "        text-align: right;\n",
       "    }\n",
       "</style>\n",
       "<table border=\"1\" class=\"dataframe\">\n",
       "  <thead>\n",
       "    <tr style=\"text-align: right;\">\n",
       "      <th></th>\n",
       "      <th></th>\n",
       "      <th>Country</th>\n",
       "      <th>Ladder Score</th>\n",
       "      <th>Freedom</th>\n",
       "      <th>GDP</th>\n",
       "      <th>Life Expectancy</th>\n",
       "      <th>Generosity</th>\n",
       "      <th>Regional indicator</th>\n",
       "    </tr>\n",
       "    <tr>\n",
       "      <th>Year</th>\n",
       "      <th>rank</th>\n",
       "      <th></th>\n",
       "      <th></th>\n",
       "      <th></th>\n",
       "      <th></th>\n",
       "      <th></th>\n",
       "      <th></th>\n",
       "      <th></th>\n",
       "    </tr>\n",
       "  </thead>\n",
       "  <tbody>\n",
       "    <tr>\n",
       "      <th rowspan=\"5\" valign=\"top\">2017</th>\n",
       "      <th>1.0</th>\n",
       "      <td>Finland</td>\n",
       "      <td>7.537</td>\n",
       "      <td>0.635423</td>\n",
       "      <td>1.616463</td>\n",
       "      <td>0.796667</td>\n",
       "      <td>0.362012</td>\n",
       "      <td>Western Europe</td>\n",
       "    </tr>\n",
       "    <tr>\n",
       "      <th>2.0</th>\n",
       "      <td>Denmark</td>\n",
       "      <td>7.522</td>\n",
       "      <td>0.626007</td>\n",
       "      <td>1.482383</td>\n",
       "      <td>0.792566</td>\n",
       "      <td>0.355280</td>\n",
       "      <td>Western Europe</td>\n",
       "    </tr>\n",
       "    <tr>\n",
       "      <th>3.0</th>\n",
       "      <td>Switzerland</td>\n",
       "      <td>7.504</td>\n",
       "      <td>0.627163</td>\n",
       "      <td>1.480633</td>\n",
       "      <td>0.833552</td>\n",
       "      <td>0.475540</td>\n",
       "      <td>Western Europe</td>\n",
       "    </tr>\n",
       "    <tr>\n",
       "      <th>4.0</th>\n",
       "      <td>Iceland</td>\n",
       "      <td>7.494</td>\n",
       "      <td>0.620071</td>\n",
       "      <td>1.564980</td>\n",
       "      <td>0.858131</td>\n",
       "      <td>0.290549</td>\n",
       "      <td>Western Europe</td>\n",
       "    </tr>\n",
       "    <tr>\n",
       "      <th>5.0</th>\n",
       "      <td>Norway</td>\n",
       "      <td>7.469</td>\n",
       "      <td>0.617951</td>\n",
       "      <td>1.443572</td>\n",
       "      <td>0.809158</td>\n",
       "      <td>0.245483</td>\n",
       "      <td>Western Europe</td>\n",
       "    </tr>\n",
       "    <tr>\n",
       "      <th>...</th>\n",
       "      <th>...</th>\n",
       "      <td>...</td>\n",
       "      <td>...</td>\n",
       "      <td>...</td>\n",
       "      <td>...</td>\n",
       "      <td>...</td>\n",
       "      <td>...</td>\n",
       "      <td>...</td>\n",
       "    </tr>\n",
       "    <tr>\n",
       "      <th rowspan=\"5\" valign=\"top\">2021</th>\n",
       "      <th>145.0</th>\n",
       "      <td>Malawi</td>\n",
       "      <td>3.512</td>\n",
       "      <td>0.715000</td>\n",
       "      <td>7.926000</td>\n",
       "      <td>48.700000</td>\n",
       "      <td>-0.131000</td>\n",
       "      <td>Sub-Saharan Africa</td>\n",
       "    </tr>\n",
       "    <tr>\n",
       "      <th>146.0</th>\n",
       "      <td>Yemen</td>\n",
       "      <td>3.467</td>\n",
       "      <td>0.824000</td>\n",
       "      <td>9.782000</td>\n",
       "      <td>59.269000</td>\n",
       "      <td>-0.246000</td>\n",
       "      <td>Middle East and North Africa</td>\n",
       "    </tr>\n",
       "    <tr>\n",
       "      <th>147.0</th>\n",
       "      <td>Botswana</td>\n",
       "      <td>3.415</td>\n",
       "      <td>0.897000</td>\n",
       "      <td>7.676000</td>\n",
       "      <td>61.400000</td>\n",
       "      <td>0.061000</td>\n",
       "      <td>Sub-Saharan Africa</td>\n",
       "    </tr>\n",
       "    <tr>\n",
       "      <th>148.0</th>\n",
       "      <td>Tanzania</td>\n",
       "      <td>3.145</td>\n",
       "      <td>0.677000</td>\n",
       "      <td>7.943000</td>\n",
       "      <td>56.201000</td>\n",
       "      <td>-0.047000</td>\n",
       "      <td>Sub-Saharan Africa</td>\n",
       "    </tr>\n",
       "    <tr>\n",
       "      <th>149.0</th>\n",
       "      <td>Central African Republic</td>\n",
       "      <td>2.523</td>\n",
       "      <td>0.382000</td>\n",
       "      <td>7.695000</td>\n",
       "      <td>52.493000</td>\n",
       "      <td>-0.102000</td>\n",
       "      <td>Sub-Saharan Africa</td>\n",
       "    </tr>\n",
       "  </tbody>\n",
       "</table>\n",
       "<p>769 rows × 7 columns</p>\n",
       "</div>"
      ],
      "text/plain": [
       "                             Country  Ladder Score   Freedom       GDP  \\\n",
       "Year rank                                                                \n",
       "2017 1.0                     Finland         7.537  0.635423  1.616463   \n",
       "     2.0                     Denmark         7.522  0.626007  1.482383   \n",
       "     3.0                 Switzerland         7.504  0.627163  1.480633   \n",
       "     4.0                     Iceland         7.494  0.620071  1.564980   \n",
       "     5.0                      Norway         7.469  0.617951  1.443572   \n",
       "...                              ...           ...       ...       ...   \n",
       "2021 145.0                    Malawi         3.512  0.715000  7.926000   \n",
       "     146.0                     Yemen         3.467  0.824000  9.782000   \n",
       "     147.0                  Botswana         3.415  0.897000  7.676000   \n",
       "     148.0                  Tanzania         3.145  0.677000  7.943000   \n",
       "     149.0  Central African Republic         2.523  0.382000  7.695000   \n",
       "\n",
       "            Life Expectancy  Generosity            Regional indicator  \n",
       "Year rank                                                              \n",
       "2017 1.0           0.796667    0.362012                Western Europe  \n",
       "     2.0           0.792566    0.355280                Western Europe  \n",
       "     3.0           0.833552    0.475540                Western Europe  \n",
       "     4.0           0.858131    0.290549                Western Europe  \n",
       "     5.0           0.809158    0.245483                Western Europe  \n",
       "...                     ...         ...                           ...  \n",
       "2021 145.0        48.700000   -0.131000            Sub-Saharan Africa  \n",
       "     146.0        59.269000   -0.246000  Middle East and North Africa  \n",
       "     147.0        61.400000    0.061000            Sub-Saharan Africa  \n",
       "     148.0        56.201000   -0.047000            Sub-Saharan Africa  \n",
       "     149.0        52.493000   -0.102000            Sub-Saharan Africa  \n",
       "\n",
       "[769 rows x 7 columns]"
      ]
     },
     "execution_count": 6,
     "metadata": {},
     "output_type": "execute_result"
    }
   ],
   "source": [
    "#identify top 5 happy and bottom 5 countries by ladder score in each year.\n",
    "happiness_combined_df['rank'] = happiness_combined_df.groupby(['Year'])['Ladder Score'].rank('max', ascending=False)#.sort_values(['Year', 'rank'])\n",
    "happiness_combined_df = happiness_combined_df.set_index(['Year', 'rank']).sort_index()\n",
    "happiness_combined_df.to_csv('Resources/combined_happiness_indexed.csv')\n",
    "happiness_combined_df\n"
   ]
  },
  {
   "cell_type": "code",
   "execution_count": 7,
   "id": "93f0d489-ae96-40b7-8a69-746e5d2979ea",
   "metadata": {},
   "outputs": [
    {
     "data": {
      "text/plain": [
       "Year\n",
       "2017     0.551341\n",
       "2018     0.597346\n",
       "2019     0.725244\n",
       "2020    64.445529\n",
       "2021    64.992799\n",
       "Name: Life Expectancy, dtype: float64"
      ]
     },
     "execution_count": 7,
     "metadata": {},
     "output_type": "execute_result"
    }
   ],
   "source": [
    "# found the average life expecatancy of world happiness to show how it improved every year.\n",
    "\n",
    "average_life_expect= happiness_combined_df.groupby('Year')['Life Expectancy'].mean()\n",
    "average_life_expect"
   ]
  },
  {
   "cell_type": "code",
   "execution_count": 8,
   "id": "1beb379d-5e08-4b05-8abd-e179d0b65614",
   "metadata": {},
   "outputs": [
    {
     "data": {
      "image/png": "[encoded data removed]",
      "text/plain": [
       "<Figure size 432x288 with 1 Axes>"
      ]
     },
     "metadata": {
      "needs_background": "light"
     },
     "output_type": "display_data"
    }
   ],
   "source": [
    "#Bar graph for avg life expecatancy of world happiness\n",
    "\n",
    "average_life_expect.plot(kind=\"bar\")\n",
    "plt.xlabel(\"Year\")\n",
    "plt.xticks(rotation=90)\n",
    "plt.ylabel(\"Average Life Expectancy of World Happiness Report\")\n",
    "plt.show()"
   ]
  },
  {
   "cell_type": "code",
   "execution_count": 19,
   "id": "a8030fa4-a2ee-42a4-8658-e2562c6a177a",
   "metadata": {},
   "outputs": [
    {
     "data": {
      "text/html": [
       "<div>\n",
       "<style scoped>\n",
       "    .dataframe tbody tr th:only-of-type {\n",
       "        vertical-align: middle;\n",
       "    }\n",
       "\n",
       "    .dataframe tbody tr th {\n",
       "        vertical-align: top;\n",
       "    }\n",
       "\n",
       "    .dataframe thead th {\n",
       "        text-align: right;\n",
       "    }\n",
       "</style>\n",
       "<table border=\"1\" class=\"dataframe\">\n",
       "  <thead>\n",
       "    <tr style=\"text-align: right;\">\n",
       "      <th></th>\n",
       "      <th></th>\n",
       "      <th></th>\n",
       "      <th>Life Expectancy</th>\n",
       "    </tr>\n",
       "    <tr>\n",
       "      <th>Year</th>\n",
       "      <th>Regional indicator</th>\n",
       "      <th>Country</th>\n",
       "      <th></th>\n",
       "    </tr>\n",
       "  </thead>\n",
       "  <tbody>\n",
       "    <tr>\n",
       "      <th rowspan=\"5\" valign=\"top\">2017</th>\n",
       "      <th rowspan=\"5\" valign=\"top\">Central and Eastern Europe</th>\n",
       "      <th>Albania</th>\n",
       "      <td>0.71</td>\n",
       "    </tr>\n",
       "    <tr>\n",
       "      <th>Bosnia and Herzegovina</th>\n",
       "      <td>0.64</td>\n",
       "    </tr>\n",
       "    <tr>\n",
       "      <th>Bulgaria</th>\n",
       "      <td>0.53</td>\n",
       "    </tr>\n",
       "    <tr>\n",
       "      <th>Croatia</th>\n",
       "      <td>0.74</td>\n",
       "    </tr>\n",
       "    <tr>\n",
       "      <th>Czech Republic</th>\n",
       "      <td>0.81</td>\n",
       "    </tr>\n",
       "    <tr>\n",
       "      <th>...</th>\n",
       "      <th>...</th>\n",
       "      <th>...</th>\n",
       "      <td>...</td>\n",
       "    </tr>\n",
       "    <tr>\n",
       "      <th rowspan=\"5\" valign=\"top\">2021</th>\n",
       "      <th rowspan=\"5\" valign=\"top\">Western Europe</th>\n",
       "      <th>Portugal</th>\n",
       "      <td>67.30</td>\n",
       "    </tr>\n",
       "    <tr>\n",
       "      <th>Spain</th>\n",
       "      <td>73.80</td>\n",
       "    </tr>\n",
       "    <tr>\n",
       "      <th>Sweden</th>\n",
       "      <td>72.70</td>\n",
       "    </tr>\n",
       "    <tr>\n",
       "      <th>Switzerland</th>\n",
       "      <td>74.40</td>\n",
       "    </tr>\n",
       "    <tr>\n",
       "      <th>United Kingdom</th>\n",
       "      <td>72.50</td>\n",
       "    </tr>\n",
       "  </tbody>\n",
       "</table>\n",
       "<p>761 rows × 1 columns</p>\n",
       "</div>"
      ],
      "text/plain": [
       "                                                        Life Expectancy\n",
       "Year Regional indicator         Country                                \n",
       "2017 Central and Eastern Europe Albania                            0.71\n",
       "                                Bosnia and Herzegovina             0.64\n",
       "                                Bulgaria                           0.53\n",
       "                                Croatia                            0.74\n",
       "                                Czech Republic                     0.81\n",
       "...                                                                 ...\n",
       "2021 Western Europe             Portugal                          67.30\n",
       "                                Spain                             73.80\n",
       "                                Sweden                            72.70\n",
       "                                Switzerland                       74.40\n",
       "                                United Kingdom                    72.50\n",
       "\n",
       "[761 rows x 1 columns]"
      ]
     },
     "execution_count": 19,
     "metadata": {},
     "output_type": "execute_result"
    }
   ],
   "source": [
    "multi_group = happiness_combined_df.groupby(['Year','Regional indicator','Country'])[['Life Expectancy']].mean()\n",
    "multi_group\n",
    "#clean_group_df = multi_group.dropna(how='all', axis=1)\n",
    "\n",
    "#clean_multigrp= multi_group.dropna(axis=0, subset=['Country'])\n"
   ]
  },
  {
   "cell_type": "code",
   "execution_count": 20,
   "id": "e203fad5-f19c-4469-a4e5-93bd77b4d91c",
   "metadata": {},
   "outputs": [
    {
     "data": {
      "image/png": "[encoded data removed]",
      "text/plain": [
       "<Figure size 1080x360 with 1 Axes>"
      ]
     },
     "metadata": {},
     "output_type": "display_data"
    }
   ],
   "source": [
    "sns.set_style('dark')\n",
    "plot = sns.relplot(data=multi_group, x='Year', y='Life Expectancy',hue='Regional indicator', alpha=0.7, edgecolors=\"orange\", linewidth=0.1).set(xscale=\"linear\")\n",
    "#plot = sns.relplot(x= 'Score', y ='Total Amount Deposited', data =multi_group, hue = 'Predicted Category',alpha=0.7, edgecolors=\"orange\", linewidth=0.1)\n",
    "plot.set_axis_labels(\"Years\", \"Life Expectancy\",color = \"brown\")\n",
    "plot.fig.set_size_inches(15,5)\n"
   ]
  },
  {
   "cell_type": "code",
   "execution_count": 21,
   "id": "fa73b65a-f929-46c0-bc06-9bcbdd69e183",
   "metadata": {},
   "outputs": [
    {
     "data": {
      "text/plain": [
       "<matplotlib.legend.Legend at 0x1752a5c0ee0>"
      ]
     },
     "execution_count": 21,
     "metadata": {},
     "output_type": "execute_result"
    },
    {
     "data": {
      "image/png": "[encoded data removed]",
      "text/plain": [
       "<Figure size 432x288 with 1 Axes>"
      ]
     },
     "metadata": {},
     "output_type": "display_data"
    }
   ],
   "source": [
    "sns.set(style = 'whitegrid')\n",
    "#fmri = sns.load_dataset(\"fmri\")\n",
    "  \n",
    "g = sns.lineplot(x =\"Year\",\n",
    "             y =\"Life Expectancy\",\n",
    "             hue =\"Regional indicator\",\n",
    "             data = multi_group,\n",
    "             alpha=0.9, \n",
    "             linewidth=0.1)\n",
    "g.legend(loc='center left', bbox_to_anchor=(1.25,0.5), ncol=1)"
   ]
  },
  {
   "cell_type": "code",
   "execution_count": 22,
   "id": "fa9cefc5-d7b4-4056-91cf-186129eb0161",
   "metadata": {
    "scrolled": true
   },
   "outputs": [
    {
     "data": {
      "text/html": [
       "<div>\n",
       "<style scoped>\n",
       "    .dataframe tbody tr th:only-of-type {\n",
       "        vertical-align: middle;\n",
       "    }\n",
       "\n",
       "    .dataframe tbody tr th {\n",
       "        vertical-align: top;\n",
       "    }\n",
       "\n",
       "    .dataframe thead th {\n",
       "        text-align: right;\n",
       "    }\n",
       "</style>\n",
       "<table border=\"1\" class=\"dataframe\">\n",
       "  <thead>\n",
       "    <tr style=\"text-align: right;\">\n",
       "      <th></th>\n",
       "      <th></th>\n",
       "      <th>Country</th>\n",
       "      <th>Ladder Score</th>\n",
       "      <th>Freedom</th>\n",
       "      <th>GDP</th>\n",
       "      <th>Life Expectancy</th>\n",
       "      <th>Generosity</th>\n",
       "      <th>Regional indicator</th>\n",
       "    </tr>\n",
       "    <tr>\n",
       "      <th>Year</th>\n",
       "      <th>rank</th>\n",
       "      <th></th>\n",
       "      <th></th>\n",
       "      <th></th>\n",
       "      <th></th>\n",
       "      <th></th>\n",
       "      <th></th>\n",
       "      <th></th>\n",
       "    </tr>\n",
       "  </thead>\n",
       "  <tbody>\n",
       "    <tr>\n",
       "      <th rowspan=\"2\" valign=\"top\">2021</th>\n",
       "      <th>32.0</th>\n",
       "      <td>Brazil</td>\n",
       "      <td>6.3770</td>\n",
       "      <td>0.927000</td>\n",
       "      <td>11.488000</td>\n",
       "      <td>76.95</td>\n",
       "      <td>-0.018000</td>\n",
       "      <td>Latin America and Caribbean</td>\n",
       "    </tr>\n",
       "    <tr>\n",
       "      <th>77.0</th>\n",
       "      <td>Greece</td>\n",
       "      <td>5.4770</td>\n",
       "      <td>0.717000</td>\n",
       "      <td>11.000000</td>\n",
       "      <td>76.82</td>\n",
       "      <td>0.067000</td>\n",
       "      <td>Western Europe</td>\n",
       "    </tr>\n",
       "    <tr>\n",
       "      <th rowspan=\"2\" valign=\"top\">2020</th>\n",
       "      <th>31.0</th>\n",
       "      <td>Singapore</td>\n",
       "      <td>6.3771</td>\n",
       "      <td>0.926645</td>\n",
       "      <td>11.395521</td>\n",
       "      <td>76.80</td>\n",
       "      <td>0.029879</td>\n",
       "      <td>Southeast Asia</td>\n",
       "    </tr>\n",
       "    <tr>\n",
       "      <th>78.0</th>\n",
       "      <td>Hong Kong</td>\n",
       "      <td>5.5104</td>\n",
       "      <td>0.779834</td>\n",
       "      <td>10.934671</td>\n",
       "      <td>76.77</td>\n",
       "      <td>0.134980</td>\n",
       "      <td>East Asia</td>\n",
       "    </tr>\n",
       "    <tr>\n",
       "      <th>2021</th>\n",
       "      <th>56.0</th>\n",
       "      <td>Honduras</td>\n",
       "      <td>5.9400</td>\n",
       "      <td>0.796000</td>\n",
       "      <td>10.611000</td>\n",
       "      <td>75.10</td>\n",
       "      <td>-0.258000</td>\n",
       "      <td>Latin America and Caribbean</td>\n",
       "    </tr>\n",
       "    <tr>\n",
       "      <th>...</th>\n",
       "      <th>...</th>\n",
       "      <td>...</td>\n",
       "      <td>...</td>\n",
       "      <td>...</td>\n",
       "      <td>...</td>\n",
       "      <td>...</td>\n",
       "      <td>...</td>\n",
       "      <td>...</td>\n",
       "    </tr>\n",
       "    <tr>\n",
       "      <th>2017</th>\n",
       "      <th>106.0</th>\n",
       "      <td>Cambodia</td>\n",
       "      <td>4.7090</td>\n",
       "      <td>0.318698</td>\n",
       "      <td>0.368421</td>\n",
       "      <td>0.01</td>\n",
       "      <td>0.293041</td>\n",
       "      <td>Southeast Asia</td>\n",
       "    </tr>\n",
       "    <tr>\n",
       "      <th>2018</th>\n",
       "      <th>155.0</th>\n",
       "      <td>Central African Republic</td>\n",
       "      <td>3.0830</td>\n",
       "      <td>0.305000</td>\n",
       "      <td>0.024000</td>\n",
       "      <td>0.01</td>\n",
       "      <td>0.218000</td>\n",
       "      <td>Sub-Saharan Africa</td>\n",
       "    </tr>\n",
       "    <tr>\n",
       "      <th>2019</th>\n",
       "      <th>135.0</th>\n",
       "      <td>Togo</td>\n",
       "      <td>4.2120</td>\n",
       "      <td>0.313000</td>\n",
       "      <td>0.811000</td>\n",
       "      <td>0.00</td>\n",
       "      <td>0.074000</td>\n",
       "      <td>Sub-Saharan Africa</td>\n",
       "    </tr>\n",
       "    <tr>\n",
       "      <th>2017</th>\n",
       "      <th>139.0</th>\n",
       "      <td>Sierra Leone</td>\n",
       "      <td>3.8080</td>\n",
       "      <td>0.390661</td>\n",
       "      <td>0.521021</td>\n",
       "      <td>0.00</td>\n",
       "      <td>0.157497</td>\n",
       "      <td>Sub-Saharan Africa</td>\n",
       "    </tr>\n",
       "    <tr>\n",
       "      <th>2018</th>\n",
       "      <th>113.0</th>\n",
       "      <td>Gambia</td>\n",
       "      <td>4.5710</td>\n",
       "      <td>0.355000</td>\n",
       "      <td>0.256000</td>\n",
       "      <td>0.00</td>\n",
       "      <td>0.238000</td>\n",
       "      <td>Sub-Saharan Africa</td>\n",
       "    </tr>\n",
       "  </tbody>\n",
       "</table>\n",
       "<p>769 rows × 7 columns</p>\n",
       "</div>"
      ],
      "text/plain": [
       "                             Country  Ladder Score   Freedom        GDP  \\\n",
       "Year rank                                                                 \n",
       "2021 32.0                     Brazil        6.3770  0.927000  11.488000   \n",
       "     77.0                     Greece        5.4770  0.717000  11.000000   \n",
       "2020 31.0                  Singapore        6.3771  0.926645  11.395521   \n",
       "     78.0                  Hong Kong        5.5104  0.779834  10.934671   \n",
       "2021 56.0                   Honduras        5.9400  0.796000  10.611000   \n",
       "...                              ...           ...       ...        ...   \n",
       "2017 106.0                  Cambodia        4.7090  0.318698   0.368421   \n",
       "2018 155.0  Central African Republic        3.0830  0.305000   0.024000   \n",
       "2019 135.0                      Togo        4.2120  0.313000   0.811000   \n",
       "2017 139.0              Sierra Leone        3.8080  0.390661   0.521021   \n",
       "2018 113.0                    Gambia        4.5710  0.355000   0.256000   \n",
       "\n",
       "            Life Expectancy  Generosity           Regional indicator  \n",
       "Year rank                                                             \n",
       "2021 32.0             76.95   -0.018000  Latin America and Caribbean  \n",
       "     77.0             76.82    0.067000               Western Europe  \n",
       "2020 31.0             76.80    0.029879               Southeast Asia  \n",
       "     78.0             76.77    0.134980                    East Asia  \n",
       "2021 56.0             75.10   -0.258000  Latin America and Caribbean  \n",
       "...                     ...         ...                          ...  \n",
       "2017 106.0             0.01    0.293041               Southeast Asia  \n",
       "2018 155.0             0.01    0.218000           Sub-Saharan Africa  \n",
       "2019 135.0             0.00    0.074000           Sub-Saharan Africa  \n",
       "2017 139.0             0.00    0.157497           Sub-Saharan Africa  \n",
       "2018 113.0             0.00    0.238000           Sub-Saharan Africa  \n",
       "\n",
       "[769 rows x 7 columns]"
      ]
     },
     "execution_count": 22,
     "metadata": {},
     "output_type": "execute_result"
    }
   ],
   "source": [
    "happiness_combined_df.groupby(['Year','Country'])['Life Expectancy']\n",
    "happiness_combined_df"
   ]
  },
  {
   "cell_type": "code",
   "execution_count": 23,
   "id": "b7101bf9-c4b5-4029-8766-5e42911252be",
   "metadata": {},
   "outputs": [
    {
     "data": {
      "text/html": [
       "<div>\n",
       "<style scoped>\n",
       "    .dataframe tbody tr th:only-of-type {\n",
       "        vertical-align: middle;\n",
       "    }\n",
       "\n",
       "    .dataframe tbody tr th {\n",
       "        vertical-align: top;\n",
       "    }\n",
       "\n",
       "    .dataframe thead th {\n",
       "        text-align: right;\n",
       "    }\n",
       "</style>\n",
       "<table border=\"1\" class=\"dataframe\">\n",
       "  <thead>\n",
       "    <tr style=\"text-align: right;\">\n",
       "      <th></th>\n",
       "      <th></th>\n",
       "      <th>Country</th>\n",
       "      <th>Ladder Score</th>\n",
       "      <th>Freedom</th>\n",
       "      <th>GDP</th>\n",
       "      <th>Life Expectancy</th>\n",
       "      <th>Generosity</th>\n",
       "      <th>Regional indicator</th>\n",
       "    </tr>\n",
       "    <tr>\n",
       "      <th>Year</th>\n",
       "      <th>rank</th>\n",
       "      <th></th>\n",
       "      <th></th>\n",
       "      <th></th>\n",
       "      <th></th>\n",
       "      <th></th>\n",
       "      <th></th>\n",
       "      <th></th>\n",
       "    </tr>\n",
       "  </thead>\n",
       "  <tbody>\n",
       "    <tr>\n",
       "      <th rowspan=\"2\" valign=\"top\">2021</th>\n",
       "      <th>32.0</th>\n",
       "      <td>Brazil</td>\n",
       "      <td>6.3770</td>\n",
       "      <td>0.927000</td>\n",
       "      <td>11.488000</td>\n",
       "      <td>76.95</td>\n",
       "      <td>-0.018000</td>\n",
       "      <td>Latin America and Caribbean</td>\n",
       "    </tr>\n",
       "    <tr>\n",
       "      <th>77.0</th>\n",
       "      <td>Greece</td>\n",
       "      <td>5.4770</td>\n",
       "      <td>0.717000</td>\n",
       "      <td>11.000000</td>\n",
       "      <td>76.82</td>\n",
       "      <td>0.067000</td>\n",
       "      <td>Western Europe</td>\n",
       "    </tr>\n",
       "    <tr>\n",
       "      <th rowspan=\"2\" valign=\"top\">2020</th>\n",
       "      <th>31.0</th>\n",
       "      <td>Singapore</td>\n",
       "      <td>6.3771</td>\n",
       "      <td>0.926645</td>\n",
       "      <td>11.395521</td>\n",
       "      <td>76.80</td>\n",
       "      <td>0.029879</td>\n",
       "      <td>Southeast Asia</td>\n",
       "    </tr>\n",
       "    <tr>\n",
       "      <th>78.0</th>\n",
       "      <td>Hong Kong</td>\n",
       "      <td>5.5104</td>\n",
       "      <td>0.779834</td>\n",
       "      <td>10.934671</td>\n",
       "      <td>76.77</td>\n",
       "      <td>0.134980</td>\n",
       "      <td>East Asia</td>\n",
       "    </tr>\n",
       "    <tr>\n",
       "      <th>2021</th>\n",
       "      <th>56.0</th>\n",
       "      <td>Honduras</td>\n",
       "      <td>5.9400</td>\n",
       "      <td>0.796000</td>\n",
       "      <td>10.611000</td>\n",
       "      <td>75.10</td>\n",
       "      <td>-0.258000</td>\n",
       "      <td>Latin America and Caribbean</td>\n",
       "    </tr>\n",
       "  </tbody>\n",
       "</table>\n",
       "</div>"
      ],
      "text/plain": [
       "             Country  Ladder Score   Freedom        GDP  Life Expectancy  \\\n",
       "Year rank                                                                  \n",
       "2021 32.0     Brazil        6.3770  0.927000  11.488000            76.95   \n",
       "     77.0     Greece        5.4770  0.717000  11.000000            76.82   \n",
       "2020 31.0  Singapore        6.3771  0.926645  11.395521            76.80   \n",
       "     78.0  Hong Kong        5.5104  0.779834  10.934671            76.77   \n",
       "2021 56.0   Honduras        5.9400  0.796000  10.611000            75.10   \n",
       "\n",
       "           Generosity           Regional indicator  \n",
       "Year rank                                           \n",
       "2021 32.0   -0.018000  Latin America and Caribbean  \n",
       "     77.0    0.067000               Western Europe  \n",
       "2020 31.0    0.029879               Southeast Asia  \n",
       "     78.0    0.134980                    East Asia  \n",
       "2021 56.0   -0.258000  Latin America and Caribbean  "
      ]
     },
     "execution_count": 23,
     "metadata": {},
     "output_type": "execute_result"
    }
   ],
   "source": [
    "happiness_combined_df['Life Expectancy'] = happiness_combined_df['Life Expectancy'].round(2)\n",
    "happiness_combined_df=happiness_combined_df.sort_values(by = [\"Life Expectancy\"],ascending=[False])\n",
    "happiness_combined_df.head(5)\n",
    "                           \n",
    "                          \n",
    "#average_life_exp= happiness_combined_df.groupby['Country']['Life Expectancy']\n",
    "#average_life_exp.head(10)\n",
    "#happiness_combined_df.sort_values(by = [\"Life Expectancy\"],ascending=[False])\n"
   ]
  },
  {
   "cell_type": "code",
   "execution_count": 24,
   "id": "d6e9777d-902f-4805-a791-a9e72b327b2f",
   "metadata": {},
   "outputs": [
    {
     "data": {
      "text/plain": [
       "<AxesSubplot:>"
      ]
     },
     "execution_count": 24,
     "metadata": {},
     "output_type": "execute_result"
    },
    {
     "data": {
      "image/png": "[encoded data removed]",
      "text/plain": [
       "<Figure size 576x432 with 2 Axes>"
      ]
     },
     "metadata": {},
     "output_type": "display_data"
    }
   ],
   "source": [
    "##Correlation values between the data\n",
    "\n",
    "f,ax =plt.subplots(figsize=(8,6))\n",
    "sns.heatmap(happiness_combined_df.corr(),annot=True,linewidth =.5,cmap = 'Pastel2',fmt ='.2f',ax=ax)"
   ]
  },
  {
   "cell_type": "code",
   "execution_count": 25,
   "id": "237e7e35",
   "metadata": {},
   "outputs": [
    {
     "data": {
      "text/html": [
       "<div>\n",
       "<style scoped>\n",
       "    .dataframe tbody tr th:only-of-type {\n",
       "        vertical-align: middle;\n",
       "    }\n",
       "\n",
       "    .dataframe tbody tr th {\n",
       "        vertical-align: top;\n",
       "    }\n",
       "\n",
       "    .dataframe thead th {\n",
       "        text-align: right;\n",
       "    }\n",
       "</style>\n",
       "<table border=\"1\" class=\"dataframe\">\n",
       "  <thead>\n",
       "    <tr style=\"text-align: right;\">\n",
       "      <th></th>\n",
       "      <th></th>\n",
       "      <th>Country</th>\n",
       "      <th>Ladder Score</th>\n",
       "      <th>Freedom</th>\n",
       "      <th>GDP</th>\n",
       "      <th>Life Expectancy</th>\n",
       "      <th>Generosity</th>\n",
       "      <th>Regional indicator</th>\n",
       "    </tr>\n",
       "    <tr>\n",
       "      <th>Year</th>\n",
       "      <th>rank</th>\n",
       "      <th></th>\n",
       "      <th></th>\n",
       "      <th></th>\n",
       "      <th></th>\n",
       "      <th></th>\n",
       "      <th></th>\n",
       "      <th></th>\n",
       "    </tr>\n",
       "  </thead>\n",
       "  <tbody>\n",
       "    <tr>\n",
       "      <th rowspan=\"2\" valign=\"top\">2021</th>\n",
       "      <th>32.0</th>\n",
       "      <td>Brazil</td>\n",
       "      <td>6.3770</td>\n",
       "      <td>0.927000</td>\n",
       "      <td>11.488000</td>\n",
       "      <td>76.95</td>\n",
       "      <td>-0.018000</td>\n",
       "      <td>Latin America and Caribbean</td>\n",
       "    </tr>\n",
       "    <tr>\n",
       "      <th>77.0</th>\n",
       "      <td>Greece</td>\n",
       "      <td>5.4770</td>\n",
       "      <td>0.717000</td>\n",
       "      <td>11.000000</td>\n",
       "      <td>76.82</td>\n",
       "      <td>0.067000</td>\n",
       "      <td>Western Europe</td>\n",
       "    </tr>\n",
       "    <tr>\n",
       "      <th rowspan=\"2\" valign=\"top\">2020</th>\n",
       "      <th>31.0</th>\n",
       "      <td>Singapore</td>\n",
       "      <td>6.3771</td>\n",
       "      <td>0.926645</td>\n",
       "      <td>11.395521</td>\n",
       "      <td>76.80</td>\n",
       "      <td>0.029879</td>\n",
       "      <td>Southeast Asia</td>\n",
       "    </tr>\n",
       "    <tr>\n",
       "      <th>78.0</th>\n",
       "      <td>Hong Kong</td>\n",
       "      <td>5.5104</td>\n",
       "      <td>0.779834</td>\n",
       "      <td>10.934671</td>\n",
       "      <td>76.77</td>\n",
       "      <td>0.134980</td>\n",
       "      <td>East Asia</td>\n",
       "    </tr>\n",
       "    <tr>\n",
       "      <th>2021</th>\n",
       "      <th>56.0</th>\n",
       "      <td>Honduras</td>\n",
       "      <td>5.9400</td>\n",
       "      <td>0.796000</td>\n",
       "      <td>10.611000</td>\n",
       "      <td>75.10</td>\n",
       "      <td>-0.258000</td>\n",
       "      <td>Latin America and Caribbean</td>\n",
       "    </tr>\n",
       "  </tbody>\n",
       "</table>\n",
       "</div>"
      ],
      "text/plain": [
       "             Country  Ladder Score   Freedom        GDP  Life Expectancy  \\\n",
       "Year rank                                                                  \n",
       "2021 32.0     Brazil        6.3770  0.927000  11.488000            76.95   \n",
       "     77.0     Greece        5.4770  0.717000  11.000000            76.82   \n",
       "2020 31.0  Singapore        6.3771  0.926645  11.395521            76.80   \n",
       "     78.0  Hong Kong        5.5104  0.779834  10.934671            76.77   \n",
       "2021 56.0   Honduras        5.9400  0.796000  10.611000            75.10   \n",
       "\n",
       "           Generosity           Regional indicator  \n",
       "Year rank                                           \n",
       "2021 32.0   -0.018000  Latin America and Caribbean  \n",
       "     77.0    0.067000               Western Europe  \n",
       "2020 31.0    0.029879               Southeast Asia  \n",
       "     78.0    0.134980                    East Asia  \n",
       "2021 56.0   -0.258000  Latin America and Caribbean  "
      ]
     },
     "execution_count": 25,
     "metadata": {},
     "output_type": "execute_result"
    }
   ],
   "source": [
    "happiness_top5_df = happiness_combined_df.head(5)\n",
    "happiness_top5_df"
   ]
  },
  {
   "cell_type": "code",
   "execution_count": 26,
   "id": "89f8f030",
   "metadata": {
    "scrolled": true
   },
   "outputs": [
    {
     "data": {
      "application/vnd.plotly.v1+json": {
       "config": {
        "plotlyServerURL": "https://plot.ly"
       },
       "data": [
        {
         "coloraxis": "coloraxis",
         "geo": "geo",
         "hovertemplate": "<b>%{hovertext}</b><br><br>Regional indicator=%{location}<br>Life Expectancy=%{z}<extra></extra>",
         "hovertext": [
          "Brazil",
          "Greece",
          "Singapore",
          "Hong Kong",
          "Honduras"
         ],
         "locations": [
          "Latin America and Caribbean",
          "Western Europe",
          "Southeast Asia",
          "East Asia",
          "Latin America and Caribbean"
         ],
         "name": "",
         "type": "choropleth",
         "z": [
          76.95,
          76.82,
          76.8,
          76.77,
          75.1
         ]
        }
       ],
       "layout": {
        "autosize": true,
        "coloraxis": {
         "colorbar": {
          "title": {
           "text": "Life Expectancy"
          }
         },
         "colorscale": [
          [
           0,
           "#0d0887"
          ],
          [
           0.1111111111111111,
           "#46039f"
          ],
          [
           0.2222222222222222,
           "#7201a8"
          ],
          [
           0.3333333333333333,
           "#9c179e"
          ],
          [
           0.4444444444444444,
           "#bd3786"
          ],
          [
           0.5555555555555556,
           "#d8576b"
          ],
          [
           0.6666666666666666,
           "#ed7953"
          ],
          [
           0.7777777777777778,
           "#fb9f3a"
          ],
          [
           0.8888888888888888,
           "#fdca26"
          ],
          [
           1,
           "#f0f921"
          ]
         ]
        },
        "geo": {
         "center": {},
         "domain": {
          "x": [
           0,
           1
          ],
          "y": [
           0,
           1
          ]
         }
        },
        "legend": {
         "tracegroupgap": 0
        },
        "margin": {
         "t": 60
        },
        "template": {
         "data": {
          "bar": [
           {
            "error_x": {
             "color": "#2a3f5f"
            },
            "error_y": {
             "color": "#2a3f5f"
            },
            "marker": {
             "line": {
              "color": "#E5ECF6",
              "width": 0.5
             },
             "pattern": {
              "fillmode": "overlay",
              "size": 10,
              "solidity": 0.2
             }
            },
            "type": "bar"
           }
          ],
          "barpolar": [
           {
            "marker": {
             "line": {
              "color": "#E5ECF6",
              "width": 0.5
             },
             "pattern": {
              "fillmode": "overlay",
              "size": 10,
              "solidity": 0.2
             }
            },
            "type": "barpolar"
           }
          ],
          "carpet": [
           {
            "aaxis": {
             "endlinecolor": "#2a3f5f",
             "gridcolor": "white",
             "linecolor": "white",
             "minorgridcolor": "white",
             "startlinecolor": "#2a3f5f"
            },
            "baxis": {
             "endlinecolor": "#2a3f5f",
             "gridcolor": "white",
             "linecolor": "white",
             "minorgridcolor": "white",
             "startlinecolor": "#2a3f5f"
            },
            "type": "carpet"
           }
          ],
          "choropleth": [
           {
            "colorbar": {
             "outlinewidth": 0,
             "ticks": ""
            },
            "type": "choropleth"
           }
          ],
          "contour": [
           {
            "colorbar": {
             "outlinewidth": 0,
             "ticks": ""
            },
            "colorscale": [
             [
              0,
              "#0d0887"
             ],
             [
              0.1111111111111111,
              "#46039f"
             ],
             [
              0.2222222222222222,
              "#7201a8"
             ],
             [
              0.3333333333333333,
              "#9c179e"
             ],
             [
              0.4444444444444444,
              "#bd3786"
             ],
             [
              0.5555555555555556,
              "#d8576b"
             ],
             [
              0.6666666666666666,
              "#ed7953"
             ],
             [
              0.7777777777777778,
              "#fb9f3a"
             ],
             [
              0.8888888888888888,
              "#fdca26"
             ],
             [
              1,
              "#f0f921"
             ]
            ],
            "type": "contour"
           }
          ],
          "contourcarpet": [
           {
            "colorbar": {
             "outlinewidth": 0,
             "ticks": ""
            },
            "type": "contourcarpet"
           }
          ],
          "heatmap": [
           {
            "colorbar": {
             "outlinewidth": 0,
             "ticks": ""
            },
            "colorscale": [
             [
              0,
              "#0d0887"
             ],
             [
              0.1111111111111111,
              "#46039f"
             ],
             [
              0.2222222222222222,
              "#7201a8"
             ],
             [
              0.3333333333333333,
              "#9c179e"
             ],
             [
              0.4444444444444444,
              "#bd3786"
             ],
             [
              0.5555555555555556,
              "#d8576b"
             ],
             [
              0.6666666666666666,
              "#ed7953"
             ],
             [
              0.7777777777777778,
              "#fb9f3a"
             ],
             [
              0.8888888888888888,
              "#fdca26"
             ],
             [
              1,
              "#f0f921"
             ]
            ],
            "type": "heatmap"
           }
          ],
          "heatmapgl": [
           {
            "colorbar": {
             "outlinewidth": 0,
             "ticks": ""
            },
            "colorscale": [
             [
              0,
              "#0d0887"
             ],
             [
              0.1111111111111111,
              "#46039f"
             ],
             [
              0.2222222222222222,
              "#7201a8"
             ],
             [
              0.3333333333333333,
              "#9c179e"
             ],
             [
              0.4444444444444444,
              "#bd3786"
             ],
             [
              0.5555555555555556,
              "#d8576b"
             ],
             [
              0.6666666666666666,
              "#ed7953"
             ],
             [
              0.7777777777777778,
              "#fb9f3a"
             ],
             [
              0.8888888888888888,
              "#fdca26"
             ],
             [
              1,
              "#f0f921"
             ]
            ],
            "type": "heatmapgl"
           }
          ],
          "histogram": [
           {
            "marker": {
             "pattern": {
              "fillmode": "overlay",
              "size": 10,
              "solidity": 0.2
             }
            },
            "type": "histogram"
           }
          ],
          "histogram2d": [
           {
            "colorbar": {
             "outlinewidth": 0,
             "ticks": ""
            },
            "colorscale": [
             [
              0,
              "#0d0887"
             ],
             [
              0.1111111111111111,
              "#46039f"
             ],
             [
              0.2222222222222222,
              "#7201a8"
             ],
             [
              0.3333333333333333,
              "#9c179e"
             ],
             [
              0.4444444444444444,
              "#bd3786"
             ],
             [
              0.5555555555555556,
              "#d8576b"
             ],
             [
              0.6666666666666666,
              "#ed7953"
             ],
             [
              0.7777777777777778,
              "#fb9f3a"
             ],
             [
              0.8888888888888888,
              "#fdca26"
             ],
             [
              1,
              "#f0f921"
             ]
            ],
            "type": "histogram2d"
           }
          ],
          "histogram2dcontour": [
           {
            "colorbar": {
             "outlinewidth": 0,
             "ticks": ""
            },
            "colorscale": [
             [
              0,
              "#0d0887"
             ],
             [
              0.1111111111111111,
              "#46039f"
             ],
             [
              0.2222222222222222,
              "#7201a8"
             ],
             [
              0.3333333333333333,
              "#9c179e"
             ],
             [
              0.4444444444444444,
              "#bd3786"
             ],
             [
              0.5555555555555556,
              "#d8576b"
             ],
             [
              0.6666666666666666,
              "#ed7953"
             ],
             [
              0.7777777777777778,
              "#fb9f3a"
             ],
             [
              0.8888888888888888,
              "#fdca26"
             ],
             [
              1,
              "#f0f921"
             ]
            ],
            "type": "histogram2dcontour"
           }
          ],
          "mesh3d": [
           {
            "colorbar": {
             "outlinewidth": 0,
             "ticks": ""
            },
            "type": "mesh3d"
           }
          ],
          "parcoords": [
           {
            "line": {
             "colorbar": {
              "outlinewidth": 0,
              "ticks": ""
             }
            },
            "type": "parcoords"
           }
          ],
          "pie": [
           {
            "automargin": true,
            "type": "pie"
           }
          ],
          "scatter": [
           {
            "marker": {
             "colorbar": {
              "outlinewidth": 0,
              "ticks": ""
             }
            },
            "type": "scatter"
           }
          ],
          "scatter3d": [
           {
            "line": {
             "colorbar": {
              "outlinewidth": 0,
              "ticks": ""
             }
            },
            "marker": {
             "colorbar": {
              "outlinewidth": 0,
              "ticks": ""
             }
            },
            "type": "scatter3d"
           }
          ],
          "scattercarpet": [
           {
            "marker": {
             "colorbar": {
              "outlinewidth": 0,
              "ticks": ""
             }
            },
            "type": "scattercarpet"
           }
          ],
          "scattergeo": [
           {
            "marker": {
             "colorbar": {
              "outlinewidth": 0,
              "ticks": ""
             }
            },
            "type": "scattergeo"
           }
          ],
          "scattergl": [
           {
            "marker": {
             "colorbar": {
              "outlinewidth": 0,
              "ticks": ""
             }
            },
            "type": "scattergl"
           }
          ],
          "scattermapbox": [
           {
            "marker": {
             "colorbar": {
              "outlinewidth": 0,
              "ticks": ""
             }
            },
            "type": "scattermapbox"
           }
          ],
          "scatterpolar": [
           {
            "marker": {
             "colorbar": {
              "outlinewidth": 0,
              "ticks": ""
             }
            },
            "type": "scatterpolar"
           }
          ],
          "scatterpolargl": [
           {
            "marker": {
             "colorbar": {
              "outlinewidth": 0,
              "ticks": ""
             }
            },
            "type": "scatterpolargl"
           }
          ],
          "scatterternary": [
           {
            "marker": {
             "colorbar": {
              "outlinewidth": 0,
              "ticks": ""
             }
            },
            "type": "scatterternary"
           }
          ],
          "surface": [
           {
            "colorbar": {
             "outlinewidth": 0,
             "ticks": ""
            },
            "colorscale": [
             [
              0,
              "#0d0887"
             ],
             [
              0.1111111111111111,
              "#46039f"
             ],
             [
              0.2222222222222222,
              "#7201a8"
             ],
             [
              0.3333333333333333,
              "#9c179e"
             ],
             [
              0.4444444444444444,
              "#bd3786"
             ],
             [
              0.5555555555555556,
              "#d8576b"
             ],
             [
              0.6666666666666666,
              "#ed7953"
             ],
             [
              0.7777777777777778,
              "#fb9f3a"
             ],
             [
              0.8888888888888888,
              "#fdca26"
             ],
             [
              1,
              "#f0f921"
             ]
            ],
            "type": "surface"
           }
          ],
          "table": [
           {
            "cells": {
             "fill": {
              "color": "#EBF0F8"
             },
             "line": {
              "color": "white"
             }
            },
            "header": {
             "fill": {
              "color": "#C8D4E3"
             },
             "line": {
              "color": "white"
             }
            },
            "type": "table"
           }
          ]
         },
         "layout": {
          "annotationdefaults": {
           "arrowcolor": "#2a3f5f",
           "arrowhead": 0,
           "arrowwidth": 1
          },
          "autotypenumbers": "strict",
          "coloraxis": {
           "colorbar": {
            "outlinewidth": 0,
            "ticks": ""
           }
          },
          "colorscale": {
           "diverging": [
            [
             0,
             "#8e0152"
            ],
            [
             0.1,
             "#c51b7d"
            ],
            [
             0.2,
             "#de77ae"
            ],
            [
             0.3,
             "#f1b6da"
            ],
            [
             0.4,
             "#fde0ef"
            ],
            [
             0.5,
             "#f7f7f7"
            ],
            [
             0.6,
             "#e6f5d0"
            ],
            [
             0.7,
             "#b8e186"
            ],
            [
             0.8,
             "#7fbc41"
            ],
            [
             0.9,
             "#4d9221"
            ],
            [
             1,
             "#276419"
            ]
           ],
           "sequential": [
            [
             0,
             "#0d0887"
            ],
            [
             0.1111111111111111,
             "#46039f"
            ],
            [
             0.2222222222222222,
             "#7201a8"
            ],
            [
             0.3333333333333333,
             "#9c179e"
            ],
            [
             0.4444444444444444,
             "#bd3786"
            ],
            [
             0.5555555555555556,
             "#d8576b"
            ],
            [
             0.6666666666666666,
             "#ed7953"
            ],
            [
             0.7777777777777778,
             "#fb9f3a"
            ],
            [
             0.8888888888888888,
             "#fdca26"
            ],
            [
             1,
             "#f0f921"
            ]
           ],
           "sequentialminus": [
            [
             0,
             "#0d0887"
            ],
            [
             0.1111111111111111,
             "#46039f"
            ],
            [
             0.2222222222222222,
             "#7201a8"
            ],
            [
             0.3333333333333333,
             "#9c179e"
            ],
            [
             0.4444444444444444,
             "#bd3786"
            ],
            [
             0.5555555555555556,
             "#d8576b"
            ],
            [
             0.6666666666666666,
             "#ed7953"
            ],
            [
             0.7777777777777778,
             "#fb9f3a"
            ],
            [
             0.8888888888888888,
             "#fdca26"
            ],
            [
             1,
             "#f0f921"
            ]
           ]
          },
          "colorway": [
           "#636efa",
           "#EF553B",
           "#00cc96",
           "#ab63fa",
           "#FFA15A",
           "#19d3f3",
           "#FF6692",
           "#B6E880",
           "#FF97FF",
           "#FECB52"
          ],
          "font": {
           "color": "#2a3f5f"
          },
          "geo": {
           "bgcolor": "white",
           "lakecolor": "white",
           "landcolor": "#E5ECF6",
           "showlakes": true,
           "showland": true,
           "subunitcolor": "white"
          },
          "hoverlabel": {
           "align": "left"
          },
          "hovermode": "closest",
          "mapbox": {
           "style": "light"
          },
          "paper_bgcolor": "white",
          "plot_bgcolor": "#E5ECF6",
          "polar": {
           "angularaxis": {
            "gridcolor": "white",
            "linecolor": "white",
            "ticks": ""
           },
           "bgcolor": "#E5ECF6",
           "radialaxis": {
            "gridcolor": "white",
            "linecolor": "white",
            "ticks": ""
           }
          },
          "scene": {
           "xaxis": {
            "backgroundcolor": "#E5ECF6",
            "gridcolor": "white",
            "gridwidth": 2,
            "linecolor": "white",
            "showbackground": true,
            "ticks": "",
            "zerolinecolor": "white"
           },
           "yaxis": {
            "backgroundcolor": "#E5ECF6",
            "gridcolor": "white",
            "gridwidth": 2,
            "linecolor": "white",
            "showbackground": true,
            "ticks": "",
            "zerolinecolor": "white"
           },
           "zaxis": {
            "backgroundcolor": "#E5ECF6",
            "gridcolor": "white",
            "gridwidth": 2,
            "linecolor": "white",
            "showbackground": true,
            "ticks": "",
            "zerolinecolor": "white"
           }
          },
          "shapedefaults": {
           "line": {
            "color": "#2a3f5f"
           }
          },
          "ternary": {
           "aaxis": {
            "gridcolor": "white",
            "linecolor": "white",
            "ticks": ""
           },
           "baxis": {
            "gridcolor": "white",
            "linecolor": "white",
            "ticks": ""
           },
           "bgcolor": "#E5ECF6",
           "caxis": {
            "gridcolor": "white",
            "linecolor": "white",
            "ticks": ""
           }
          },
          "title": {
           "x": 0.05
          },
          "xaxis": {
           "automargin": true,
           "gridcolor": "white",
           "linecolor": "white",
           "ticks": "",
           "title": {
            "standoff": 15
           },
           "zerolinecolor": "white",
           "zerolinewidth": 2
          },
          "yaxis": {
           "automargin": true,
           "gridcolor": "white",
           "linecolor": "white",
           "ticks": "",
           "title": {
            "standoff": 15
           },
           "zerolinecolor": "white",
           "zerolinewidth": 2
          }
         }
        }
       }
      },
      "image/png": "[encoded data removed]",
      "text/html": [
       "<div>                            <div id=\"eed7065a-0399-4840-b693-c04ce3488063\" class=\"plotly-graph-div\" style=\"height:525px; width:100%;\"></div>            <script type=\"text/javascript\">                require([\"plotly\"], function(Plotly) {                    window.PLOTLYENV=window.PLOTLYENV || {};                                    if (document.getElementById(\"eed7065a-0399-4840-b693-c04ce3488063\")) {                    Plotly.newPlot(                        \"eed7065a-0399-4840-b693-c04ce3488063\",                        [{\"coloraxis\":\"coloraxis\",\"geo\":\"geo\",\"hovertemplate\":\"<b>%{hovertext}</b><br><br>Regional indicator=%{location}<br>Life Expectancy=%{z}<extra></extra>\",\"hovertext\":[\"Brazil\",\"Greece\",\"Singapore\",\"Hong Kong\",\"Honduras\"],\"locations\":[\"Latin America and Caribbean\",\"Western Europe\",\"Southeast Asia\",\"East Asia\",\"Latin America and Caribbean\"],\"name\":\"\",\"type\":\"choropleth\",\"z\":[76.95,76.82,76.8,76.77,75.1]}],                        {\"coloraxis\":{\"colorbar\":{\"title\":{\"text\":\"Life Expectancy\"}},\"colorscale\":[[0.0,\"#0d0887\"],[0.1111111111111111,\"#46039f\"],[0.2222222222222222,\"#7201a8\"],[0.3333333333333333,\"#9c179e\"],[0.4444444444444444,\"#bd3786\"],[0.5555555555555556,\"#d8576b\"],[0.6666666666666666,\"#ed7953\"],[0.7777777777777778,\"#fb9f3a\"],[0.8888888888888888,\"#fdca26\"],[1.0,\"#f0f921\"]]},\"geo\":{\"center\":{},\"domain\":{\"x\":[0.0,1.0],\"y\":[0.0,1.0]}},\"legend\":{\"tracegroupgap\":0},\"margin\":{\"t\":60},\"template\":{\"data\":{\"bar\":[{\"error_x\":{\"color\":\"#2a3f5f\"},\"error_y\":{\"color\":\"#2a3f5f\"},\"marker\":{\"line\":{\"color\":\"#E5ECF6\",\"width\":0.5},\"pattern\":{\"fillmode\":\"overlay\",\"size\":10,\"solidity\":0.2}},\"type\":\"bar\"}],\"barpolar\":[{\"marker\":{\"line\":{\"color\":\"#E5ECF6\",\"width\":0.5},\"pattern\":{\"fillmode\":\"overlay\",\"size\":10,\"solidity\":0.2}},\"type\":\"barpolar\"}],\"carpet\":[{\"aaxis\":{\"endlinecolor\":\"#2a3f5f\",\"gridcolor\":\"white\",\"linecolor\":\"white\",\"minorgridcolor\":\"white\",\"startlinecolor\":\"#2a3f5f\"},\"baxis\":{\"endlinecolor\":\"#2a3f5f\",\"gridcolor\":\"white\",\"linecolor\":\"white\",\"minorgridcolor\":\"white\",\"startlinecolor\":\"#2a3f5f\"},\"type\":\"carpet\"}],\"choropleth\":[{\"colorbar\":{\"outlinewidth\":0,\"ticks\":\"\"},\"type\":\"choropleth\"}],\"contour\":[{\"colorbar\":{\"outlinewidth\":0,\"ticks\":\"\"},\"colorscale\":[[0.0,\"#0d0887\"],[0.1111111111111111,\"#46039f\"],[0.2222222222222222,\"#7201a8\"],[0.3333333333333333,\"#9c179e\"],[0.4444444444444444,\"#bd3786\"],[0.5555555555555556,\"#d8576b\"],[0.6666666666666666,\"#ed7953\"],[0.7777777777777778,\"#fb9f3a\"],[0.8888888888888888,\"#fdca26\"],[1.0,\"#f0f921\"]],\"type\":\"contour\"}],\"contourcarpet\":[{\"colorbar\":{\"outlinewidth\":0,\"ticks\":\"\"},\"type\":\"contourcarpet\"}],\"heatmap\":[{\"colorbar\":{\"outlinewidth\":0,\"ticks\":\"\"},\"colorscale\":[[0.0,\"#0d0887\"],[0.1111111111111111,\"#46039f\"],[0.2222222222222222,\"#7201a8\"],[0.3333333333333333,\"#9c179e\"],[0.4444444444444444,\"#bd3786\"],[0.5555555555555556,\"#d8576b\"],[0.6666666666666666,\"#ed7953\"],[0.7777777777777778,\"#fb9f3a\"],[0.8888888888888888,\"#fdca26\"],[1.0,\"#f0f921\"]],\"type\":\"heatmap\"}],\"heatmapgl\":[{\"colorbar\":{\"outlinewidth\":0,\"ticks\":\"\"},\"colorscale\":[[0.0,\"#0d0887\"],[0.1111111111111111,\"#46039f\"],[0.2222222222222222,\"#7201a8\"],[0.3333333333333333,\"#9c179e\"],[0.4444444444444444,\"#bd3786\"],[0.5555555555555556,\"#d8576b\"],[0.6666666666666666,\"#ed7953\"],[0.7777777777777778,\"#fb9f3a\"],[0.8888888888888888,\"#fdca26\"],[1.0,\"#f0f921\"]],\"type\":\"heatmapgl\"}],\"histogram\":[{\"marker\":{\"pattern\":{\"fillmode\":\"overlay\",\"size\":10,\"solidity\":0.2}},\"type\":\"histogram\"}],\"histogram2d\":[{\"colorbar\":{\"outlinewidth\":0,\"ticks\":\"\"},\"colorscale\":[[0.0,\"#0d0887\"],[0.1111111111111111,\"#46039f\"],[0.2222222222222222,\"#7201a8\"],[0.3333333333333333,\"#9c179e\"],[0.4444444444444444,\"#bd3786\"],[0.5555555555555556,\"#d8576b\"],[0.6666666666666666,\"#ed7953\"],[0.7777777777777778,\"#fb9f3a\"],[0.8888888888888888,\"#fdca26\"],[1.0,\"#f0f921\"]],\"type\":\"histogram2d\"}],\"histogram2dcontour\":[{\"colorbar\":{\"outlinewidth\":0,\"ticks\":\"\"},\"colorscale\":[[0.0,\"#0d0887\"],[0.1111111111111111,\"#46039f\"],[0.2222222222222222,\"#7201a8\"],[0.3333333333333333,\"#9c179e\"],[0.4444444444444444,\"#bd3786\"],[0.5555555555555556,\"#d8576b\"],[0.6666666666666666,\"#ed7953\"],[0.7777777777777778,\"#fb9f3a\"],[0.8888888888888888,\"#fdca26\"],[1.0,\"#f0f921\"]],\"type\":\"histogram2dcontour\"}],\"mesh3d\":[{\"colorbar\":{\"outlinewidth\":0,\"ticks\":\"\"},\"type\":\"mesh3d\"}],\"parcoords\":[{\"line\":{\"colorbar\":{\"outlinewidth\":0,\"ticks\":\"\"}},\"type\":\"parcoords\"}],\"pie\":[{\"automargin\":true,\"type\":\"pie\"}],\"scatter\":[{\"marker\":{\"colorbar\":{\"outlinewidth\":0,\"ticks\":\"\"}},\"type\":\"scatter\"}],\"scatter3d\":[{\"line\":{\"colorbar\":{\"outlinewidth\":0,\"ticks\":\"\"}},\"marker\":{\"colorbar\":{\"outlinewidth\":0,\"ticks\":\"\"}},\"type\":\"scatter3d\"}],\"scattercarpet\":[{\"marker\":{\"colorbar\":{\"outlinewidth\":0,\"ticks\":\"\"}},\"type\":\"scattercarpet\"}],\"scattergeo\":[{\"marker\":{\"colorbar\":{\"outlinewidth\":0,\"ticks\":\"\"}},\"type\":\"scattergeo\"}],\"scattergl\":[{\"marker\":{\"colorbar\":{\"outlinewidth\":0,\"ticks\":\"\"}},\"type\":\"scattergl\"}],\"scattermapbox\":[{\"marker\":{\"colorbar\":{\"outlinewidth\":0,\"ticks\":\"\"}},\"type\":\"scattermapbox\"}],\"scatterpolar\":[{\"marker\":{\"colorbar\":{\"outlinewidth\":0,\"ticks\":\"\"}},\"type\":\"scatterpolar\"}],\"scatterpolargl\":[{\"marker\":{\"colorbar\":{\"outlinewidth\":0,\"ticks\":\"\"}},\"type\":\"scatterpolargl\"}],\"scatterternary\":[{\"marker\":{\"colorbar\":{\"outlinewidth\":0,\"ticks\":\"\"}},\"type\":\"scatterternary\"}],\"surface\":[{\"colorbar\":{\"outlinewidth\":0,\"ticks\":\"\"},\"colorscale\":[[0.0,\"#0d0887\"],[0.1111111111111111,\"#46039f\"],[0.2222222222222222,\"#7201a8\"],[0.3333333333333333,\"#9c179e\"],[0.4444444444444444,\"#bd3786\"],[0.5555555555555556,\"#d8576b\"],[0.6666666666666666,\"#ed7953\"],[0.7777777777777778,\"#fb9f3a\"],[0.8888888888888888,\"#fdca26\"],[1.0,\"#f0f921\"]],\"type\":\"surface\"}],\"table\":[{\"cells\":{\"fill\":{\"color\":\"#EBF0F8\"},\"line\":{\"color\":\"white\"}},\"header\":{\"fill\":{\"color\":\"#C8D4E3\"},\"line\":{\"color\":\"white\"}},\"type\":\"table\"}]},\"layout\":{\"annotationdefaults\":{\"arrowcolor\":\"#2a3f5f\",\"arrowhead\":0,\"arrowwidth\":1},\"autotypenumbers\":\"strict\",\"coloraxis\":{\"colorbar\":{\"outlinewidth\":0,\"ticks\":\"\"}},\"colorscale\":{\"diverging\":[[0,\"#8e0152\"],[0.1,\"#c51b7d\"],[0.2,\"#de77ae\"],[0.3,\"#f1b6da\"],[0.4,\"#fde0ef\"],[0.5,\"#f7f7f7\"],[0.6,\"#e6f5d0\"],[0.7,\"#b8e186\"],[0.8,\"#7fbc41\"],[0.9,\"#4d9221\"],[1,\"#276419\"]],\"sequential\":[[0.0,\"#0d0887\"],[0.1111111111111111,\"#46039f\"],[0.2222222222222222,\"#7201a8\"],[0.3333333333333333,\"#9c179e\"],[0.4444444444444444,\"#bd3786\"],[0.5555555555555556,\"#d8576b\"],[0.6666666666666666,\"#ed7953\"],[0.7777777777777778,\"#fb9f3a\"],[0.8888888888888888,\"#fdca26\"],[1.0,\"#f0f921\"]],\"sequentialminus\":[[0.0,\"#0d0887\"],[0.1111111111111111,\"#46039f\"],[0.2222222222222222,\"#7201a8\"],[0.3333333333333333,\"#9c179e\"],[0.4444444444444444,\"#bd3786\"],[0.5555555555555556,\"#d8576b\"],[0.6666666666666666,\"#ed7953\"],[0.7777777777777778,\"#fb9f3a\"],[0.8888888888888888,\"#fdca26\"],[1.0,\"#f0f921\"]]},\"colorway\":[\"#636efa\",\"#EF553B\",\"#00cc96\",\"#ab63fa\",\"#FFA15A\",\"#19d3f3\",\"#FF6692\",\"#B6E880\",\"#FF97FF\",\"#FECB52\"],\"font\":{\"color\":\"#2a3f5f\"},\"geo\":{\"bgcolor\":\"white\",\"lakecolor\":\"white\",\"landcolor\":\"#E5ECF6\",\"showlakes\":true,\"showland\":true,\"subunitcolor\":\"white\"},\"hoverlabel\":{\"align\":\"left\"},\"hovermode\":\"closest\",\"mapbox\":{\"style\":\"light\"},\"paper_bgcolor\":\"white\",\"plot_bgcolor\":\"#E5ECF6\",\"polar\":{\"angularaxis\":{\"gridcolor\":\"white\",\"linecolor\":\"white\",\"ticks\":\"\"},\"bgcolor\":\"#E5ECF6\",\"radialaxis\":{\"gridcolor\":\"white\",\"linecolor\":\"white\",\"ticks\":\"\"}},\"scene\":{\"xaxis\":{\"backgroundcolor\":\"#E5ECF6\",\"gridcolor\":\"white\",\"gridwidth\":2,\"linecolor\":\"white\",\"showbackground\":true,\"ticks\":\"\",\"zerolinecolor\":\"white\"},\"yaxis\":{\"backgroundcolor\":\"#E5ECF6\",\"gridcolor\":\"white\",\"gridwidth\":2,\"linecolor\":\"white\",\"showbackground\":true,\"ticks\":\"\",\"zerolinecolor\":\"white\"},\"zaxis\":{\"backgroundcolor\":\"#E5ECF6\",\"gridcolor\":\"white\",\"gridwidth\":2,\"linecolor\":\"white\",\"showbackground\":true,\"ticks\":\"\",\"zerolinecolor\":\"white\"}},\"shapedefaults\":{\"line\":{\"color\":\"#2a3f5f\"}},\"ternary\":{\"aaxis\":{\"gridcolor\":\"white\",\"linecolor\":\"white\",\"ticks\":\"\"},\"baxis\":{\"gridcolor\":\"white\",\"linecolor\":\"white\",\"ticks\":\"\"},\"bgcolor\":\"#E5ECF6\",\"caxis\":{\"gridcolor\":\"white\",\"linecolor\":\"white\",\"ticks\":\"\"}},\"title\":{\"x\":0.05},\"xaxis\":{\"automargin\":true,\"gridcolor\":\"white\",\"linecolor\":\"white\",\"ticks\":\"\",\"title\":{\"standoff\":15},\"zerolinecolor\":\"white\",\"zerolinewidth\":2},\"yaxis\":{\"automargin\":true,\"gridcolor\":\"white\",\"linecolor\":\"white\",\"ticks\":\"\",\"title\":{\"standoff\":15},\"zerolinecolor\":\"white\",\"zerolinewidth\":2}}}},                        {\"responsive\": true}                    ).then(function(){\n",
       "                            \n",
       "var gd = document.getElementById('eed7065a-0399-4840-b693-c04ce3488063');\n",
       "var x = new MutationObserver(function (mutations, observer) {{\n",
       "        var display = window.getComputedStyle(gd).display;\n",
       "        if (!display || display === 'none') {{\n",
       "            console.log([gd, 'removed!']);\n",
       "            Plotly.purge(gd);\n",
       "            observer.disconnect();\n",
       "        }}\n",
       "}});\n",
       "\n",
       "// Listen for the removal of the full notebook cells\n",
       "var notebookContainer = gd.closest('#notebook-container');\n",
       "if (notebookContainer) {{\n",
       "    x.observe(notebookContainer, {childList: true});\n",
       "}}\n",
       "\n",
       "// Listen for the clearing of the current output cell\n",
       "var outputEl = gd.closest('.output');\n",
       "if (outputEl) {{\n",
       "    x.observe(outputEl, {childList: true});\n",
       "}}\n",
       "\n",
       "                        })                };                });            </script>        </div>"
      ]
     },
     "metadata": {},
     "output_type": "display_data"
    }
   ],
   "source": [
    "import plotly.express as px\n",
    "\n",
    "df = px.data.gapminder().query(\"year==2021\")\n",
    "fig = px.choropleth(happiness_top5_df, locations='Regional indicator',\n",
    "                    color=\"Life Expectancy\", # lifeExp is a column of gapminder\n",
    "                    hover_name=\"Country\", # column to add to hover information\n",
    "                    color_continuous_scale=px.colors.sequential.Plasma)\n",
    "fig.show()"
   ]
  },
  {
   "cell_type": "code",
   "execution_count": 34,
   "id": "eb16a427-3de6-4cf9-8b8b-7321204a4ce8",
   "metadata": {},
   "outputs": [
    {
     "data": {
      "image/png": "[encoded data removed]",
      "text/plain": [
       "<Figure size 432x288 with 1 Axes>"
      ]
     },
     "metadata": {},
     "output_type": "display_data"
    }
   ],
   "source": [
    "##Freedom to make life choices vs Generosity vs Corruption\n",
    "ax = happiness_top5_df.plot(y=\"Life Expectancy\", x=\"Regional indicator\", kind=\"bar\", color='C3')\n",
    "happiness_top5_df.plot(y=\"Generosity\", x=\"Country\", kind=\"bar\", ax=ax, color=\"C1\",)\n",
    "happiness_top5_df.plot(y=\"GDP\", x=\"Country\", kind=\"bar\", ax=ax, color=\"C2\",)\n",
    "\n",
    "plt.show()"
   ]
  },
  {
   "cell_type": "code",
   "execution_count": 35,
   "id": "7b8fd19f",
   "metadata": {},
   "outputs": [
    {
     "data": {
      "text/plain": [
       "<matplotlib.legend.Legend at 0x1752a5abee0>"
      ]
     },
     "execution_count": 35,
     "metadata": {},
     "output_type": "execute_result"
    },
    {
     "data": {
      "image/png": "[encoded data removed]",
      "text/plain": [
       "<Figure size 432x288 with 1 Axes>"
      ]
     },
     "metadata": {},
     "output_type": "display_data"
    }
   ],
   "source": [
    "\n",
    "sns.set(style = 'dark')\n",
    "#fmri = sns.load_dataset(\"fmri\")\n",
    "g = sns.lineplot(x =\"Ladder Score\",\n",
    "             y =\"Life Expectancy\",\n",
    "             hue =\"Country\",\n",
    "             data = happiness_top5_df,\n",
    "             alpha=0.9, \n",
    "             linewidth=0.1)\n",
    "g.legend(loc='center left', bbox_to_anchor=(1.0,0.5), ncol=1)\n"
   ]
  },
  {
   "cell_type": "code",
   "execution_count": null,
   "id": "4c4da783",
   "metadata": {},
   "outputs": [],
   "source": []
  }
 ],
 "metadata": {
  "kernelspec": {
   "display_name": "Python 3",
   "language": "python",
   "name": "python3"
  },
  "language_info": {
   "codemirror_mode": {
    "name": "ipython",
    "version": 3
   },
   "file_extension": ".py",
   "mimetype": "text/x-python",
   "name": "python",
   "nbconvert_exporter": "python",
   "pygments_lexer": "ipython3",
   "version": "3.9.5"
  }
 },
 "nbformat": 4,
 "nbformat_minor": 5
}
